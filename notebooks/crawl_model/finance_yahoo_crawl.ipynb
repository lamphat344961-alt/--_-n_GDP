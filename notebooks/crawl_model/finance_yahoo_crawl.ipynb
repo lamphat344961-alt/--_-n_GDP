{
 "cells": [
  {
   "cell_type": "markdown",
   "id": "eac5f482",
   "metadata": {},
   "source": [
    "# Import thư viện"
   ]
  },
  {
   "cell_type": "code",
   "execution_count": 18,
   "id": "5f46bcf9",
   "metadata": {},
   "outputs": [],
   "source": [
    "import requests\n",
    "import pandas as pd\n",
    "from datetime import datetime, timezone\n",
    "from pathlib import Path"
   ]
  },
  {
   "cell_type": "code",
   "execution_count": null,
   "id": "b7e92304",
   "metadata": {},
   "outputs": [],
   "source": [
    "# ------------------- Thư mục lưu -------------------\n",
    "OUT = Path(r\"C:\\Users\\Admin\\Desktop\\TANPHAT\\hocotruong\\Năm ba 2025-2026\\HK1_A\\Thu thập và tiền xử lý dữ liệu\\Đồ_án_GDP\\data\\data_raw\")\n",
    "OUT.mkdir(parents=True, exist_ok=True)\n"
   ]
  },
  {
   "cell_type": "code",
   "execution_count": null,
   "id": "5ac454cd",
   "metadata": {},
   "outputs": [],
   "source": [
    "\n",
    "# ------------------- Yahoo Chart API -------------------\n",
    "def yahoo_chart(symbol: str, start_date=\"2015-01-01\", interval=\"1d\", close_only=True) -> pd.DataFrame:\n",
    "    \"\"\"\n",
    "    Crawl dữ liệu thô từ Yahoo Finance chart API.\n",
    "    Trả về DataFrame gồm giá theo ngày (close-only hoặc full OHLC).\n",
    "    \"\"\"\n",
    "    # 1️⃣ Tính thời gian epoch\n",
    "    dt1 = datetime.fromisoformat(start_date)\n",
    "    period1 = int(dt1.replace(tzinfo=timezone.utc).timestamp())\n",
    "    period2 = int(datetime.now(tz=timezone.utc).timestamp())\n",
    "\n",
    "    # 2️⃣ Gửi request đến API\n",
    "    url = f\"https://query1.finance.yahoo.com/v8/finance/chart/{symbol}\"\n",
    "    params = {\n",
    "        \"period1\": period1,\n",
    "        \"period2\": period2,\n",
    "        \"interval\": interval,\n",
    "        \"includePrePost\": \"true\",\n",
    "        \"events\": \"div,splits\",\n",
    "    }\n",
    "    r = requests.get(url, params=params, headers={\"User-Agent\": \"Mozilla/5.0\"}, timeout=30)\n",
    "    r.raise_for_status()\n",
    "\n",
    "    # 3️⃣ Parse dữ liệu JSON → DataFrame\n",
    "    result = r.json().get(\"chart\", {}).get(\"result\")\n",
    "    if not result:\n",
    "        raise RuntimeError(\"Không có dữ liệu trả về từ Yahoo API.\")\n",
    "    node = result[0]\n",
    "    ts = node.get(\"timestamp\", [])\n",
    "    ind = node.get(\"indicators\", {})\n",
    "    quote = (ind.get(\"quote\") or [{}])[0]\n",
    "    adj   = (ind.get(\"adjclose\") or [{}])[0]\n",
    "\n",
    "    # 4️⃣ Chuyển sang DataFrame\n",
    "    df = pd.DataFrame({\n",
    "        \"datetime_utc\": [datetime.fromtimestamp(t, tz=timezone.utc) for t in ts],\n",
    "        \"close\": quote.get(\"close\"),\n",
    "    })\n",
    "    if not close_only:\n",
    "        df[\"open\"] = quote.get(\"open\")\n",
    "        df[\"high\"] = quote.get(\"high\")\n",
    "        df[\"low\"] = quote.get(\"low\")\n",
    "        df[\"volume\"] = quote.get(\"volume\")\n",
    "        df[\"adjclose\"] = adj.get(\"adjclose\")\n",
    "\n",
    "    return df"
   ]
  },
  {
   "cell_type": "code",
   "execution_count": 20,
   "id": "b8fd37de",
   "metadata": {},
   "outputs": [
    {
     "name": "stdout",
     "output_type": "stream",
     "text": [
      "✅ VND=X (1d) -> 2816 dòng | Lưu: C:\\Users\\Admin\\Desktop\\TANPHAT\\hocotruong\\Năm ba 2025-2026\\HK1_A\\Thu thập và tiền xử lý dữ liệu\\Đồ_án_GDP\\data\\data_raw\\VND_X_1d.csv\n",
      "✅ BZ=F (1d) -> 2719 dòng | Lưu: C:\\Users\\Admin\\Desktop\\TANPHAT\\hocotruong\\Năm ba 2025-2026\\HK1_A\\Thu thập và tiền xử lý dữ liệu\\Đồ_án_GDP\\data\\data_raw\\BZ_F_1d.csv\n"
     ]
    }
   ],
   "source": [
    "# ------------------- Main Crawl -------------------\n",
    "if __name__ == \"__main__\":\n",
    "    symbols = [\n",
    "        (\"VND=X\", \"2015-01-01\", \"1d\"),\n",
    "        (\"BZ=F\", \"2015-01-01\", \"1d\"),\n",
    "       \n",
    "    ]\n",
    "\n",
    "    for sym, start, interval in symbols:\n",
    "        try:\n",
    "            df = yahoo_chart(sym, start_date=start, interval=interval, close_only=True)\n",
    "            out_path = OUT / f\"{sym.replace('=','_').replace('^','')}_{interval}.csv\"\n",
    "            df.to_csv(out_path, index=False, encoding=\"utf-8-sig\")\n",
    "            print(f\"✅ {sym} ({interval}) -> {len(df)} dòng | Lưu: {out_path}\")\n",
    "        except Exception as e:\n",
    "            print(f\"❌ Lỗi {sym}: {e}\")"
   ]
  }
 ],
 "metadata": {
  "kernelspec": {
   "display_name": "Python 3",
   "language": "python",
   "name": "python3"
  },
  "language_info": {
   "codemirror_mode": {
    "name": "ipython",
    "version": 3
   },
   "file_extension": ".py",
   "mimetype": "text/x-python",
   "name": "python",
   "nbconvert_exporter": "python",
   "pygments_lexer": "ipython3",
   "version": "3.12.3"
  }
 },
 "nbformat": 4,
 "nbformat_minor": 5
}
