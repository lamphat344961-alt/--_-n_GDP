{
 "cells": [
  {
   "cell_type": "markdown",
   "id": "eac5f482",
   "metadata": {},
   "source": [
    "# Import thư viện"
   ]
  },
  {
   "cell_type": "code",
   "execution_count": 1,
   "id": "5f46bcf9",
   "metadata": {},
   "outputs": [],
   "source": [
    "import requests\n",
    "import pandas as pd\n",
    "from datetime import datetime, timezone\n",
    "from pathlib import Path"
   ]
  },
  {
   "cell_type": "markdown",
   "id": "f061746a",
   "metadata": {},
   "source": [
    "# Tạo thư mục để lưu dữ liệu"
   ]
  },
  {
   "cell_type": "code",
   "execution_count": 2,
   "id": "b7e92304",
   "metadata": {},
   "outputs": [],
   "source": [
    "# ------------------- Thư mục lưu -------------------\n",
    "OUT = Path(r\"C:\\Users\\Admin\\Desktop\\TANPHAT\\hocotruong\\Năm ba 2025-2026\\HK1_A\\Thu thập và tiền xử lý dữ liệu\\Đồ_án_GDP\\data\\data_raw\")\n",
    "OUT.mkdir(parents=True, exist_ok=True)\n"
   ]
  },
  {
   "cell_type": "markdown",
   "id": "70aa8666",
   "metadata": {},
   "source": [
    "# Lấy dữ liệu trên Yahoo bằng API"
   ]
  },
  {
   "cell_type": "code",
   "execution_count": 3,
   "id": "5ac454cd",
   "metadata": {},
   "outputs": [],
   "source": [
    "# ------------------- Yahoo Chart API -------------------\n",
    "def yahoo_chart(\n",
    "    symbol: str,                # Mã cổ phiếu hoặc chỉ số cần lấy (VD: \"VNINDEX\", \"AAPL\", \"BTC-USD\")\n",
    "    start_date=\"2015-01-01\",    # Ngày bắt đầu lấy dữ liệu (ISO format: YYYY-MM-DD)\n",
    "    interval=\"1d\",              # Khoảng thời gian giữa các điểm dữ liệu (\"1d\" = theo ngày)\n",
    "    close_only=True             # Nếu True → chỉ lấy giá đóng cửa; False → lấy đủ OHLCV\n",
    ") -> pd.DataFrame:\n",
    "    \"\"\"\n",
    "    Crawl (thu thập) dữ liệu thô từ Yahoo Finance Chart API.\n",
    "    Trả về DataFrame chứa dữ liệu giá theo thời gian.\n",
    "    Có thể chọn lấy chỉ giá đóng cửa (close_only=True) hoặc toàn bộ OHLC.\n",
    "    \"\"\"\n",
    "\n",
    "    # ==========================================================\n",
    "    # 1️⃣ TÍNH THỜI GIAN EPOCH (tính bằng giây kể từ 1970-01-01 UTC)\n",
    "    # ==========================================================\n",
    "    dt1 = datetime.fromisoformat(start_date)                 # Chuyển chuỗi start_date thành đối tượng datetime\n",
    "    period1 = int(dt1.replace(tzinfo=timezone.utc).timestamp())  # Chuyển datetime → epoch (giây UTC)\n",
    "    period2 = int(datetime.now(tz=timezone.utc).timestamp())     # Lấy thời gian hiện tại (epoch) làm mốc kết thúc\n",
    "\n",
    "    # ==========================================================\n",
    "    # 2️⃣ GỬI REQUEST ĐẾN YAHOO FINANCE API\n",
    "    # ==========================================================\n",
    "    url = f\"https://query1.finance.yahoo.com/v8/finance/chart/{symbol}\"  # API endpoint\n",
    "    params = {\n",
    "        \"period1\": period1,             # Thời điểm bắt đầu (epoch)\n",
    "        \"period2\": period2,             # Thời điểm kết thúc (epoch)\n",
    "        \"interval\": interval,           # Khoảng cách dữ liệu (\"1d\" = daily, \"1wk\" = weekly, ...)\n",
    "        \"includePrePost\": \"true\",       # Bao gồm dữ liệu ngoài giờ (nếu có)\n",
    "        \"events\": \"div,splits\",         # Bao gồm cổ tức (dividends) và chia tách (splits)\n",
    "    }\n",
    "\n",
    "    # Gửi yêu cầu HTTP GET tới API với header giả lập trình duyệt thật\n",
    "    r = requests.get(\n",
    "        url,\n",
    "        params=params,\n",
    "        headers={\"User-Agent\": \"Mozilla/5.0\"},\n",
    "        timeout=30\n",
    "    )\n",
    "\n",
    "    # Nếu HTTP trả lỗi (404, 500, ...) → raise exception\n",
    "    r.raise_for_status()\n",
    "\n",
    "    # ==========================================================\n",
    "    # 3️⃣ PHÂN TÍCH JSON TRẢ VỀ (PARSE JSON → DataFrame)\n",
    "    # ==========================================================\n",
    "    result = r.json().get(\"chart\", {}).get(\"result\")  # Lấy phần dữ liệu chính từ JSON\n",
    "    if not result:\n",
    "        # Nếu không có dữ liệu → báo lỗi\n",
    "        raise RuntimeError(\"Không có dữ liệu trả về từ Yahoo API.\")\n",
    "\n",
    "    node = result[0]                     # Yahoo luôn trả về list chứa 1 node chính\n",
    "    ts = node.get(\"timestamp\", [])       # Danh sách timestamp (giây epoch)\n",
    "    ind = node.get(\"indicators\", {})     # Phần chứa các chỉ số giá\n",
    "    quote = (ind.get(\"quote\") or [{}])[0]    # Truy cập dictionary chứa open, high, low, close, volume\n",
    "    adj   = (ind.get(\"adjclose\") or [{}])[0] # Dữ liệu giá điều chỉnh (adjusted close)\n",
    "\n",
    "    # ==========================================================\n",
    "    # 4️⃣ CHUYỂN DỮ LIỆU THÀNH PANDAS DATAFRAME\n",
    "    # ==========================================================\n",
    "    df = pd.DataFrame({\n",
    "        # Chuyển từng timestamp thành dạng datetime UTC\n",
    "        \"datetime_utc\": [datetime.fromtimestamp(t, tz=timezone.utc) for t in ts],\n",
    "        \"close\": quote.get(\"close\"),     # Giá đóng cửa\n",
    "    })\n",
    "\n",
    "    # Nếu cần dữ liệu đầy đủ (close_only = False) → thêm các cột khác\n",
    "    if not close_only:\n",
    "        df[\"open\"] = quote.get(\"open\")       # Giá mở cửa\n",
    "        df[\"high\"] = quote.get(\"high\")       # Giá cao nhất\n",
    "        df[\"low\"] = quote.get(\"low\")         # Giá thấp nhất\n",
    "        df[\"volume\"] = quote.get(\"volume\")   # Khối lượng giao dịch\n",
    "        df[\"adjclose\"] = adj.get(\"adjclose\") # Giá đóng cửa đã điều chỉnh\n",
    "\n",
    "    # Trả về DataFrame hoàn chỉnh\n",
    "    return df\n"
   ]
  },
  {
   "cell_type": "markdown",
   "id": "cb9a97c7",
   "metadata": {},
   "source": [
    "# Dữ liệu cần thiết để crawl về và lưu dữ liệu tại:\n",
    "-Lưu: C:\\Users\\Admin\\Desktop\\TANPHAT\\hocotruong\\Năm ba 2025-2026\\HK1_A\\Thu thập và tiền xử lý dữ liệu\\Đồ_án_GDP\\data\\data_raw\\VND_X_1d.csv\n",
    "\n",
    "-Lưu: C:\\Users\\Admin\\Desktop\\TANPHAT\\hocotruong\\Năm ba 2025-2026\\HK1_A\\Thu thập và tiền xử lý dữ liệu\\Đồ_án_GDP\\data\\data_raw\\BZ_F_1d.csv"
   ]
  },
  {
   "cell_type": "code",
   "execution_count": 4,
   "id": "b8fd37de",
   "metadata": {},
   "outputs": [
    {
     "name": "stdout",
     "output_type": "stream",
     "text": [
      "❌ Lỗi VND=X: HTTPSConnectionPool(host='query1.finance.yahoo.com', port=443): Read timed out. (read timeout=30)\n",
      "✅ BZ=F (1d) -> 2730 dòng | Lưu: C:\\Users\\Admin\\Desktop\\TANPHAT\\hocotruong\\Năm ba 2025-2026\\HK1_A\\Thu thập và tiền xử lý dữ liệu\\Đồ_án_GDP\\data\\data_raw\\BZ_F_1d.csv\n"
     ]
    }
   ],
   "source": [
    "# ------------------- Main Crawl -------------------\n",
    "if __name__ == \"__main__\":\n",
    "    symbols = [\n",
    "        (\"VND=X\", \"2015-01-01\", \"1d\"),\n",
    "        (\"BZ=F\", \"2015-01-01\", \"1d\"),\n",
    "       \n",
    "    ]\n",
    "\n",
    "    for sym, start, interval in symbols:\n",
    "        try:\n",
    "            df = yahoo_chart(sym, start_date=start, interval=interval, close_only=True)\n",
    "            out_path = OUT / f\"{sym.replace('=','_').replace('^','')}_{interval}.csv\"\n",
    "            df.to_csv(out_path, index=False, encoding=\"utf-8-sig\")\n",
    "            print(f\"✅ {sym} ({interval}) -> {len(df)} dòng | Lưu: {out_path}\")\n",
    "        except Exception as e:\n",
    "            print(f\"❌ Lỗi {sym}: {e}\")"
   ]
  }
 ],
 "metadata": {
  "kernelspec": {
   "display_name": "Python 3",
   "language": "python",
   "name": "python3"
  },
  "language_info": {
   "codemirror_mode": {
    "name": "ipython",
    "version": 3
   },
   "file_extension": ".py",
   "mimetype": "text/x-python",
   "name": "python",
   "nbconvert_exporter": "python",
   "pygments_lexer": "ipython3",
   "version": "3.12.3"
  }
 },
 "nbformat": 4,
 "nbformat_minor": 5
}
