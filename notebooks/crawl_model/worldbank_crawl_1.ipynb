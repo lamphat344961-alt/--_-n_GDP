{
 "cells": [
  {
   "cell_type": "code",
   "execution_count": null,
   "id": "573438a3",
   "metadata": {},
   "outputs": [],
   "source": [
    "import requests\n",
    "import pandas as pd\n",
    "from pathlib import Path\n"
   ]
  },
  {
   "cell_type": "code",
   "execution_count": null,
   "id": "3fcd5265",
   "metadata": {},
   "outputs": [],
   "source": [
    "OUT = Path(r\"C:\\Users\\Admin\\Desktop\\TANPHAT\\hocotruong\\Năm ba 2025-2026\\HK1_A\\Thu thập và tiền xử lý dữ liệu\\Đồ_án_GDP\\data\\data_raw\")\n",
    "OUT.mkdir(parents=True, exist_ok=True)"
   ]
  },
  {
   "cell_type": "code",
   "execution_count": null,
   "id": "f1ce1000",
   "metadata": {},
   "outputs": [],
   "source": [
    "def crawl_worldbank_raw(indicator: str, country: str = \"VN\", per_page: int = 1000) -> pd.DataFrame:\n",
    "\n",
    "    base = f\"https://api.worldbank.org/v2/country/{country}/indicator/{indicator}\"\n",
    "    page = 1\n",
    "    all_rows = []\n",
    "\n",
    "    while True:\n",
    "        params = {\"format\": \"json\", \"per_page\": per_page, \"page\": page}\n",
    "        r = requests.get(base, params=params, timeout=30)\n",
    "        r.raise_for_status()\n",
    "        payload = r.json()\n",
    "\n",
    "        # payload = [metadata, data]\n",
    "        if not isinstance(payload, list) or len(payload) < 2 or payload[1] is None:\n",
    "            break\n",
    "\n",
    "        meta, data = payload[0], payload[1]\n",
    "        if not data:\n",
    "            break\n",
    "\n",
    "\n",
    "        for item in data:\n",
    "            row = {\n",
    "              \n",
    "                \"indicator_id\":      (item.get(\"indicator\") or {}).get(\"id\"),\n",
    "                \"indicator_value\":   (item.get(\"indicator\") or {}).get(\"value\"),\n",
    "                \"country_id\":        (item.get(\"country\") or {}).get(\"id\"),\n",
    "                \"country_value\":     (item.get(\"country\") or {}).get(\"value\"),\n",
    "                \"countryiso3code\":   item.get(\"countryiso3code\"),\n",
    "                \"date\":              item.get(\"date\"),\n",
    "                \"value\":             item.get(\"value\"),     \n",
    "                \"unit\":              item.get(\"unit\"),\n",
    "                \"obs_status\":        item.get(\"obs_status\"),\n",
    "                \"decimal\":           item.get(\"decimal\"),\n",
    "            }\n",
    "            all_rows.append(row)\n",
    "\n",
    "        # dừng nếu đã tới trang cuối\n",
    "        total_pages = meta.get(\"pages\", 1)\n",
    "        if page >= total_pages:\n",
    "            break\n",
    "        page += 1\n",
    "\n",
    "    # Đưa vào DataFrame \n",
    "    df = pd.DataFrame(all_rows, columns=[\n",
    "        \"indicator_id\",\"indicator_value\",\n",
    "        \"country_id\",\"country_value\",\"countryiso3code\",\n",
    "        \"date\",\"value\",\"unit\",\"obs_status\",\"decimal\"\n",
    "    ])\n",
    "    return df\n",
    "\n",
    "def save_worldbank_raw(indicator: str, country: str = \"VN\", out_dir: Path = None) -> Path:\n",
    "    df = crawl_worldbank_raw(indicator, country)\n",
    "    if out_dir is None:\n",
    "        out_dir = Path(\".\")\n",
    "    out_dir.mkdir(parents=True, exist_ok=True)\n",
    "    out_path = out_dir / f\"{indicator}_{country}_RAW.csv\"\n",
    "    df.to_csv(out_path, index=False, encoding=\"utf-8-sig\")\n",
    "    print(f\"✅ Lưu {len(df)} dòng -> {out_path}\")\n",
    "    return out_path\n"
   ]
  },
  {
   "cell_type": "code",
   "execution_count": null,
   "id": "ccf3681a",
   "metadata": {},
   "outputs": [],
   "source": [
    "# GDP (current USD)\n",
    "save_worldbank_raw(\"NY.GDP.MKTP.CD\", \"VN\", OUT)"
   ]
  },
  {
   "cell_type": "code",
   "execution_count": null,
   "id": "c15eae6f",
   "metadata": {},
   "outputs": [],
   "source": [
    "\n",
    "# FDI inflows (USD)\n",
    "save_worldbank_raw(\"BX.KLT.DINV.CD.WD\", \"VN\", OUT)"
   ]
  },
  {
   "cell_type": "code",
   "execution_count": null,
   "id": "0dd21349",
   "metadata": {},
   "outputs": [],
   "source": [
    "# GDP growth (%)\n",
    "save_worldbank_raw(\"NY.GDP.MKTP.KD.ZG\", \"VN\", OUT)\n"
   ]
  }
 ],
 "metadata": {
  "kernelspec": {
   "display_name": "Python 3",
   "language": "python",
   "name": "python3"
  },
  "language_info": {
   "codemirror_mode": {
    "name": "ipython",
    "version": 3
   },
   "file_extension": ".py",
   "mimetype": "text/x-python",
   "name": "python",
   "nbconvert_exporter": "python",
   "pygments_lexer": "ipython3",
   "version": "3.12.3"
  }
 },
 "nbformat": 4,
 "nbformat_minor": 5
}
