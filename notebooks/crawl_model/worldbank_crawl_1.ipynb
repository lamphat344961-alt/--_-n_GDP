{
 "cells": [
  {
   "cell_type": "markdown",
   "id": "5abb9d52",
   "metadata": {},
   "source": [
    "# Import thư viện"
   ]
  },
  {
   "cell_type": "code",
   "execution_count": null,
   "id": "573438a3",
   "metadata": {},
   "outputs": [],
   "source": [
    "import requests\n",
    "import pandas as pd\n",
    "from pathlib import Path\n"
   ]
  },
  {
   "cell_type": "markdown",
   "id": "26d6f90e",
   "metadata": {},
   "source": [
    "# Tạo nơi lưu trữ dữ liệu"
   ]
  },
  {
   "cell_type": "code",
   "execution_count": null,
   "id": "3fcd5265",
   "metadata": {},
   "outputs": [],
   "source": [
    "OUT = Path(r\"C:\\Users\\Admin\\Desktop\\TANPHAT\\hocotruong\\Năm ba 2025-2026\\HK1_A\\Thu thập và tiền xử lý dữ liệu\\Đồ_án_GDP\\data\\data_raw\")\n",
    "OUT.mkdir(parents=True, exist_ok=True)"
   ]
  },
  {
   "cell_type": "markdown",
   "id": "eba626c1",
   "metadata": {},
   "source": [
    "# Crawl dữ liệu trên worldbank bằng API"
   ]
  },
  {
   "cell_type": "code",
   "execution_count": null,
   "id": "f1ce1000",
   "metadata": {},
   "outputs": [],
   "source": [
    "# ===============================\n",
    "# 🌍 TẢI DỮ LIỆU TỪ WORLD BANK API\n",
    "# ===============================\n",
    "\n",
    "def crawl_worldbank_raw(indicator: str, country: str = \"VN\", per_page: int = 1000) -> pd.DataFrame:\n",
    "    \"\"\"\n",
    "    Hàm này tải dữ liệu chỉ số kinh tế (indicator) từ World Bank API theo quốc gia.\n",
    "    Trả về DataFrame chứa dữ liệu thô.\n",
    "    \n",
    "    Ví dụ:\n",
    "        indicator = \"NY.GDP.MKTP.CD\"   # GDP (current US$)\n",
    "        country   = \"VN\"               # Vietnam\n",
    "    \"\"\"\n",
    "\n",
    "    # URL cơ bản cho API World Bank (v2)\n",
    "    base = f\"https://api.worldbank.org/v2/country/{country}/indicator/{indicator}\"\n",
    "    page = 1                # Bắt đầu từ trang 1\n",
    "    all_rows = []           # Danh sách lưu toàn bộ các bản ghi\n",
    "\n",
    "    # =============================\n",
    "    # 🔁 VÒNG LẶP LẤY DỮ LIỆU TỪNG TRANG\n",
    "    # =============================\n",
    "    while True:\n",
    "        # Các tham số truy vấn (query params)\n",
    "        params = {\n",
    "            \"format\": \"json\",      # Định dạng trả về là JSON\n",
    "            \"per_page\": per_page,  # Số lượng bản ghi mỗi trang (mặc định 1000)\n",
    "            \"page\": page           # Trang hiện tại\n",
    "        }\n",
    "\n",
    "        # Gửi yêu cầu HTTP GET đến API World Bank\n",
    "        r = requests.get(base, params=params, timeout=30)\n",
    "        r.raise_for_status()  # Nếu có lỗi HTTP (404, 500, ...) → ném ngoại lệ\n",
    "\n",
    "        # Parse phản hồi JSON\n",
    "        payload = r.json()\n",
    "\n",
    "        # Dữ liệu World Bank có dạng [metadata, data]\n",
    "        # metadata: thông tin chung (tổng số trang, tổng số bản ghi, ...)\n",
    "        # data: danh sách các bản ghi cụ thể\n",
    "        if not isinstance(payload, list) or len(payload) < 2 or payload[1] is None:\n",
    "            break  # Nếu không hợp lệ → dừng\n",
    "\n",
    "        meta, data = payload[0], payload[1]\n",
    "        if not data:\n",
    "            break  # Nếu không còn dữ liệu → thoát\n",
    "\n",
    "        # =============================\n",
    "        # 🧩 CHUYỂN TỪNG ITEM TRONG JSON → DICTIONARY PYTHON\n",
    "        # =============================\n",
    "        for item in data:\n",
    "            row = {\n",
    "                \"indicator_id\":    (item.get(\"indicator\") or {}).get(\"id\"),     # Mã chỉ số (VD: NY.GDP.MKTP.CD)\n",
    "                \"indicator_value\": (item.get(\"indicator\") or {}).get(\"value\"),  # Tên chỉ số (VD: GDP (current US$))\n",
    "                \"country_id\":      (item.get(\"country\") or {}).get(\"id\"),       # Mã quốc gia (VD: VN)\n",
    "                \"country_value\":   (item.get(\"country\") or {}).get(\"value\"),    # Tên quốc gia (VD: Vietnam)\n",
    "                \"countryiso3code\": item.get(\"countryiso3code\"),                 # ISO3 code (VD: VNM)\n",
    "                \"date\":            item.get(\"date\"),                            # Năm dữ liệu (VD: 2023)\n",
    "                \"value\":           item.get(\"value\"),                           # Giá trị của chỉ số (VD: GDP = 409 billion)\n",
    "                \"unit\":            item.get(\"unit\"),                            # Đơn vị đo (thường là None)\n",
    "                \"obs_status\":      item.get(\"obs_status\"),                      # Trạng thái quan sát (thường None)\n",
    "                \"decimal\":         item.get(\"decimal\"),                         # Số chữ số thập phân\n",
    "            }\n",
    "            all_rows.append(row)  # Thêm vào danh sách tổng\n",
    "\n",
    "        # =============================\n",
    "        # ⏹️ KIỂM TRA XEM CÒN TRANG NÀO KHÔNG\n",
    "        # =============================\n",
    "        total_pages = meta.get(\"pages\", 1)  # Lấy tổng số trang từ metadata\n",
    "        if page >= total_pages:             # Nếu đã tới trang cuối → thoát\n",
    "            break\n",
    "        page += 1                           # Ngược lại → sang trang tiếp theo\n",
    "\n",
    "    # =============================\n",
    "    # 🧾 CHUYỂN THÀNH DATAFRAME PANDAS\n",
    "    # =============================\n",
    "    df = pd.DataFrame(all_rows, columns=[\n",
    "        \"indicator_id\", \"indicator_value\",\n",
    "        \"country_id\", \"country_value\", \"countryiso3code\",\n",
    "        \"date\", \"value\", \"unit\", \"obs_status\", \"decimal\"\n",
    "    ])\n",
    "\n",
    "    # Trả về DataFrame hoàn chỉnh\n",
    "    return df\n",
    "\n",
    "\n",
    "# ===============================\n",
    "# 💾 HÀM LƯU FILE CSV SAU KHI CRAWL\n",
    "# ===============================\n",
    "\n",
    "def save_worldbank_raw(indicator: str, country: str = \"VN\", out_dir: Path = None) -> Path:\n",
    "    \"\"\"\n",
    "    Gọi hàm crawl_worldbank_raw() để lấy dữ liệu, sau đó lưu ra file CSV.\n",
    "    Trả về đường dẫn file CSV đã lưu.\n",
    "    \"\"\"\n",
    "\n",
    "    # 1️⃣ Gọi hàm tải dữ liệu\n",
    "    df = crawl_worldbank_raw(indicator, country)\n",
    "\n",
    "    # 2️⃣ Nếu không truyền thư mục lưu → dùng thư mục hiện tại\n",
    "    if out_dir is None:\n",
    "        out_dir = Path(\".\")\n",
    "\n",
    "    # 3️⃣ Tạo thư mục nếu chưa tồn tại\n",
    "    out_dir.mkdir(parents=True, exist_ok=True)\n",
    "\n",
    "    # 4️⃣ Tạo đường dẫn file xuất\n",
    "    out_path = out_dir / f\"{indicator}_{country}_RAW.csv\"\n",
    "\n",
    "    # 5️⃣ Lưu DataFrame thành CSV (encoding UTF-8-sig để không lỗi font tiếng Việt)\n",
    "    df.to_csv(out_path, index=False, encoding=\"utf-8-sig\")\n",
    "\n",
    "    # 6️⃣ In thông báo kết quả ra console\n",
    "    print(f\"✅ Lưu {len(df)} dòng -> {out_path}\")\n",
    "\n",
    "    # 7️⃣\n"
   ]
  },
  {
   "cell_type": "markdown",
   "id": "5d11017e",
   "metadata": {},
   "source": [
    "Gửi request api trên worldbank và crawl dữ liệu về sau đó chuyển thành dataframe rồi lưu vào file \n",
    "\n",
    "Crawl những dữ liệu như sau:\n",
    "\n",
    "-GDP (USD hiện tại)\n",
    "\n",
    "-FDI inflows (Dòng vốn đầu tư trực tiếp nước ngoài / USD )\n",
    "\n",
    "-GDP growth (Tăng trưởng của GDP / % )"
   ]
  },
  {
   "cell_type": "markdown",
   "id": "b5f5a922",
   "metadata": {},
   "source": [
    "# Lưu dữ liệu ra file đã chỉ định\n"
   ]
  },
  {
   "cell_type": "code",
   "execution_count": null,
   "id": "ccf3681a",
   "metadata": {},
   "outputs": [],
   "source": [
    "# GDP (current USD)\n",
    "save_worldbank_raw(\"NY.GDP.MKTP.CD\", \"VN\", OUT)"
   ]
  },
  {
   "cell_type": "code",
   "execution_count": null,
   "id": "c15eae6f",
   "metadata": {},
   "outputs": [],
   "source": [
    "\n",
    "# FDI inflows (USD)\n",
    "save_worldbank_raw(\"BX.KLT.DINV.CD.WD\", \"VN\", OUT)"
   ]
  },
  {
   "cell_type": "code",
   "execution_count": null,
   "id": "0dd21349",
   "metadata": {},
   "outputs": [],
   "source": [
    "# GDP growth (%)\n",
    "save_worldbank_raw(\"NY.GDP.MKTP.KD.ZG\", \"VN\", OUT)\n"
   ]
  }
 ],
 "metadata": {
  "kernelspec": {
   "display_name": "Python 3",
   "language": "python",
   "name": "python3"
  },
  "language_info": {
   "codemirror_mode": {
    "name": "ipython",
    "version": 3
   },
   "file_extension": ".py",
   "mimetype": "text/x-python",
   "name": "python",
   "nbconvert_exporter": "python",
   "pygments_lexer": "ipython3",
   "version": "3.12.3"
  }
 },
 "nbformat": 4,
 "nbformat_minor": 5
}
