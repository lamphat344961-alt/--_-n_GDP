{
 "cells": [
  {
   "cell_type": "code",
   "execution_count": 14,
   "id": "cdb9e4e3",
   "metadata": {},
   "outputs": [],
   "source": [
    "import requests, pandas as pd\n",
    "import time\n",
    "from pathlib import Path\n",
    "from typing import Optional\n"
   ]
  },
  {
   "cell_type": "code",
   "execution_count": 15,
   "id": "76ae6ceb",
   "metadata": {},
   "outputs": [],
   "source": [
    "OUT = Path(r\"C:\\Users\\Admin\\Desktop\\TANPHAT\\hocotruong\\Năm ba 2025-2026\\HK1_A\\Thu thập và tiền xử lý dữ liệu\\Đồ_án_GDP\\data\\data_raw\")\n",
    "OUT.mkdir(parents=True, exist_ok=True)"
   ]
  },
  {
   "cell_type": "code",
   "execution_count": null,
   "id": "6b36950a",
   "metadata": {},
   "outputs": [],
   "source": [
    "BASE = \"https://cafef.vn/du-lieu/Ajax/PageNew/DataHistory/PriceHistory.ashx\"\n",
    "\n",
    "def fetch_vnindex_cafef_raw(\n",
    "    symbol: str = \"VNINDEX\",\n",
    "    pagesize: int = 5000,\n",
    "    pause: float = 0.2,\n",
    "    out_dir: Path = OUT\n",
    ") -> pd.DataFrame:\n",
    "\n",
    "\n",
    "    headers = {\"User-Agent\": \"Mozilla/5.0\"}\n",
    "    rows, page = [], 1\n",
    "\n",
    "    while True:\n",
    "        params = {\n",
    "            \"Symbol\": symbol,\n",
    "            \"StartDate\": \"\",\n",
    "            \"EndDate\": \"\",\n",
    "            \"PageIndex\": page,\n",
    "            \"PageSize\": pagesize\n",
    "        }\n",
    "        r = requests.get(BASE, params=params, headers=headers, timeout=30)\n",
    "        r.raise_for_status()\n",
    "        payload = r.json()\n",
    "        data = (payload.get(\"Data\") or {}).get(\"Data\") or []\n",
    "        if not data:\n",
    "            break\n",
    "\n",
    "        rows.extend(data)\n",
    "        if len(data) < pagesize:\n",
    "            break\n",
    "\n",
    "        page += 1\n",
    "        time.sleep(pause)\n",
    "\n",
    "    df = pd.DataFrame(rows)\n",
    "\n",
    "    # --- Lưu file CSV ---\n",
    "    out_path = out_dir / f\"{symbol}_CafeF_RAW.csv\"\n",
    "    df.to_csv(out_path, index=False, encoding=\"utf-8-sig\")\n",
    "    print(f\"✅ {symbol}: {len(df)} dòng | Đã lưu → {out_path}\")\n",
    "\n",
    "    return df"
   ]
  },
  {
   "cell_type": "code",
   "execution_count": 17,
   "id": "04ff0542",
   "metadata": {},
   "outputs": [
    {
     "name": "stdout",
     "output_type": "stream",
     "text": [
      "✅ VNINDEX: 6133 dòng | Đã lưu → C:\\Users\\Admin\\Desktop\\TANPHAT\\hocotruong\\Năm ba 2025-2026\\HK1_A\\Thu thập và tiền xử lý dữ liệu\\Đồ_án_GDP\\data\\data_raw\\VNINDEX_CafeF_RAW.csv\n"
     ]
    }
   ],
   "source": [
    "df_raw = fetch_vnindex_cafef_raw()"
   ]
  }
 ],
 "metadata": {
  "kernelspec": {
   "display_name": "Python 3",
   "language": "python",
   "name": "python3"
  },
  "language_info": {
   "codemirror_mode": {
    "name": "ipython",
    "version": 3
   },
   "file_extension": ".py",
   "mimetype": "text/x-python",
   "name": "python",
   "nbconvert_exporter": "python",
   "pygments_lexer": "ipython3",
   "version": "3.12.3"
  }
 },
 "nbformat": 4,
 "nbformat_minor": 5
}
