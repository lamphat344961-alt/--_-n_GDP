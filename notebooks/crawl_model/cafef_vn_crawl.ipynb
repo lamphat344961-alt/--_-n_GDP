{
 "cells": [
  {
   "cell_type": "code",
   "execution_count": 4,
   "id": "cdb9e4e3",
   "metadata": {},
   "outputs": [],
   "source": [
    "import requests, pandas as pd\n",
    "from datetime import datetime, timezone\n",
    "from pathlib import Path\n"
   ]
  },
  {
   "cell_type": "code",
   "execution_count": null,
   "id": "76ae6ceb",
   "metadata": {},
   "outputs": [],
   "source": [
    "OUT = Path(r\"C:\\Users\\Admin\\Desktop\\TANPHAT\\hocotruong\\Năm ba 2025-2026\\HK1_A\\Thu thập và tiền xử lý dữ liệu\\Đồ_án_GDP\\data\\data_raw\")\n",
    "OUT.mkdir(parents=True, exist_ok=True)"
   ]
  },
  {
   "cell_type": "code",
   "execution_count": null,
   "id": "6b36950a",
   "metadata": {},
   "outputs": [
    {
     "name": "stdout",
     "output_type": "stream",
     "text": [
      "✅ VNINDEX (CafeF) - Giá đóng cửa -> 2690 dòng | Lưu: C:\\Users\\Admin\\Desktop\\TANPHAT\\hocotruong\\Năm ba 2025-2026\\HK1_A\\Thu thập và tiền xử lý dữ liệu\\Đồ_án_GDP\\data\\data_raw\\VNINDEX_1d.csv\n"
     ]
    }
   ],
   "source": [
    "\n",
    "BASE = \"https://cafef.vn/du-lieu/Ajax/PageNew/DataHistory/PriceHistory.ashx\"\n",
    "\n",
    "def fetch_vnindex_cafef (start= \"2015-01-01\"):\n",
    "    rows, page, pagesize = [], 1 , 5000\n",
    "    headers = { \"User-Agent\" : \"Mozilla/5.0\" }\n",
    "    while True:\n",
    "        params = { \"Symbol\" : \"VNINDEX\", \"StartDate\" : \"\", \"EndDate\" : \"\", \"PageIndex\" : page, \"PageSize\" : pagesize }\n",
    "        r = requests.get(BASE, params=params, headers=headers, timeout=30)\n",
    "        r.raise_for_status()\n",
    "        data = (r.json().get(\"Data\") or {}).get(\"Data\") or []\n",
    "        if not data: break\n",
    "        rows.extend(data)\n",
    "        if len(data) < pagesize: break\n",
    "        page += 1\n",
    "\n",
    "    df = pd.DataFrame(rows)\n",
    "   \n",
    "    # Chỉ lấy cột thời gian và giá đóng cửa\n",
    "    out = pd.DataFrame({\n",
    "        \"datetime_utc\": df[\"datetime_utc\"],\n",
    "        \"close\": df[\"GiaDongCua\"]\n",
    "    })\n",
    "    return out\n",
    "\n",
    "\n"
   ]
  },
  {
   "cell_type": "code",
   "execution_count": null,
   "id": "04ff0542",
   "metadata": {},
   "outputs": [],
   "source": [
    "vnindex = fetch_vnindex_cafef(\"2015-01-01\")\n",
    "save_path = OUT / \"VNINDEX_1d.csv\"\n",
    "vnindex.to_csv(save_path, index=False, encoding=\"utf-8-sig\")\n",
    "print(f\"✅ VNINDEX (CafeF) - Giá đóng cửa -> {len(vnindex)} dòng | Lưu: {save_path}\")"
   ]
  }
 ],
 "metadata": {
  "kernelspec": {
   "display_name": "Python 3",
   "language": "python",
   "name": "python3"
  },
  "language_info": {
   "codemirror_mode": {
    "name": "ipython",
    "version": 3
   },
   "file_extension": ".py",
   "mimetype": "text/x-python",
   "name": "python",
   "nbconvert_exporter": "python",
   "pygments_lexer": "ipython3",
   "version": "3.12.3"
  }
 },
 "nbformat": 4,
 "nbformat_minor": 5
}
