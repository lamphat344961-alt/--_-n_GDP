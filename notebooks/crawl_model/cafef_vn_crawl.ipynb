{
 "cells": [
  {
   "cell_type": "code",
   "execution_count": 1,
   "id": "cdb9e4e3",
   "metadata": {},
   "outputs": [],
   "source": [
    "import requests, pandas as pd\n",
    "import time\n",
    "from pathlib import Path\n",
    "from typing import Optional\n"
   ]
  },
  {
   "cell_type": "markdown",
   "id": "48acc0e2",
   "metadata": {},
   "source": [
    "# Crawl dữ liệu và lấy dữ liệu về máy"
   ]
  },
  {
   "cell_type": "code",
   "execution_count": 2,
   "id": "76ae6ceb",
   "metadata": {},
   "outputs": [],
   "source": [
    "# tạo thư mục lưu trữ dữ liệu thô\n",
    "OUT = Path(r\"C:\\Users\\Admin\\Desktop\\TANPHAT\\hocotruong\\Năm ba 2025-2026\\HK1_A\\Thu thập và tiền xử lý dữ liệu\\Đồ_án_GDP\\data\\data_raw\")\n",
    "OUT.mkdir(parents=True, exist_ok=True)"
   ]
  },
  {
   "cell_type": "markdown",
   "id": "28ec396a",
   "metadata": {},
   "source": [
    "# Tải dữ liệu thành công và lưu thành file csv"
   ]
  },
  {
   "cell_type": "code",
   "execution_count": 3,
   "id": "6b36950a",
   "metadata": {},
   "outputs": [],
   "source": [
    "# Địa chỉ API của CafeF để lấy dữ liệu lịch sử giá chứng khoán\n",
    "BASE = \"https://cafef.vn/du-lieu/Ajax/PageNew/DataHistory/PriceHistory.ashx\"\n",
    "\n",
    "\n",
    "def fetch_vnindex_cafef_raw(\n",
    "    symbol: str = \"VNINDEX\",   # Mã chứng khoán cần tải (mặc định là VNINDEX)\n",
    "    pagesize: int = 5000,      # Số lượng bản ghi trên mỗi trang (CafeF giới hạn, thường 5000)\n",
    "    pause: float = 0.2,        # Thời gian tạm dừng giữa 2 lần gọi API để tránh bị chặn\n",
    "    out_dir: Path = OUT        # Thư mục lưu kết quả CSV (được định nghĩa ở nơi khác)\n",
    ") -> pd.DataFrame:\n",
    "    \"\"\"\n",
    "    Hàm này tải dữ liệu lịch sử giá của một mã chứng khoán từ CafeF.vn.\n",
    "    Dữ liệu được tải từng trang, ghép lại thành DataFrame và lưu ra CSV.\n",
    "    Trả về: pandas.DataFrame chứa toàn bộ dữ liệu thô.\n",
    "    \"\"\"\n",
    "\n",
    "    # Header giả lập trình duyệt thật, giúp tránh bị server từ chối (403 Forbidden)\n",
    "    headers = {\"User-Agent\": \"Mozilla/5.0\"}\n",
    "\n",
    "    # Khởi tạo danh sách chứa các dòng dữ liệu và biến đếm trang\n",
    "    rows, page = [], 1\n",
    "\n",
    "    # ========== VÒNG LẶP TẢI DỮ LIỆU ========== #\n",
    "    while True:\n",
    "        # Tham số truy vấn gửi lên API CafeF\n",
    "        params = {\n",
    "            \"Symbol\": symbol,       # Mã chứng khoán (VD: VNINDEX, VNM, HPG...)\n",
    "            \"StartDate\": \"\",        # Không giới hạn ngày bắt đầu\n",
    "            \"EndDate\": \"\",          # Không giới hạn ngày kết thúc\n",
    "            \"PageIndex\": page,      # Trang hiện tại (bắt đầu từ 1)\n",
    "            \"PageSize\": pagesize    # Số bản ghi mỗi trang\n",
    "        }\n",
    "\n",
    "        # Gửi yêu cầu HTTP GET đến API\n",
    "        r = requests.get(BASE, params=params, headers=headers, timeout=30)\n",
    "\n",
    "        # Nếu request thất bại (ví dụ lỗi 404, 500...), lệnh này sẽ dừng và báo lỗi ngay\n",
    "        r.raise_for_status()\n",
    "\n",
    "        # Chuyển phản hồi JSON thành dict Python\n",
    "        payload = r.json()\n",
    "\n",
    "        # Lấy phần dữ liệu chính từ payload (nằm trong payload[\"Data\"][\"Data\"])\n",
    "        data = (payload.get(\"Data\") or {}).get(\"Data\") or []\n",
    "\n",
    "        # Nếu không còn dữ liệu (trang trống) → thoát vòng lặp\n",
    "        if not data:\n",
    "            break\n",
    "\n",
    "        # Gộp dữ liệu của trang hiện tại vào danh sách tổng\n",
    "        rows.extend(data)\n",
    "\n",
    "        # Nếu số dòng nhỏ hơn pagesize, nghĩa là đã đến trang cuối cùng → dừng lại\n",
    "        if len(data) < pagesize:\n",
    "            break\n",
    "\n",
    "        # Tăng số trang lên 1 và nghỉ 0.2 giây để tránh bị server chặn\n",
    "        page += 1\n",
    "        time.sleep(pause)\n",
    "\n",
    "    # ========== TẠO DATAFRAME VÀ LƯU FILE ========== #\n",
    "\n",
    "    # Chuyển toàn bộ danh sách dữ liệu sang DataFrame pandas\n",
    "    df = pd.DataFrame(rows)\n",
    "\n",
    "    # Xác định đường dẫn xuất file CSV (VD: data_raw/VNINDEX_CafeF_RAW.csv)\n",
    "    out_path = out_dir / f\"{symbol}_CafeF_RAW.csv\"\n",
    "\n",
    "    # Lưu DataFrame thành file CSV với encoding hỗ trợ tiếng Việt\n",
    "    df.to_csv(out_path, index=False, encoding=\"utf-8-sig\")\n",
    "\n",
    "    # In thông báo ra màn hình: tên mã, số dòng, và đường dẫn file lưu\n",
    "    print(f\"✅ {symbol}: {len(df)} dòng | Đã lưu → {out_path}\")\n",
    "\n",
    "    # Trả về DataFrame để có thể dùng tiếp trong chương trình\n",
    "    return df"
   ]
  },
  {
   "cell_type": "code",
   "execution_count": 4,
   "id": "04ff0542",
   "metadata": {},
   "outputs": [
    {
     "name": "stdout",
     "output_type": "stream",
     "text": [
      "✅ VNINDEX: 6144 dòng | Đã lưu → C:\\Users\\Admin\\Desktop\\TANPHAT\\hocotruong\\Năm ba 2025-2026\\HK1_A\\Thu thập và tiền xử lý dữ liệu\\Đồ_án_GDP\\data\\data_raw\\VNINDEX_CafeF_RAW.csv\n"
     ]
    }
   ],
   "source": [
    "df_raw = fetch_vnindex_cafef_raw()"
   ]
  }
 ],
 "metadata": {
  "kernelspec": {
   "display_name": "Python 3",
   "language": "python",
   "name": "python3"
  },
  "language_info": {
   "codemirror_mode": {
    "name": "ipython",
    "version": 3
   },
   "file_extension": ".py",
   "mimetype": "text/x-python",
   "name": "python",
   "nbconvert_exporter": "python",
   "pygments_lexer": "ipython3",
   "version": "3.12.3"
  }
 },
 "nbformat": 4,
 "nbformat_minor": 5
}
