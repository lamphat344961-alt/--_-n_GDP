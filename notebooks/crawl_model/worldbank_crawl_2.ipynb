{
 "cells": [
  {
   "cell_type": "code",
   "execution_count": null,
   "id": "2eec0030",
   "metadata": {},
   "outputs": [],
   "source": [
    "import requests\n",
    "import pandas as pd\n",
    "from pathlib import Path\n"
   ]
  },
  {
   "cell_type": "code",
   "execution_count": null,
   "id": "65a97f63",
   "metadata": {},
   "outputs": [],
   "source": [
    "OUT = Path(r\"C:\\Users\\Admin\\Desktop\\TANPHAT\\hocotruong\\Năm ba 2025-2026\\HK1_A\\Thu thập và tiền xử lý dữ liệu\\Đồ_án_GDP\\data\\data_raw\")\n",
    "OUT.mkdir(parents=True, exist_ok=True)"
   ]
  },
  {
   "cell_type": "code",
   "execution_count": null,
   "id": "5d4df43c",
   "metadata": {},
   "outputs": [],
   "source": [
    "def crawl_worldbank_raw(indicator: str, country: str = \"VN\", out_dir: Path = OUT):\n",
    "    \"\"\"\n",
    "    Lấy dữ liệu World Bank 'thô': giữ nguyên NaN, không ép kiểu, không sort.\n",
    "    \"\"\"\n",
    "    base = f\"https://api.worldbank.org/v2/country/{country}/indicator/{indicator}\"\n",
    "    page, per_page, all_rows = 1, 1000, []\n",
    "\n",
    "    while True:\n",
    "        r = requests.get(base, params={\"format\": \"json\", \"per_page\": per_page, \"page\": page}, timeout=30)\n",
    "        r.raise_for_status()\n",
    "        payload = r.json()\n",
    "        if not isinstance(payload, list) or len(payload) < 2 or payload[1] is None:\n",
    "            break\n",
    "\n",
    "        meta, data = payload[0], payload[1]\n",
    "        if not data: break\n",
    "        for item in data:\n",
    "            all_rows.append({\n",
    "                \"indicator_id\": (item.get(\"indicator\") or {}).get(\"id\"),\n",
    "                \"indicator_value\": (item.get(\"indicator\") or {}).get(\"value\"),\n",
    "                \"country_id\": (item.get(\"country\") or {}).get(\"id\"),\n",
    "                \"country_value\": (item.get(\"country\") or {}).get(\"value\"),\n",
    "                \"countryiso3code\": item.get(\"countryiso3code\"),\n",
    "                \"date\": item.get(\"date\"),\n",
    "                \"value\": item.get(\"value\"),      \n",
    "                \"unit\": item.get(\"unit\"),\n",
    "                \"obs_status\": item.get(\"obs_status\"),\n",
    "                \"decimal\": item.get(\"decimal\"),\n",
    "            })\n",
    "        if page >= meta.get(\"pages\", 1): break\n",
    "        page += 1\n",
    "\n",
    "    df = pd.DataFrame(all_rows, columns=[\n",
    "        \"indicator_id\",\"indicator_value\",\"country_id\",\"country_value\",\n",
    "        \"countryiso3code\",\"date\",\"value\",\"unit\",\"obs_status\",\"decimal\"\n",
    "    ])\n",
    "    out_path = out_dir / f\"{indicator}_{country}_WB_RAW.csv\"\n",
    "    df.to_csv(out_path, index=False, encoding=\"utf-8-sig\")\n",
    "    print(f\"✅ WorldBank {indicator} ({country}) -> {len(df)} dòng | {out_path}\")\n",
    "    return df"
   ]
  },
  {
   "cell_type": "code",
   "execution_count": null,
   "id": "7e5f1c56",
   "metadata": {},
   "outputs": [],
   "source": [
    " # Inflation (annual %)\n",
    "wb_inflation_pct = crawl_worldbank_raw(\"FP.CPI.TOTL.ZG\", \"VN\",OUT) "
   ]
  },
  {
   "cell_type": "code",
   "execution_count": null,
   "id": "87eb3d6f",
   "metadata": {},
   "outputs": [],
   "source": [
    "# CPI index (2010=100)\n",
    "wb_cpi_index     = crawl_worldbank_raw(\"FP.CPI.TOTL\",    \"VN\",OUT)  "
   ]
  }
 ],
 "metadata": {
  "language_info": {
   "name": "python"
  }
 },
 "nbformat": 4,
 "nbformat_minor": 5
}
