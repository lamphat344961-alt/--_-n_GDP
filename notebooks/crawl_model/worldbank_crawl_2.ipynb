{
 "cells": [
  {
   "cell_type": "markdown",
   "id": "e3ff3177",
   "metadata": {},
   "source": [
    "# Import thư viện "
   ]
  },
  {
   "cell_type": "code",
   "execution_count": null,
   "id": "2eec0030",
   "metadata": {},
   "outputs": [],
   "source": [
    "import requests\n",
    "import pandas as pd\n",
    "from pathlib import Path\n"
   ]
  },
  {
   "cell_type": "markdown",
   "id": "ca72dc6d",
   "metadata": {},
   "source": [
    "# Tạo nơi để lưu dữ liệu"
   ]
  },
  {
   "cell_type": "code",
   "execution_count": null,
   "id": "65a97f63",
   "metadata": {},
   "outputs": [],
   "source": [
    "OUT = Path(r\"C:\\Users\\Admin\\Desktop\\TANPHAT\\hocotruong\\Năm ba 2025-2026\\HK1_A\\Thu thập và tiền xử lý dữ liệu\\Đồ_án_GDP\\data\\data_raw\")\n",
    "OUT.mkdir(parents=True, exist_ok=True)"
   ]
  },
  {
   "cell_type": "markdown",
   "id": "19ca646b",
   "metadata": {},
   "source": [
    "# Lấy dữ liệu từ WorldBank bằng Api"
   ]
  },
  {
   "cell_type": "code",
   "execution_count": null,
   "id": "5d4df43c",
   "metadata": {},
   "outputs": [],
   "source": [
    "def crawl_worldbank_raw(indicator: str, country: str = \"VN\", out_dir: Path = OUT):\n",
    "    \"\"\"\n",
    "    📘 Mô tả:\n",
    "    Lấy dữ liệu thô (raw) từ World Bank API cho một chỉ số kinh tế cụ thể (indicator).\n",
    "    - Giữ nguyên giá trị NaN\n",
    "    - Không ép kiểu dữ liệu\n",
    "    - Không sắp xếp lại (giữ đúng thứ tự API trả về)\n",
    "    - Lưu dữ liệu ra CSV\n",
    "    \n",
    "    Ví dụ:\n",
    "        crawl_worldbank_raw(\"NY.GDP.MKTP.CD\", \"VN\")  # GDP của Việt Nam\n",
    "    \"\"\"\n",
    "\n",
    "    # ----------------------------\n",
    "    # 1️⃣ Cấu hình API cơ bản\n",
    "    # ----------------------------\n",
    "    base = f\"https://api.worldbank.org/v2/country/{country}/indicator/{indicator}\"  # URL API World Bank\n",
    "    page, per_page, all_rows = 1, 1000, []  # Trang đầu tiên, mỗi trang tối đa 1000 dòng, danh sách chứa dữ liệu\n",
    "\n",
    "    # ----------------------------\n",
    "    # 2️⃣ Lặp qua từng trang (phân trang API)\n",
    "    # ----------------------------\n",
    "    while True:\n",
    "        # Gửi yêu cầu HTTP GET đến API, yêu cầu dữ liệu JSON\n",
    "        r = requests.get(\n",
    "            base,\n",
    "            params={\"format\": \"json\", \"per_page\": per_page, \"page\": page},\n",
    "            timeout=30\n",
    "        )\n",
    "\n",
    "        # Nếu request lỗi HTTP (404, 500, timeout, ...) → ném lỗi để dừng\n",
    "        r.raise_for_status()\n",
    "\n",
    "        # Parse phản hồi JSON từ server\n",
    "        payload = r.json()\n",
    "\n",
    "        # Kiểm tra tính hợp lệ của payload\n",
    "        # World Bank API trả dạng [metadata, data]\n",
    "        if not isinstance(payload, list) or len(payload) < 2 or payload[1] is None:\n",
    "            break  # Nếu không hợp lệ hoặc hết dữ liệu → thoát vòng lặp\n",
    "\n",
    "        # Tách metadata và dữ liệu thật\n",
    "        meta, data = payload[0], payload[1]\n",
    "\n",
    "        # Nếu không có dữ liệu (trang trống) → kết thúc\n",
    "        if not data:\n",
    "            break\n",
    "\n",
    "        # ----------------------------\n",
    "        # 3️⃣ Duyệt từng phần tử (item) trong danh sách dữ liệu\n",
    "        # ----------------------------\n",
    "        for item in data:\n",
    "            all_rows.append({\n",
    "                \"indicator_id\":    (item.get(\"indicator\") or {}).get(\"id\"),       # Mã chỉ số (VD: NY.GDP.MKTP.CD)\n",
    "                \"indicator_value\": (item.get(\"indicator\") or {}).get(\"value\"),    # Tên chỉ số (VD: GDP (current US$))\n",
    "                \"country_id\":      (item.get(\"country\") or {}).get(\"id\"),         # Mã quốc gia (VD: VN)\n",
    "                \"country_value\":   (item.get(\"country\") or {}).get(\"value\"),      # Tên quốc gia (VD: Vietnam)\n",
    "                \"countryiso3code\": item.get(\"countryiso3code\"),                   # ISO3 code (VD: VNM)\n",
    "                \"date\":            item.get(\"date\"),                              # Năm (VD: 2023)\n",
    "                \"value\":           item.get(\"value\"),                             # Giá trị của chỉ số (VD: GDP = 409B)\n",
    "                \"unit\":            item.get(\"unit\"),                              # Đơn vị (thường None)\n",
    "                \"obs_status\":      item.get(\"obs_status\"),                        # Trạng thái quan sát (thường None)\n",
    "                \"decimal\":         item.get(\"decimal\"),                           # Số chữ số thập phân\n",
    "            })\n",
    "\n",
    "        # ----------------------------\n",
    "        # 4️⃣ Kiểm tra đã đến trang cuối chưa\n",
    "        # ----------------------------\n",
    "        if page >= meta.get(\"pages\", 1):  # Nếu page hiện tại >= tổng số trang\n",
    "            break                         # Dừng vòng lặp\n",
    "        page += 1                         # Ngược lại → sang trang kế tiếp\n",
    "\n",
    "    # ----------------------------\n",
    "    # 5️⃣ Tạo DataFrame từ danh sách all_rows\n",
    "    # ----------------------------\n",
    "    df = pd.DataFrame(all_rows, columns=[\n",
    "        \"indicator_id\", \"indicator_value\",\n",
    "        \"country_id\", \"country_value\",\n",
    "        \"countryiso3code\", \"date\",\n",
    "        \"value\", \"unit\", \"obs_status\", \"decimal\"\n",
    "    ])\n",
    "\n",
    "    # ----------------------------\n",
    "    # 6️⃣ Lưu kết quả ra file CSV\n",
    "    # ----------------------------\n",
    "    out_path = out_dir / f\"{indicator}_{country}_WB_RAW.csv\"  # Tên file xuất\n",
    "    df.to_csv(out_path, index=False, encoding=\"utf-8-sig\")    # Lưu với encoding tránh lỗi font tiếng Việt\n",
    "\n",
    "    # ----------------------------\n",
    "    # 7️⃣ In kết quả ra màn hình\n",
    "    # ----------------------------\n",
    "    print(f\"✅ WorldBank {indicator} ({country}) -> {len(df)} dòng | {out_path}\")\n",
    "\n",
    "    # ----------------------------\n",
    "    # 8️⃣ Trả về DataFrame để tiếp tục xử lý\n",
    "    # ----------------------------\n",
    "    return df\n"
   ]
  },
  {
   "cell_type": "markdown",
   "id": "29fb665b",
   "metadata": {},
   "source": [
    "Code chính để crawl dữ liệu từ WorldBank bằng Api\n",
    "\n",
    "Những dữ liệu crawl chính:\n",
    "\n",
    "-Inflation (Lạm phát / % )\n",
    "\n",
    "-CPI index (Chỉ số giá tiêu dùng 2010)\n",
    "\n",
    "Lưu dữ liệu vào file đã chỉ định "
   ]
  },
  {
   "cell_type": "code",
   "execution_count": null,
   "id": "7e5f1c56",
   "metadata": {},
   "outputs": [],
   "source": [
    " # Inflation (annual %)\n",
    "wb_inflation_pct = crawl_worldbank_raw(\"FP.CPI.TOTL.ZG\", \"VN\",OUT) "
   ]
  },
  {
   "cell_type": "code",
   "execution_count": null,
   "id": "87eb3d6f",
   "metadata": {},
   "outputs": [],
   "source": [
    "# CPI index (2010=100)\n",
    "wb_cpi_index     = crawl_worldbank_raw(\"FP.CPI.TOTL\",    \"VN\",OUT)  "
   ]
  }
 ],
 "metadata": {
  "language_info": {
   "name": "python"
  }
 },
 "nbformat": 4,
 "nbformat_minor": 5
}
