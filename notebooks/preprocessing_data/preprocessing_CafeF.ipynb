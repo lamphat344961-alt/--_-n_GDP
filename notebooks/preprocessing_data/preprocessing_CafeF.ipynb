{
 "cells": [
  {
   "cell_type": "markdown",
   "id": "2d57bcc6",
   "metadata": {},
   "source": [
    "# Import thư viện"
   ]
  },
  {
   "cell_type": "code",
   "execution_count": null,
   "id": "f4157935",
   "metadata": {},
   "outputs": [],
   "source": [
    "import pandas as pd "
   ]
  },
  {
   "cell_type": "markdown",
   "id": "87cc63ea",
   "metadata": {},
   "source": [
    "# Đọc file csv"
   ]
  },
  {
   "cell_type": "code",
   "execution_count": null,
   "id": "ecd6e632",
   "metadata": {},
   "outputs": [],
   "source": [
    "# VN-Index (daily)\n",
    "df_vnindex = pd.read_csv(r\"C:\\Users\\Admin\\Desktop\\TANPHAT\\hocotruong\\Năm ba 2025-2026\\HK1_A\\Thu thập và tiền xử lý dữ liệu\\Đồ_án_GDP\\data\\data_raw\\VNINDEX_CafeF_RAW.csv\")  "
   ]
  },
  {
   "cell_type": "markdown",
   "id": "b295e227",
   "metadata": {},
   "source": [
    "# Khám phá dữ liệu sơ bộ"
   ]
  },
  {
   "cell_type": "code",
   "execution_count": null,
   "id": "fdceeb44",
   "metadata": {},
   "outputs": [],
   "source": [
    "df_vnindex.head() "
   ]
  },
  {
   "cell_type": "code",
   "execution_count": null,
   "id": "e30dd14d",
   "metadata": {},
   "outputs": [],
   "source": [
    "df_vnindex.info()"
   ]
  },
  {
   "cell_type": "code",
   "execution_count": null,
   "id": "82a9cc95",
   "metadata": {},
   "outputs": [],
   "source": [
    "df_vnindex.columns"
   ]
  },
  {
   "cell_type": "code",
   "execution_count": null,
   "id": "350a8810",
   "metadata": {},
   "outputs": [],
   "source": [
    "df_vnindex.isna().sum()"
   ]
  },
  {
   "cell_type": "markdown",
   "id": "23fe1d85",
   "metadata": {},
   "source": [
    "# Giữ cột cần thiết "
   ]
  },
  {
   "cell_type": "code",
   "execution_count": null,
   "id": "2bae8885",
   "metadata": {},
   "outputs": [
    {
     "ename": "NameError",
     "evalue": "name 'df_vnindex' is not defined",
     "output_type": "error",
     "traceback": [
      "\u001b[31m---------------------------------------------------------------------------\u001b[39m",
      "\u001b[31mNameError\u001b[39m                                 Traceback (most recent call last)",
      "\u001b[36mCell\u001b[39m\u001b[36m \u001b[39m\u001b[32mIn[1]\u001b[39m\u001b[32m, line 1\u001b[39m\n\u001b[32m----> \u001b[39m\u001b[32m1\u001b[39m df_vnindex_clean = \u001b[43mdf_vnindex\u001b[49m.loc[:,[\u001b[33m'\u001b[39m\u001b[33mNgay\u001b[39m\u001b[33m'\u001b[39m,\u001b[33m'\u001b[39m\u001b[33mGiaDongCua\u001b[39m\u001b[33m'\u001b[39m]]\n",
      "\u001b[31mNameError\u001b[39m: name 'df_vnindex' is not defined"
     ]
    }
   ],
   "source": [
    "df_vnindex_clean = df_vnindex.loc[:,['Ngay','GiaDongCua']]"
   ]
  },
  {
   "cell_type": "markdown",
   "id": "cbf1a8de",
   "metadata": {},
   "source": [
    "# Xử lý và chuyển datetime"
   ]
  },
  {
   "cell_type": "code",
   "execution_count": null,
   "id": "13b81e4f",
   "metadata": {},
   "outputs": [],
   "source": [
    "# Xử lý cột ngày tháng\n",
    "# Chuyển sang datetime \n",
    "df_vnindex_clean['Ngay'] = pd.to_datetime(df_vnindex_clean['Ngay'])"
   ]
  },
  {
   "cell_type": "markdown",
   "id": "f9bb291d",
   "metadata": {},
   "source": [
    "# Làm sạch và chuẩn hóa tên cột dữ liệu , chuyển sang Tiếng Anh"
   ]
  },
  {
   "cell_type": "code",
   "execution_count": null,
   "id": "0e8b908a",
   "metadata": {},
   "outputs": [],
   "source": [
    "df_vnindex_clean.columns = df_vnindex_clean.columns.str.strip().str.lower().str.replace(' ', '_')\n",
    "df_vnindex_clean.rename(columns={'ngay':'date', 'giadongcua':'vnindex_close'}, inplace=True)"
   ]
  },
  {
   "cell_type": "markdown",
   "id": "7e7d5acf",
   "metadata": {},
   "source": [
    "# Khám phá dữ liệu mới được làm sạch"
   ]
  },
  {
   "cell_type": "code",
   "execution_count": null,
   "id": "51a0e0c1",
   "metadata": {},
   "outputs": [],
   "source": [
    "df_vnindex_clean.duplicated().sum()"
   ]
  },
  {
   "cell_type": "code",
   "execution_count": null,
   "id": "995cf738",
   "metadata": {},
   "outputs": [],
   "source": [
    "df_vnindex_clean.info()"
   ]
  },
  {
   "cell_type": "markdown",
   "id": "98912fcb",
   "metadata": {},
   "source": [
    "# Lưu dữ liệu mới xử lý sạch bằng file csv"
   ]
  },
  {
   "cell_type": "code",
   "execution_count": null,
   "id": "734f0aba",
   "metadata": {},
   "outputs": [],
   "source": [
    "df_vnindex_clean.to_csv(r'C:\\Users\\Admin\\Desktop\\TANPHAT\\hocotruong\\Năm ba 2025-2026\\HK1_A\\Thu thập và tiền xử lý dữ liệu\\Đồ_án_GDP\\data\\processed\\VNINDEX_processed.csv', index=False)"
   ]
  }
 ],
 "metadata": {
  "kernelspec": {
   "display_name": "Python 3",
   "language": "python",
   "name": "python3"
  },
  "language_info": {
   "codemirror_mode": {
    "name": "ipython",
    "version": 3
   },
   "file_extension": ".py",
   "mimetype": "text/x-python",
   "name": "python",
   "nbconvert_exporter": "python",
   "pygments_lexer": "ipython3",
   "version": "3.12.3"
  }
 },
 "nbformat": 4,
 "nbformat_minor": 5
}
