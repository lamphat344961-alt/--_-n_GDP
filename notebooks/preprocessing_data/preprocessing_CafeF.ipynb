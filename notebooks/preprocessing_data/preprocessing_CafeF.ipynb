{
 "cells": [
  {
   "cell_type": "code",
   "execution_count": 152,
   "id": "f4157935",
   "metadata": {},
   "outputs": [],
   "source": [
    "import pandas as pd "
   ]
  },
  {
   "cell_type": "code",
   "execution_count": 153,
   "id": "ecd6e632",
   "metadata": {},
   "outputs": [],
   "source": [
    "# VN-Index (daily)\n",
    "df_vnindex = pd.read_csv(r\"C:\\Users\\Admin\\Desktop\\TANPHAT\\hocotruong\\Năm ba 2025-2026\\HK1_A\\Thu thập và tiền xử lý dữ liệu\\Đồ_án_GDP\\data\\data_raw\\VNINDEX_CafeF_RAW.csv\")  "
   ]
  },
  {
   "cell_type": "code",
   "execution_count": 154,
   "id": "fdceeb44",
   "metadata": {},
   "outputs": [
    {
     "data": {
      "text/html": [
       "<div>\n",
       "<style scoped>\n",
       "    .dataframe tbody tr th:only-of-type {\n",
       "        vertical-align: middle;\n",
       "    }\n",
       "\n",
       "    .dataframe tbody tr th {\n",
       "        vertical-align: top;\n",
       "    }\n",
       "\n",
       "    .dataframe thead th {\n",
       "        text-align: right;\n",
       "    }\n",
       "</style>\n",
       "<table border=\"1\" class=\"dataframe\">\n",
       "  <thead>\n",
       "    <tr style=\"text-align: right;\">\n",
       "      <th></th>\n",
       "      <th>Ngay</th>\n",
       "      <th>GiaDieuChinh</th>\n",
       "      <th>GiaDongCua</th>\n",
       "      <th>ThayDoi</th>\n",
       "      <th>KhoiLuongKhopLenh</th>\n",
       "      <th>GiaTriKhopLenh</th>\n",
       "      <th>KLThoaThuan</th>\n",
       "      <th>GtThoaThuan</th>\n",
       "      <th>GiaMoCua</th>\n",
       "      <th>GiaCaoNhat</th>\n",
       "      <th>GiaThapNhat</th>\n",
       "    </tr>\n",
       "  </thead>\n",
       "  <tbody>\n",
       "    <tr>\n",
       "      <th>0</th>\n",
       "      <td>16/10/2025</td>\n",
       "      <td>1766.85</td>\n",
       "      <td>1766.85</td>\n",
       "      <td>8.9(0.51 %)</td>\n",
       "      <td>1086412300</td>\n",
       "      <td>3.491092e+13</td>\n",
       "      <td>83162771</td>\n",
       "      <td>4944560741200</td>\n",
       "      <td>1764.51</td>\n",
       "      <td>1768.51</td>\n",
       "      <td>1753.50</td>\n",
       "    </tr>\n",
       "    <tr>\n",
       "      <th>1</th>\n",
       "      <td>15/10/2025</td>\n",
       "      <td>1757.95</td>\n",
       "      <td>1757.95</td>\n",
       "      <td>-3.11(-0.18 %)</td>\n",
       "      <td>1106642900</td>\n",
       "      <td>3.543941e+13</td>\n",
       "      <td>71573918</td>\n",
       "      <td>2175428266400</td>\n",
       "      <td>1766.12</td>\n",
       "      <td>1773.73</td>\n",
       "      <td>1754.89</td>\n",
       "    </tr>\n",
       "    <tr>\n",
       "      <th>2</th>\n",
       "      <td>14/10/2025</td>\n",
       "      <td>1761.06</td>\n",
       "      <td>1761.06</td>\n",
       "      <td>-4.06(-0.23 %)</td>\n",
       "      <td>1489829500</td>\n",
       "      <td>4.888682e+13</td>\n",
       "      <td>51618884</td>\n",
       "      <td>1779093656900</td>\n",
       "      <td>1782.97</td>\n",
       "      <td>1794.58</td>\n",
       "      <td>1753.25</td>\n",
       "    </tr>\n",
       "    <tr>\n",
       "      <th>3</th>\n",
       "      <td>13/10/2025</td>\n",
       "      <td>1765.12</td>\n",
       "      <td>1765.12</td>\n",
       "      <td>17.57(1.01 %)</td>\n",
       "      <td>1230255900</td>\n",
       "      <td>3.848921e+13</td>\n",
       "      <td>79429310</td>\n",
       "      <td>2486213813400</td>\n",
       "      <td>1738.23</td>\n",
       "      <td>1766.77</td>\n",
       "      <td>1736.03</td>\n",
       "    </tr>\n",
       "    <tr>\n",
       "      <th>4</th>\n",
       "      <td>10/10/2025</td>\n",
       "      <td>1747.55</td>\n",
       "      <td>1747.55</td>\n",
       "      <td>31.08(1.81 %)</td>\n",
       "      <td>997548900</td>\n",
       "      <td>3.204165e+13</td>\n",
       "      <td>60371653</td>\n",
       "      <td>1462041040050</td>\n",
       "      <td>1725.27</td>\n",
       "      <td>1747.61</td>\n",
       "      <td>1721.76</td>\n",
       "    </tr>\n",
       "  </tbody>\n",
       "</table>\n",
       "</div>"
      ],
      "text/plain": [
       "         Ngay  GiaDieuChinh  GiaDongCua         ThayDoi  KhoiLuongKhopLenh  \\\n",
       "0  16/10/2025       1766.85     1766.85     8.9(0.51 %)         1086412300   \n",
       "1  15/10/2025       1757.95     1757.95  -3.11(-0.18 %)         1106642900   \n",
       "2  14/10/2025       1761.06     1761.06  -4.06(-0.23 %)         1489829500   \n",
       "3  13/10/2025       1765.12     1765.12   17.57(1.01 %)         1230255900   \n",
       "4  10/10/2025       1747.55     1747.55   31.08(1.81 %)          997548900   \n",
       "\n",
       "   GiaTriKhopLenh  KLThoaThuan    GtThoaThuan  GiaMoCua  GiaCaoNhat  \\\n",
       "0    3.491092e+13     83162771  4944560741200   1764.51     1768.51   \n",
       "1    3.543941e+13     71573918  2175428266400   1766.12     1773.73   \n",
       "2    4.888682e+13     51618884  1779093656900   1782.97     1794.58   \n",
       "3    3.848921e+13     79429310  2486213813400   1738.23     1766.77   \n",
       "4    3.204165e+13     60371653  1462041040050   1725.27     1747.61   \n",
       "\n",
       "   GiaThapNhat  \n",
       "0      1753.50  \n",
       "1      1754.89  \n",
       "2      1753.25  \n",
       "3      1736.03  \n",
       "4      1721.76  "
      ]
     },
     "execution_count": 154,
     "metadata": {},
     "output_type": "execute_result"
    }
   ],
   "source": [
    "df_vnindex.head() "
   ]
  },
  {
   "cell_type": "code",
   "execution_count": 155,
   "id": "e30dd14d",
   "metadata": {},
   "outputs": [
    {
     "name": "stdout",
     "output_type": "stream",
     "text": [
      "<class 'pandas.core.frame.DataFrame'>\n",
      "RangeIndex: 6133 entries, 0 to 6132\n",
      "Data columns (total 11 columns):\n",
      " #   Column             Non-Null Count  Dtype  \n",
      "---  ------             --------------  -----  \n",
      " 0   Ngay               6133 non-null   object \n",
      " 1   GiaDieuChinh       6133 non-null   float64\n",
      " 2   GiaDongCua         6133 non-null   float64\n",
      " 3   ThayDoi            6133 non-null   object \n",
      " 4   KhoiLuongKhopLenh  6133 non-null   int64  \n",
      " 5   GiaTriKhopLenh     6133 non-null   float64\n",
      " 6   KLThoaThuan        6133 non-null   int64  \n",
      " 7   GtThoaThuan        6133 non-null   int64  \n",
      " 8   GiaMoCua           6133 non-null   float64\n",
      " 9   GiaCaoNhat         6133 non-null   float64\n",
      " 10  GiaThapNhat        6133 non-null   float64\n",
      "dtypes: float64(6), int64(3), object(2)\n",
      "memory usage: 527.2+ KB\n"
     ]
    }
   ],
   "source": [
    "df_vnindex.info()"
   ]
  },
  {
   "cell_type": "code",
   "execution_count": 156,
   "id": "82a9cc95",
   "metadata": {},
   "outputs": [
    {
     "data": {
      "text/plain": [
       "Index(['Ngay', 'GiaDieuChinh', 'GiaDongCua', 'ThayDoi', 'KhoiLuongKhopLenh',\n",
       "       'GiaTriKhopLenh', 'KLThoaThuan', 'GtThoaThuan', 'GiaMoCua',\n",
       "       'GiaCaoNhat', 'GiaThapNhat'],\n",
       "      dtype='object')"
      ]
     },
     "execution_count": 156,
     "metadata": {},
     "output_type": "execute_result"
    }
   ],
   "source": [
    "df_vnindex.columns"
   ]
  },
  {
   "cell_type": "code",
   "execution_count": 157,
   "id": "350a8810",
   "metadata": {},
   "outputs": [
    {
     "data": {
      "text/plain": [
       "Ngay                 0\n",
       "GiaDieuChinh         0\n",
       "GiaDongCua           0\n",
       "ThayDoi              0\n",
       "KhoiLuongKhopLenh    0\n",
       "GiaTriKhopLenh       0\n",
       "KLThoaThuan          0\n",
       "GtThoaThuan          0\n",
       "GiaMoCua             0\n",
       "GiaCaoNhat           0\n",
       "GiaThapNhat          0\n",
       "dtype: int64"
      ]
     },
     "execution_count": 157,
     "metadata": {},
     "output_type": "execute_result"
    }
   ],
   "source": [
    "df_vnindex.isna().sum()"
   ]
  },
  {
   "cell_type": "code",
   "execution_count": 158,
   "id": "2bae8885",
   "metadata": {},
   "outputs": [],
   "source": [
    "df_vnindex_clean = df_vnindex.loc[:,['Ngay','GiaDongCua']]"
   ]
  },
  {
   "cell_type": "code",
   "execution_count": 159,
   "id": "13b81e4f",
   "metadata": {},
   "outputs": [
    {
     "name": "stderr",
     "output_type": "stream",
     "text": [
      "C:\\Users\\Admin\\AppData\\Local\\Temp\\ipykernel_111908\\271999831.py:3: UserWarning: Parsing dates in %d/%m/%Y format when dayfirst=False (the default) was specified. Pass `dayfirst=True` or specify a format to silence this warning.\n",
      "  df_vnindex_clean['Ngay'] = pd.to_datetime(df_vnindex_clean['Ngay'])\n"
     ]
    }
   ],
   "source": [
    "# Xử lý cột ngày tháng\n",
    "# Chuyển sang datetime \n",
    "df_vnindex_clean['Ngay'] = pd.to_datetime(df_vnindex_clean['Ngay'])"
   ]
  },
  {
   "cell_type": "code",
   "execution_count": 160,
   "id": "0e8b908a",
   "metadata": {},
   "outputs": [],
   "source": [
    "df_vnindex_clean.columns = df_vnindex_clean.columns.str.strip().str.lower().str.replace(' ', '_')\n",
    "df_vnindex_clean.rename(columns={'ngay':'date', 'giadongcua':'vnindex_close'}, inplace=True)"
   ]
  },
  {
   "cell_type": "code",
   "execution_count": 161,
   "id": "51a0e0c1",
   "metadata": {},
   "outputs": [
    {
     "data": {
      "text/plain": [
       "0"
      ]
     },
     "execution_count": 161,
     "metadata": {},
     "output_type": "execute_result"
    }
   ],
   "source": [
    "df_vnindex_clean.duplicated().sum()"
   ]
  },
  {
   "cell_type": "code",
   "execution_count": 162,
   "id": "995cf738",
   "metadata": {},
   "outputs": [
    {
     "name": "stdout",
     "output_type": "stream",
     "text": [
      "<class 'pandas.core.frame.DataFrame'>\n",
      "RangeIndex: 6133 entries, 0 to 6132\n",
      "Data columns (total 2 columns):\n",
      " #   Column         Non-Null Count  Dtype         \n",
      "---  ------         --------------  -----         \n",
      " 0   date           6133 non-null   datetime64[ns]\n",
      " 1   vnindex_close  6133 non-null   float64       \n",
      "dtypes: datetime64[ns](1), float64(1)\n",
      "memory usage: 96.0 KB\n"
     ]
    }
   ],
   "source": [
    "df_vnindex_clean.info()"
   ]
  },
  {
   "cell_type": "code",
   "execution_count": 163,
   "id": "734f0aba",
   "metadata": {},
   "outputs": [],
   "source": [
    "df_vnindex_clean.to_csv(r'C:\\Users\\Admin\\Desktop\\TANPHAT\\hocotruong\\Năm ba 2025-2026\\HK1_A\\Thu thập và tiền xử lý dữ liệu\\Đồ_án_GDP\\data\\processed\\VNINDEX_processed.csv', index=False)"
   ]
  }
 ],
 "metadata": {
  "kernelspec": {
   "display_name": "Python 3",
   "language": "python",
   "name": "python3"
  },
  "language_info": {
   "codemirror_mode": {
    "name": "ipython",
    "version": 3
   },
   "file_extension": ".py",
   "mimetype": "text/x-python",
   "name": "python",
   "nbconvert_exporter": "python",
   "pygments_lexer": "ipython3",
   "version": "3.12.3"
  }
 },
 "nbformat": 4,
 "nbformat_minor": 5
}
