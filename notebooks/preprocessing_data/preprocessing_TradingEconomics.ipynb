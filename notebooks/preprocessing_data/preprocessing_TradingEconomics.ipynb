{
 "cells": [
  {
   "cell_type": "markdown",
   "id": "a160f3d9",
   "metadata": {},
   "source": [
    "# Import thư viện"
   ]
  },
  {
   "cell_type": "code",
   "execution_count": null,
   "id": "c7374ea6",
   "metadata": {},
   "outputs": [],
   "source": [
    "import pandas as pd"
   ]
  },
  {
   "cell_type": "markdown",
   "id": "de5a28a3",
   "metadata": {},
   "source": [
    "# Đọc dữ liệu"
   ]
  },
  {
   "cell_type": "code",
   "execution_count": null,
   "id": "5bfc47e0",
   "metadata": {},
   "outputs": [],
   "source": [
    "  # Tỷ lệ thất nghiệp (%)\n",
    "df_unemployment = pd.read_csv(r\"C:\\Users\\Admin\\Desktop\\TANPHAT\\hocotruong\\Năm ba 2025-2026\\HK1_A\\Thu thập và tiền xử lý dữ liệu\\Đồ_án_GDP\\data\\data_download\\unemployment-rate.csv\")   "
   ]
  },
  {
   "cell_type": "markdown",
   "id": "d7c67535",
   "metadata": {},
   "source": [
    "# Khám phá dữ liệu sơ bộ"
   ]
  },
  {
   "cell_type": "code",
   "execution_count": null,
   "id": "6bb4c352",
   "metadata": {},
   "outputs": [],
   "source": [
    "df_unemployment.head()"
   ]
  },
  {
   "cell_type": "code",
   "execution_count": null,
   "id": "016b7cbd",
   "metadata": {},
   "outputs": [],
   "source": [
    "df_unemployment.info()"
   ]
  },
  {
   "cell_type": "code",
   "execution_count": null,
   "id": "e9a31e6b",
   "metadata": {},
   "outputs": [],
   "source": [
    "df_unemployment.columns"
   ]
  },
  {
   "cell_type": "code",
   "execution_count": null,
   "id": "9c3f803c",
   "metadata": {},
   "outputs": [],
   "source": [
    "df_unemployment.describe()"
   ]
  },
  {
   "cell_type": "code",
   "execution_count": null,
   "id": "87e24671",
   "metadata": {},
   "outputs": [],
   "source": [
    "df_unemployment.isna().sum()"
   ]
  },
  {
   "cell_type": "markdown",
   "id": "22705640",
   "metadata": {},
   "source": [
    "# Làm sạch dữ liệu"
   ]
  },
  {
   "cell_type": "code",
   "execution_count": null,
   "id": "03a8db42",
   "metadata": {},
   "outputs": [],
   "source": [
    "df_unemployment = (df_unemployment[['Year',r'Unemployment, total (% of total labor force) (modeled ILO estimate)']])\n",
    "df_unemployment.rename(columns={r'Unemployment, total (% of total labor force) (modeled ILO estimate)':'unemployment_value','Year' : 'date' },inplace= True)\n",
    "df_unemployment.sort_values('date').reset_index(drop=True) "
   ]
  },
  {
   "cell_type": "markdown",
   "id": "af5e3372",
   "metadata": {},
   "source": [
    "Làm sạch dữ liệu của thất nghiệp và chỉ giữ lại cột năm , giá trị thất nghiệp xong rồi đổi tên ngắn gọn , sắp xếp lại theo thứ tự thời gian để dễ phân tích dữ liệu"
   ]
  },
  {
   "cell_type": "markdown",
   "id": "75bb8385",
   "metadata": {},
   "source": [
    "# Chuẩn hóa dữ liệu"
   ]
  },
  {
   "cell_type": "code",
   "execution_count": null,
   "id": "32998739",
   "metadata": {},
   "outputs": [],
   "source": [
    "# Chuẩn hóa tên cột\n",
    "df_unemployment.columns = (\n",
    "    df_unemployment.columns\n",
    "    .str.strip()\n",
    "    .str.lower()\n",
    "    .str.replace(' ', '_')\n",
    "    .str.replace('[()%/,]', '', regex=True)  # bỏ ký tự đặc biệt\n",
    "    .str.replace('__+', '_')                 # bỏ dấu _ thừa\n",
    ")"
   ]
  },
  {
   "cell_type": "markdown",
   "id": "a6c6ba6e",
   "metadata": {},
   "source": [
    "# Làm sạch dữ liệu của cột date"
   ]
  },
  {
   "cell_type": "code",
   "execution_count": null,
   "id": "7bc5eb51",
   "metadata": {},
   "outputs": [],
   "source": [
    "# Làm sạch cột 'date' \n",
    "df_unemployment['date'] = (\n",
    "    df_unemployment['date']\n",
    "    .astype(str)\n",
    "    .str.extract(r'(\\d{4})')   # chỉ giữ lại 4 chữ số liên tiếp (ví dụ: \"Prel.2024\" → \"2024\")\n",
    ")\n",
    "\n",
    "# Chuyển sang datetime (dùng ngày cuối năm)\n",
    "df_unemployment['date'] = pd.to_datetime(df_unemployment['date'] + '-12-31', format='%Y-%m-%d')\n"
   ]
  },
  {
   "cell_type": "code",
   "execution_count": null,
   "id": "c79669c7",
   "metadata": {},
   "outputs": [],
   "source": [
    "df_unemployment.to_csv(r'C:\\Users\\Admin\\Desktop\\TANPHAT\\hocotruong\\Năm ba 2025-2026\\HK1_A\\Thu thập và tiền xử lý dữ liệu\\Đồ_án_GDP\\data\\processed\\Unemployment_processed.csv', index=False) "
   ]
  }
 ],
 "metadata": {
  "kernelspec": {
   "display_name": "Python 3",
   "language": "python",
   "name": "python3"
  },
  "language_info": {
   "codemirror_mode": {
    "name": "ipython",
    "version": 3
   },
   "file_extension": ".py",
   "mimetype": "text/x-python",
   "name": "python",
   "nbconvert_exporter": "python",
   "pygments_lexer": "ipython3",
   "version": "3.12.3"
  }
 },
 "nbformat": 4,
 "nbformat_minor": 5
}
