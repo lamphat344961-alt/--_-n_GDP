{
 "cells": [
  {
   "cell_type": "markdown",
   "id": "8fd921d4",
   "metadata": {},
   "source": [
    "# Import thư viện"
   ]
  },
  {
   "cell_type": "code",
   "execution_count": null,
   "id": "6768cf5a",
   "metadata": {},
   "outputs": [],
   "source": [
    "import pandas as pd\n",
    "import numpy as np"
   ]
  },
  {
   "cell_type": "markdown",
   "id": "1f3dde3a",
   "metadata": {},
   "source": [
    "# Đọc dữ liệu"
   ]
  },
  {
   "cell_type": "code",
   "execution_count": null,
   "id": "4a440e40",
   "metadata": {},
   "outputs": [],
   "source": [
    " # Tổng mức bán lẻ hàng hóa\n",
    "df_retail_gso = pd.read_excel(r\"C:\\Users\\Admin\\Desktop\\TANPHAT\\hocotruong\\Năm ba 2025-2026\\HK1_A\\Thu thập và tiền xử lý dữ liệu\\Đồ_án_GDP\\data\\data_download\\E07.01.xlsx\", header=2)  \n"
   ]
  },
  {
   "cell_type": "markdown",
   "id": "810291af",
   "metadata": {},
   "source": [
    "# Hiển thị dữ liệu"
   ]
  },
  {
   "cell_type": "code",
   "execution_count": null,
   "id": "afde8829",
   "metadata": {},
   "outputs": [],
   "source": [
    "df_retail_gso.head()"
   ]
  },
  {
   "cell_type": "markdown",
   "id": "23f1824e",
   "metadata": {},
   "source": [
    "# Làm sạch dữ liệu sơ bộ và hiển thị kết quả"
   ]
  },
  {
   "cell_type": "code",
   "execution_count": null,
   "id": "3bd5a731",
   "metadata": {},
   "outputs": [],
   "source": [
    "# 1Chuyển vị bảng để năm thành hàng\n",
    "df_retail_gso_clean = df_retail_gso.T\n",
    "\n",
    "# Reset index để tạo cột 'Year'\n",
    "df_retail_gso_clean = df_retail_gso_clean.reset_index()\n",
    "\n",
    "# Đặt lại tên cột\n",
    "df_retail_gso_clean.columns = ['date', 'retail_value']\n",
    "\n",
    "# Bỏ dòng unname \n",
    "df_retail_gso_clean = df_retail_gso_clean.drop(0)\n",
    "# Hiển thị kết quả\n",
    "print(df_retail_gso_clean.head())"
   ]
  },
  {
   "cell_type": "markdown",
   "id": "605e40c1",
   "metadata": {},
   "source": [
    "# Hiển thị thông tin dữ liệu đã làm sạch"
   ]
  },
  {
   "cell_type": "code",
   "execution_count": null,
   "id": "32a3c91b",
   "metadata": {},
   "outputs": [],
   "source": [
    "df_retail_gso_clean.info()"
   ]
  },
  {
   "cell_type": "markdown",
   "id": "d0978f05",
   "metadata": {},
   "source": [
    "# Chuẩn hóa dữ liệu "
   ]
  },
  {
   "cell_type": "code",
   "execution_count": null,
   "id": "d69bb961",
   "metadata": {},
   "outputs": [],
   "source": [
    "# Làm sạch cột 'date' \n",
    "df_retail_gso_clean['date'] = (\n",
    "    df_retail_gso_clean['date']\n",
    "    .astype(str)\n",
    "    .str.extract(r'(\\d{4})')   # chỉ giữ lại 4 chữ số liên tiếp (ví dụ: \"Prel.2024\" → \"2024\")\n",
    ")\n",
    "\n",
    "# Chuyển sang datetime (dùng ngày cuối năm)\n",
    "df_retail_gso_clean['date'] = pd.to_datetime(df_retail_gso_clean['date'] + '-12-31', format='%Y-%m-%d')\n",
    "\n",
    "# Chuyển 'retail_value' sang float \n",
    "df_retail_gso_clean['retail_value'] = pd.to_numeric(df_retail_gso_clean['retail_value'], errors='coerce')\n",
    "\n",
    "# 🔍 5. Kiểm tra lại\n",
    "df_retail_gso_clean.info()\n",
    "print(df_retail_gso_clean.head())\n"
   ]
  },
  {
   "cell_type": "code",
   "execution_count": null,
   "id": "b8e70cae",
   "metadata": {},
   "outputs": [],
   "source": [
    "df_retail_gso_clean.isna().sum()"
   ]
  },
  {
   "cell_type": "markdown",
   "id": "14771a5c",
   "metadata": {},
   "source": [
    "# Lưu dữ liệu bằng file csv"
   ]
  },
  {
   "cell_type": "code",
   "execution_count": null,
   "id": "b6bc1877",
   "metadata": {},
   "outputs": [],
   "source": [
    "df_retail_gso_clean.to_csv(r'C:\\Users\\Admin\\Desktop\\TANPHAT\\hocotruong\\Năm ba 2025-2026\\HK1_A\\Thu thập và tiền xử lý dữ liệu\\Đồ_án_GDP\\data\\processed\\Retail_processed.csv.csv', index=False)"
   ]
  }
 ],
 "metadata": {
  "kernelspec": {
   "display_name": "Python 3",
   "language": "python",
   "name": "python3"
  },
  "language_info": {
   "codemirror_mode": {
    "name": "ipython",
    "version": 3
   },
   "file_extension": ".py",
   "mimetype": "text/x-python",
   "name": "python",
   "nbconvert_exporter": "python",
   "pygments_lexer": "ipython3",
   "version": "3.12.3"
  }
 },
 "nbformat": 4,
 "nbformat_minor": 5
}
