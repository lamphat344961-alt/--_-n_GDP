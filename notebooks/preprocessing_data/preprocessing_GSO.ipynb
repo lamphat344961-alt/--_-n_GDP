{
 "cells": [
  {
   "cell_type": "code",
   "execution_count": 1,
   "id": "6768cf5a",
   "metadata": {},
   "outputs": [],
   "source": [
    "import pandas as pd"
   ]
  },
  {
   "cell_type": "code",
   "execution_count": 2,
   "id": "4a440e40",
   "metadata": {},
   "outputs": [],
   "source": [
    " # Tổng mức bán lẻ hàng hóa\n",
    "df_retail_gso = pd.read_excel(r\"C:\\Users\\Admin\\Desktop\\TANPHAT\\hocotruong\\Năm ba 2025-2026\\HK1_A\\Thu thập và tiền xử lý dữ liệu\\Đồ_án_GDP\\data\\data_download\\E07.01.xlsx\")  \n",
    "# Chỉ số giá tiêu dùng (CPI)\n",
    "df_cpi_gso    = pd.read_excel(r\"C:\\Users\\Admin\\Desktop\\TANPHAT\\hocotruong\\Năm ba 2025-2026\\HK1_A\\Thu thập và tiền xử lý dữ liệu\\Đồ_án_GDP\\data\\data_download\\E08.02.xlsx\")   \n"
   ]
  },
  {
   "cell_type": "code",
   "execution_count": 3,
   "id": "25bf4e5a",
   "metadata": {},
   "outputs": [
    {
     "data": {
      "text/html": [
       "<div>\n",
       "<style scoped>\n",
       "    .dataframe tbody tr th:only-of-type {\n",
       "        vertical-align: middle;\n",
       "    }\n",
       "\n",
       "    .dataframe tbody tr th {\n",
       "        vertical-align: top;\n",
       "    }\n",
       "\n",
       "    .dataframe thead th {\n",
       "        text-align: right;\n",
       "    }\n",
       "</style>\n",
       "<table border=\"1\" class=\"dataframe\">\n",
       "  <thead>\n",
       "    <tr style=\"text-align: right;\">\n",
       "      <th></th>\n",
       "      <th>Retail sales of goods and services at current prices by province by Cities, provincies and Year</th>\n",
       "      <th>Unnamed: 1</th>\n",
       "      <th>Unnamed: 2</th>\n",
       "      <th>Unnamed: 3</th>\n",
       "      <th>Unnamed: 4</th>\n",
       "      <th>Unnamed: 5</th>\n",
       "      <th>Unnamed: 6</th>\n",
       "      <th>Unnamed: 7</th>\n",
       "      <th>Unnamed: 8</th>\n",
       "      <th>Unnamed: 9</th>\n",
       "      <th>Unnamed: 10</th>\n",
       "      <th>Unnamed: 11</th>\n",
       "      <th>Unnamed: 12</th>\n",
       "      <th>Unnamed: 13</th>\n",
       "      <th>Unnamed: 14</th>\n",
       "      <th>Unnamed: 15</th>\n",
       "    </tr>\n",
       "  </thead>\n",
       "  <tbody>\n",
       "    <tr>\n",
       "      <th>0</th>\n",
       "      <td>NaN</td>\n",
       "      <td>NaN</td>\n",
       "      <td>NaN</td>\n",
       "      <td>NaN</td>\n",
       "      <td>NaN</td>\n",
       "      <td>NaN</td>\n",
       "      <td>NaN</td>\n",
       "      <td>NaN</td>\n",
       "      <td>NaN</td>\n",
       "      <td>NaN</td>\n",
       "      <td>NaN</td>\n",
       "      <td>NaN</td>\n",
       "      <td>NaN</td>\n",
       "      <td>NaN</td>\n",
       "      <td>NaN</td>\n",
       "      <td>NaN</td>\n",
       "    </tr>\n",
       "    <tr>\n",
       "      <th>1</th>\n",
       "      <td>NaN</td>\n",
       "      <td>2010.0</td>\n",
       "      <td>2011.0</td>\n",
       "      <td>2012.0</td>\n",
       "      <td>2013.0</td>\n",
       "      <td>2014.0</td>\n",
       "      <td>2015.0</td>\n",
       "      <td>2016.0</td>\n",
       "      <td>2017.0</td>\n",
       "      <td>2018.0</td>\n",
       "      <td>2019.00</td>\n",
       "      <td>2020.0</td>\n",
       "      <td>2021.00</td>\n",
       "      <td>2022.00</td>\n",
       "      <td>2023.00</td>\n",
       "      <td>Prel. 2024</td>\n",
       "    </tr>\n",
       "    <tr>\n",
       "      <th>2</th>\n",
       "      <td>WHOLE COUNTRY</td>\n",
       "      <td>1677344.7</td>\n",
       "      <td>2079523.5</td>\n",
       "      <td>2369130.6</td>\n",
       "      <td>2615203.6</td>\n",
       "      <td>2916233.9</td>\n",
       "      <td>3223202.6</td>\n",
       "      <td>3546268.6</td>\n",
       "      <td>3956599.1</td>\n",
       "      <td>4393525.5</td>\n",
       "      <td>4892114.39</td>\n",
       "      <td>4847645.3</td>\n",
       "      <td>4407812.44</td>\n",
       "      <td>5354351.07</td>\n",
       "      <td>5913743.74</td>\n",
       "      <td>6447397.36</td>\n",
       "    </tr>\n",
       "  </tbody>\n",
       "</table>\n",
       "</div>"
      ],
      "text/plain": [
       "  Retail sales of goods and services at current prices by province by Cities, provincies and Year  \\\n",
       "0                                                NaN                                                \n",
       "1                                                NaN                                                \n",
       "2                                      WHOLE COUNTRY                                                \n",
       "\n",
       "   Unnamed: 1  Unnamed: 2  Unnamed: 3  Unnamed: 4  Unnamed: 5  Unnamed: 6  \\\n",
       "0         NaN         NaN         NaN         NaN         NaN         NaN   \n",
       "1      2010.0      2011.0      2012.0      2013.0      2014.0      2015.0   \n",
       "2   1677344.7   2079523.5   2369130.6   2615203.6   2916233.9   3223202.6   \n",
       "\n",
       "   Unnamed: 7  Unnamed: 8  Unnamed: 9  Unnamed: 10  Unnamed: 11  Unnamed: 12  \\\n",
       "0         NaN         NaN         NaN          NaN          NaN          NaN   \n",
       "1      2016.0      2017.0      2018.0      2019.00       2020.0      2021.00   \n",
       "2   3546268.6   3956599.1   4393525.5   4892114.39    4847645.3   4407812.44   \n",
       "\n",
       "   Unnamed: 13  Unnamed: 14 Unnamed: 15  \n",
       "0          NaN          NaN         NaN  \n",
       "1      2022.00      2023.00  Prel. 2024  \n",
       "2   5354351.07   5913743.74  6447397.36  "
      ]
     },
     "execution_count": 3,
     "metadata": {},
     "output_type": "execute_result"
    }
   ],
   "source": [
    "df_cpi_gso.head()"
   ]
  },
  {
   "cell_type": "code",
   "execution_count": 4,
   "id": "9f9a337d",
   "metadata": {},
   "outputs": [
    {
     "name": "stdout",
     "output_type": "stream",
     "text": [
      "<class 'pandas.core.frame.DataFrame'>\n",
      "RangeIndex: 3 entries, 0 to 2\n",
      "Data columns (total 16 columns):\n",
      " #   Column                                                                                           Non-Null Count  Dtype  \n",
      "---  ------                                                                                           --------------  -----  \n",
      " 0   Retail sales of goods and services at current prices by province by Cities, provincies and Year  1 non-null      object \n",
      " 1   Unnamed: 1                                                                                       2 non-null      float64\n",
      " 2   Unnamed: 2                                                                                       2 non-null      float64\n",
      " 3   Unnamed: 3                                                                                       2 non-null      float64\n",
      " 4   Unnamed: 4                                                                                       2 non-null      float64\n",
      " 5   Unnamed: 5                                                                                       2 non-null      float64\n",
      " 6   Unnamed: 6                                                                                       2 non-null      float64\n",
      " 7   Unnamed: 7                                                                                       2 non-null      float64\n",
      " 8   Unnamed: 8                                                                                       2 non-null      float64\n",
      " 9   Unnamed: 9                                                                                       2 non-null      float64\n",
      " 10  Unnamed: 10                                                                                      2 non-null      float64\n",
      " 11  Unnamed: 11                                                                                      2 non-null      float64\n",
      " 12  Unnamed: 12                                                                                      2 non-null      float64\n",
      " 13  Unnamed: 13                                                                                      2 non-null      float64\n",
      " 14  Unnamed: 14                                                                                      2 non-null      float64\n",
      " 15  Unnamed: 15                                                                                      2 non-null      object \n",
      "dtypes: float64(14), object(2)\n",
      "memory usage: 516.0+ bytes\n"
     ]
    }
   ],
   "source": [
    "df_cpi_gso.info()"
   ]
  },
  {
   "cell_type": "code",
   "execution_count": 5,
   "id": "b68cbd6a",
   "metadata": {},
   "outputs": [
    {
     "data": {
      "text/plain": [
       "Retail sales of goods and services at current prices by province by Cities, provincies and Year    2\n",
       "Unnamed: 1                                                                                         1\n",
       "Unnamed: 2                                                                                         1\n",
       "Unnamed: 3                                                                                         1\n",
       "Unnamed: 4                                                                                         1\n",
       "Unnamed: 5                                                                                         1\n",
       "Unnamed: 6                                                                                         1\n",
       "Unnamed: 7                                                                                         1\n",
       "Unnamed: 8                                                                                         1\n",
       "Unnamed: 9                                                                                         1\n",
       "Unnamed: 10                                                                                        1\n",
       "Unnamed: 11                                                                                        1\n",
       "Unnamed: 12                                                                                        1\n",
       "Unnamed: 13                                                                                        1\n",
       "Unnamed: 14                                                                                        1\n",
       "Unnamed: 15                                                                                        1\n",
       "dtype: int64"
      ]
     },
     "execution_count": 5,
     "metadata": {},
     "output_type": "execute_result"
    }
   ],
   "source": [
    "df_cpi_gso.isna().sum()"
   ]
  },
  {
   "cell_type": "code",
   "execution_count": 6,
   "id": "afde8829",
   "metadata": {},
   "outputs": [
    {
     "data": {
      "text/html": [
       "<div>\n",
       "<style scoped>\n",
       "    .dataframe tbody tr th:only-of-type {\n",
       "        vertical-align: middle;\n",
       "    }\n",
       "\n",
       "    .dataframe tbody tr th {\n",
       "        vertical-align: top;\n",
       "    }\n",
       "\n",
       "    .dataframe thead th {\n",
       "        text-align: right;\n",
       "    }\n",
       "</style>\n",
       "<table border=\"1\" class=\"dataframe\">\n",
       "  <thead>\n",
       "    <tr style=\"text-align: right;\">\n",
       "      <th></th>\n",
       "      <th>Index of Industrial production by industrial activity* by Industrial activity and Year</th>\n",
       "      <th>Unnamed: 1</th>\n",
       "      <th>Unnamed: 2</th>\n",
       "      <th>Unnamed: 3</th>\n",
       "      <th>Unnamed: 4</th>\n",
       "      <th>Unnamed: 5</th>\n",
       "      <th>Unnamed: 6</th>\n",
       "      <th>Unnamed: 7</th>\n",
       "      <th>Unnamed: 8</th>\n",
       "      <th>Unnamed: 9</th>\n",
       "      <th>Unnamed: 10</th>\n",
       "      <th>Unnamed: 11</th>\n",
       "      <th>Unnamed: 12</th>\n",
       "      <th>Unnamed: 13</th>\n",
       "    </tr>\n",
       "  </thead>\n",
       "  <tbody>\n",
       "    <tr>\n",
       "      <th>0</th>\n",
       "      <td>NaN</td>\n",
       "      <td>NaN</td>\n",
       "      <td>NaN</td>\n",
       "      <td>NaN</td>\n",
       "      <td>NaN</td>\n",
       "      <td>NaN</td>\n",
       "      <td>NaN</td>\n",
       "      <td>NaN</td>\n",
       "      <td>NaN</td>\n",
       "      <td>NaN</td>\n",
       "      <td>NaN</td>\n",
       "      <td>NaN</td>\n",
       "      <td>NaN</td>\n",
       "      <td>NaN</td>\n",
       "    </tr>\n",
       "    <tr>\n",
       "      <th>1</th>\n",
       "      <td>NaN</td>\n",
       "      <td>2012.0</td>\n",
       "      <td>2013.0</td>\n",
       "      <td>2014.0</td>\n",
       "      <td>2015.0</td>\n",
       "      <td>2016.0</td>\n",
       "      <td>2017.0</td>\n",
       "      <td>2018.00</td>\n",
       "      <td>2019.00</td>\n",
       "      <td>2020.00</td>\n",
       "      <td>2021.00</td>\n",
       "      <td>2022.00</td>\n",
       "      <td>2023.00</td>\n",
       "      <td>Prel. 2024</td>\n",
       "    </tr>\n",
       "    <tr>\n",
       "      <th>2</th>\n",
       "      <td>TOTAL</td>\n",
       "      <td>105.8</td>\n",
       "      <td>105.9</td>\n",
       "      <td>107.6</td>\n",
       "      <td>109.8</td>\n",
       "      <td>107.4</td>\n",
       "      <td>111.3</td>\n",
       "      <td>110.09</td>\n",
       "      <td>109.09</td>\n",
       "      <td>103.29</td>\n",
       "      <td>104.66</td>\n",
       "      <td>107.43</td>\n",
       "      <td>101.33</td>\n",
       "      <td>108.24</td>\n",
       "    </tr>\n",
       "  </tbody>\n",
       "</table>\n",
       "</div>"
      ],
      "text/plain": [
       "  Index of Industrial production by industrial activity* by Industrial activity and Year  \\\n",
       "0                                                NaN                                       \n",
       "1                                                NaN                                       \n",
       "2                                              TOTAL                                       \n",
       "\n",
       "   Unnamed: 1  Unnamed: 2  Unnamed: 3  Unnamed: 4  Unnamed: 5  Unnamed: 6  \\\n",
       "0         NaN         NaN         NaN         NaN         NaN         NaN   \n",
       "1      2012.0      2013.0      2014.0      2015.0      2016.0      2017.0   \n",
       "2       105.8       105.9       107.6       109.8       107.4       111.3   \n",
       "\n",
       "   Unnamed: 7  Unnamed: 8  Unnamed: 9  Unnamed: 10  Unnamed: 11  Unnamed: 12  \\\n",
       "0         NaN         NaN         NaN          NaN          NaN          NaN   \n",
       "1     2018.00     2019.00     2020.00      2021.00      2022.00      2023.00   \n",
       "2      110.09      109.09      103.29       104.66       107.43       101.33   \n",
       "\n",
       "  Unnamed: 13  \n",
       "0         NaN  \n",
       "1  Prel. 2024  \n",
       "2      108.24  "
      ]
     },
     "execution_count": 6,
     "metadata": {},
     "output_type": "execute_result"
    }
   ],
   "source": [
    "df_retail_gso.head()"
   ]
  },
  {
   "cell_type": "code",
   "execution_count": 7,
   "id": "32a3c91b",
   "metadata": {},
   "outputs": [
    {
     "name": "stdout",
     "output_type": "stream",
     "text": [
      "<class 'pandas.core.frame.DataFrame'>\n",
      "RangeIndex: 3 entries, 0 to 2\n",
      "Data columns (total 14 columns):\n",
      " #   Column                                                                                  Non-Null Count  Dtype  \n",
      "---  ------                                                                                  --------------  -----  \n",
      " 0   Index of Industrial production by industrial activity* by Industrial activity and Year  1 non-null      object \n",
      " 1   Unnamed: 1                                                                              2 non-null      float64\n",
      " 2   Unnamed: 2                                                                              2 non-null      float64\n",
      " 3   Unnamed: 3                                                                              2 non-null      float64\n",
      " 4   Unnamed: 4                                                                              2 non-null      float64\n",
      " 5   Unnamed: 5                                                                              2 non-null      float64\n",
      " 6   Unnamed: 6                                                                              2 non-null      float64\n",
      " 7   Unnamed: 7                                                                              2 non-null      float64\n",
      " 8   Unnamed: 8                                                                              2 non-null      float64\n",
      " 9   Unnamed: 9                                                                              2 non-null      float64\n",
      " 10  Unnamed: 10                                                                             2 non-null      float64\n",
      " 11  Unnamed: 11                                                                             2 non-null      float64\n",
      " 12  Unnamed: 12                                                                             2 non-null      float64\n",
      " 13  Unnamed: 13                                                                             2 non-null      object \n",
      "dtypes: float64(12), object(2)\n",
      "memory usage: 468.0+ bytes\n"
     ]
    }
   ],
   "source": [
    "df_retail_gso.info()"
   ]
  },
  {
   "cell_type": "code",
   "execution_count": 8,
   "id": "b8e70cae",
   "metadata": {},
   "outputs": [
    {
     "data": {
      "text/plain": [
       "Index of Industrial production by industrial activity* by Industrial activity and Year    2\n",
       "Unnamed: 1                                                                                1\n",
       "Unnamed: 2                                                                                1\n",
       "Unnamed: 3                                                                                1\n",
       "Unnamed: 4                                                                                1\n",
       "Unnamed: 5                                                                                1\n",
       "Unnamed: 6                                                                                1\n",
       "Unnamed: 7                                                                                1\n",
       "Unnamed: 8                                                                                1\n",
       "Unnamed: 9                                                                                1\n",
       "Unnamed: 10                                                                               1\n",
       "Unnamed: 11                                                                               1\n",
       "Unnamed: 12                                                                               1\n",
       "Unnamed: 13                                                                               1\n",
       "dtype: int64"
      ]
     },
     "execution_count": 8,
     "metadata": {},
     "output_type": "execute_result"
    }
   ],
   "source": [
    "df_retail_gso.isna().sum()"
   ]
  }
 ],
 "metadata": {
  "kernelspec": {
   "display_name": "Python 3",
   "language": "python",
   "name": "python3"
  },
  "language_info": {
   "codemirror_mode": {
    "name": "ipython",
    "version": 3
   },
   "file_extension": ".py",
   "mimetype": "text/x-python",
   "name": "python",
   "nbconvert_exporter": "python",
   "pygments_lexer": "ipython3",
   "version": "3.12.3"
  }
 },
 "nbformat": 4,
 "nbformat_minor": 5
}
