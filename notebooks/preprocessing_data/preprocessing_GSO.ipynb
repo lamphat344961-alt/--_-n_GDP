{
 "cells": [
  {
   "cell_type": "code",
   "execution_count": 3,
   "id": "6768cf5a",
   "metadata": {},
   "outputs": [],
   "source": [
    "import pandas as pd\n",
    "import numpy as np"
   ]
  },
  {
   "cell_type": "code",
   "execution_count": null,
   "id": "4a440e40",
   "metadata": {},
   "outputs": [],
   "source": [
    " # Tổng mức bán lẻ hàng hóa\n",
    "df_retail_gso = pd.read_excel(r\"C:\\Users\\Admin\\Desktop\\TANPHAT\\hocotruong\\Năm ba 2025-2026\\HK1_A\\Thu thập và tiền xử lý dữ liệu\\Đồ_án_GDP\\data\\data_download\\E07.01.xlsx\", header=2)  \n"
   ]
  },
  {
   "cell_type": "code",
   "execution_count": 5,
   "id": "afde8829",
   "metadata": {},
   "outputs": [
    {
     "data": {
      "text/html": [
       "<div>\n",
       "<style scoped>\n",
       "    .dataframe tbody tr th:only-of-type {\n",
       "        vertical-align: middle;\n",
       "    }\n",
       "\n",
       "    .dataframe tbody tr th {\n",
       "        vertical-align: top;\n",
       "    }\n",
       "\n",
       "    .dataframe thead th {\n",
       "        text-align: right;\n",
       "    }\n",
       "</style>\n",
       "<table border=\"1\" class=\"dataframe\">\n",
       "  <thead>\n",
       "    <tr style=\"text-align: right;\">\n",
       "      <th></th>\n",
       "      <th>Unnamed: 0</th>\n",
       "      <th>2012</th>\n",
       "      <th>2013</th>\n",
       "      <th>2014</th>\n",
       "      <th>2015</th>\n",
       "      <th>2016</th>\n",
       "      <th>2017</th>\n",
       "      <th>2018</th>\n",
       "      <th>2019</th>\n",
       "      <th>2020</th>\n",
       "      <th>2021</th>\n",
       "      <th>2022</th>\n",
       "      <th>2023</th>\n",
       "      <th>Prel. 2024</th>\n",
       "    </tr>\n",
       "  </thead>\n",
       "  <tbody>\n",
       "    <tr>\n",
       "      <th>0</th>\n",
       "      <td>TOTAL</td>\n",
       "      <td>105.8</td>\n",
       "      <td>105.9</td>\n",
       "      <td>107.6</td>\n",
       "      <td>109.8</td>\n",
       "      <td>107.4</td>\n",
       "      <td>111.3</td>\n",
       "      <td>110.09</td>\n",
       "      <td>109.09</td>\n",
       "      <td>103.29</td>\n",
       "      <td>104.66</td>\n",
       "      <td>107.43</td>\n",
       "      <td>101.33</td>\n",
       "      <td>108.24</td>\n",
       "    </tr>\n",
       "  </tbody>\n",
       "</table>\n",
       "</div>"
      ],
      "text/plain": [
       "  Unnamed: 0   2012   2013   2014   2015   2016   2017    2018    2019  \\\n",
       "0      TOTAL  105.8  105.9  107.6  109.8  107.4  111.3  110.09  109.09   \n",
       "\n",
       "     2020    2021    2022    2023  Prel. 2024  \n",
       "0  103.29  104.66  107.43  101.33      108.24  "
      ]
     },
     "execution_count": 5,
     "metadata": {},
     "output_type": "execute_result"
    }
   ],
   "source": [
    "df_retail_gso.head()"
   ]
  },
  {
   "cell_type": "code",
   "execution_count": 6,
   "id": "3bd5a731",
   "metadata": {},
   "outputs": [
    {
     "name": "stdout",
     "output_type": "stream",
     "text": [
      "   date retail_value\n",
      "1  2012        105.8\n",
      "2  2013        105.9\n",
      "3  2014        107.6\n",
      "4  2015        109.8\n",
      "5  2016        107.4\n"
     ]
    }
   ],
   "source": [
    "# 1Chuyển vị bảng để năm thành hàng\n",
    "df_retail_gso_clean = df_retail_gso.T\n",
    "\n",
    "# Reset index để tạo cột 'Year'\n",
    "df_retail_gso_clean = df_retail_gso_clean.reset_index()\n",
    "\n",
    "# Đặt lại tên cột\n",
    "df_retail_gso_clean.columns = ['date', 'retail_value']\n",
    "\n",
    "# Bỏ dòng unname \n",
    "df_retail_gso_clean = df_retail_gso_clean.drop(0)\n",
    "# Hiển thị kết quả\n",
    "print(df_retail_gso_clean.head())"
   ]
  },
  {
   "cell_type": "code",
   "execution_count": 7,
   "id": "32a3c91b",
   "metadata": {},
   "outputs": [
    {
     "name": "stdout",
     "output_type": "stream",
     "text": [
      "<class 'pandas.core.frame.DataFrame'>\n",
      "RangeIndex: 13 entries, 1 to 13\n",
      "Data columns (total 2 columns):\n",
      " #   Column        Non-Null Count  Dtype \n",
      "---  ------        --------------  ----- \n",
      " 0   date          13 non-null     object\n",
      " 1   retail_value  13 non-null     object\n",
      "dtypes: object(2)\n",
      "memory usage: 340.0+ bytes\n"
     ]
    }
   ],
   "source": [
    "df_retail_gso_clean.info()"
   ]
  },
  {
   "cell_type": "code",
   "execution_count": 8,
   "id": "d69bb961",
   "metadata": {},
   "outputs": [
    {
     "name": "stdout",
     "output_type": "stream",
     "text": [
      "<class 'pandas.core.frame.DataFrame'>\n",
      "RangeIndex: 13 entries, 1 to 13\n",
      "Data columns (total 2 columns):\n",
      " #   Column        Non-Null Count  Dtype         \n",
      "---  ------        --------------  -----         \n",
      " 0   date          13 non-null     datetime64[ns]\n",
      " 1   retail_value  13 non-null     float64       \n",
      "dtypes: datetime64[ns](1), float64(1)\n",
      "memory usage: 340.0 bytes\n",
      "        date  retail_value\n",
      "1 2012-12-31         105.8\n",
      "2 2013-12-31         105.9\n",
      "3 2014-12-31         107.6\n",
      "4 2015-12-31         109.8\n",
      "5 2016-12-31         107.4\n"
     ]
    }
   ],
   "source": [
    "# Làm sạch cột 'date' \n",
    "df_retail_gso_clean['date'] = (\n",
    "    df_retail_gso_clean['date']\n",
    "    .astype(str)\n",
    "    .str.extract(r'(\\d{4})')   # chỉ giữ lại 4 chữ số liên tiếp (ví dụ: \"Prel.2024\" → \"2024\")\n",
    ")\n",
    "\n",
    "# Chuyển sang datetime (dùng ngày cuối năm)\n",
    "df_retail_gso_clean['date'] = pd.to_datetime(df_retail_gso_clean['date'] + '-12-31', format='%Y-%m-%d')\n",
    "\n",
    "# Chuyển 'retail_value' sang float \n",
    "df_retail_gso_clean['retail_value'] = pd.to_numeric(df_retail_gso_clean['retail_value'], errors='coerce')\n",
    "\n",
    "# 🔍 5. Kiểm tra lại\n",
    "df_retail_gso_clean.info()\n",
    "print(df_retail_gso_clean.head())\n"
   ]
  },
  {
   "cell_type": "code",
   "execution_count": 9,
   "id": "b8e70cae",
   "metadata": {},
   "outputs": [
    {
     "data": {
      "text/plain": [
       "date            0\n",
       "retail_value    0\n",
       "dtype: int64"
      ]
     },
     "execution_count": 9,
     "metadata": {},
     "output_type": "execute_result"
    }
   ],
   "source": [
    "df_retail_gso_clean.isna().sum()"
   ]
  },
  {
   "cell_type": "code",
   "execution_count": 10,
   "id": "b6bc1877",
   "metadata": {},
   "outputs": [],
   "source": [
    "df_retail_gso_clean.to_csv(r'C:\\Users\\Admin\\Desktop\\TANPHAT\\hocotruong\\Năm ba 2025-2026\\HK1_A\\Thu thập và tiền xử lý dữ liệu\\Đồ_án_GDP\\data\\processed\\Retail_processed.csv.csv', index=False)"
   ]
  }
 ],
 "metadata": {
  "kernelspec": {
   "display_name": "Python 3",
   "language": "python",
   "name": "python3"
  },
  "language_info": {
   "codemirror_mode": {
    "name": "ipython",
    "version": 3
   },
   "file_extension": ".py",
   "mimetype": "text/x-python",
   "name": "python",
   "nbconvert_exporter": "python",
   "pygments_lexer": "ipython3",
   "version": "3.12.3"
  }
 },
 "nbformat": 4,
 "nbformat_minor": 5
}
