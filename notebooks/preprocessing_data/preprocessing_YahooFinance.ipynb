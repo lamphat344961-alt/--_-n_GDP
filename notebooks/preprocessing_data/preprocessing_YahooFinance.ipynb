{
 "cells": [
  {
   "cell_type": "markdown",
   "id": "8dc8cdf3",
   "metadata": {},
   "source": [
    "# Import thư viện\n"
   ]
  },
  {
   "cell_type": "code",
   "execution_count": null,
   "id": "821ddecd",
   "metadata": {},
   "outputs": [],
   "source": [
    "import pandas as pd"
   ]
  },
  {
   "cell_type": "code",
   "execution_count": 142,
   "id": "9774802e",
   "metadata": {},
   "outputs": [],
   "source": [
    " # Dầu Brent (daily)\n",
    "df_oil= pd.read_csv(r\"C:\\Users\\Admin\\Desktop\\TANPHAT\\hocotruong\\Năm ba 2025-2026\\HK1_A\\Thu thập và tiền xử lý dữ liệu\\Đồ_án_GDP\\data\\data_raw\\BZ_F_1d.csv\")           \n",
    " # USD/VND (daily)\n",
    "df_usdvnd  = pd.read_csv(r\"C:\\Users\\Admin\\Desktop\\TANPHAT\\hocotruong\\Năm ba 2025-2026\\HK1_A\\Thu thập và tiền xử lý dữ liệu\\Đồ_án_GDP\\data\\data_raw\\VND_X_1d.csv\")      "
   ]
  },
  {
   "cell_type": "code",
   "execution_count": 143,
   "id": "b9f50536",
   "metadata": {},
   "outputs": [
    {
     "data": {
      "text/html": [
       "<div>\n",
       "<style scoped>\n",
       "    .dataframe tbody tr th:only-of-type {\n",
       "        vertical-align: middle;\n",
       "    }\n",
       "\n",
       "    .dataframe tbody tr th {\n",
       "        vertical-align: top;\n",
       "    }\n",
       "\n",
       "    .dataframe thead th {\n",
       "        text-align: right;\n",
       "    }\n",
       "</style>\n",
       "<table border=\"1\" class=\"dataframe\">\n",
       "  <thead>\n",
       "    <tr style=\"text-align: right;\">\n",
       "      <th></th>\n",
       "      <th>datetime_utc</th>\n",
       "      <th>close</th>\n",
       "    </tr>\n",
       "  </thead>\n",
       "  <tbody>\n",
       "    <tr>\n",
       "      <th>0</th>\n",
       "      <td>2015-01-01 00:00:00+00:00</td>\n",
       "      <td>21375.0</td>\n",
       "    </tr>\n",
       "    <tr>\n",
       "      <th>1</th>\n",
       "      <td>2015-01-02 00:00:00+00:00</td>\n",
       "      <td>21063.0</td>\n",
       "    </tr>\n",
       "    <tr>\n",
       "      <th>2</th>\n",
       "      <td>2015-01-05 00:00:00+00:00</td>\n",
       "      <td>21046.0</td>\n",
       "    </tr>\n",
       "    <tr>\n",
       "      <th>3</th>\n",
       "      <td>2015-01-06 00:00:00+00:00</td>\n",
       "      <td>21097.0</td>\n",
       "    </tr>\n",
       "    <tr>\n",
       "      <th>4</th>\n",
       "      <td>2015-01-07 00:00:00+00:00</td>\n",
       "      <td>21083.0</td>\n",
       "    </tr>\n",
       "  </tbody>\n",
       "</table>\n",
       "</div>"
      ],
      "text/plain": [
       "                datetime_utc    close\n",
       "0  2015-01-01 00:00:00+00:00  21375.0\n",
       "1  2015-01-02 00:00:00+00:00  21063.0\n",
       "2  2015-01-05 00:00:00+00:00  21046.0\n",
       "3  2015-01-06 00:00:00+00:00  21097.0\n",
       "4  2015-01-07 00:00:00+00:00  21083.0"
      ]
     },
     "execution_count": 143,
     "metadata": {},
     "output_type": "execute_result"
    }
   ],
   "source": [
    "df_usdvnd.head()"
   ]
  },
  {
   "cell_type": "code",
   "execution_count": 144,
   "id": "19289510",
   "metadata": {},
   "outputs": [
    {
     "name": "stdout",
     "output_type": "stream",
     "text": [
      "<class 'pandas.core.frame.DataFrame'>\n",
      "RangeIndex: 2816 entries, 0 to 2815\n",
      "Data columns (total 2 columns):\n",
      " #   Column        Non-Null Count  Dtype  \n",
      "---  ------        --------------  -----  \n",
      " 0   datetime_utc  2816 non-null   object \n",
      " 1   close         2812 non-null   float64\n",
      "dtypes: float64(1), object(1)\n",
      "memory usage: 44.1+ KB\n"
     ]
    }
   ],
   "source": [
    "df_usdvnd.info()\n"
   ]
  },
  {
   "cell_type": "code",
   "execution_count": 145,
   "id": "44ace8b2",
   "metadata": {},
   "outputs": [
    {
     "data": {
      "text/html": [
       "<div>\n",
       "<style scoped>\n",
       "    .dataframe tbody tr th:only-of-type {\n",
       "        vertical-align: middle;\n",
       "    }\n",
       "\n",
       "    .dataframe tbody tr th {\n",
       "        vertical-align: top;\n",
       "    }\n",
       "\n",
       "    .dataframe thead th {\n",
       "        text-align: right;\n",
       "    }\n",
       "</style>\n",
       "<table border=\"1\" class=\"dataframe\">\n",
       "  <thead>\n",
       "    <tr style=\"text-align: right;\">\n",
       "      <th></th>\n",
       "      <th>close</th>\n",
       "    </tr>\n",
       "  </thead>\n",
       "  <tbody>\n",
       "    <tr>\n",
       "      <th>count</th>\n",
       "      <td>2812.000000</td>\n",
       "    </tr>\n",
       "    <tr>\n",
       "      <th>mean</th>\n",
       "      <td>23261.333579</td>\n",
       "    </tr>\n",
       "    <tr>\n",
       "      <th>std</th>\n",
       "      <td>1194.781853</td>\n",
       "    </tr>\n",
       "    <tr>\n",
       "      <th>min</th>\n",
       "      <td>20922.000000</td>\n",
       "    </tr>\n",
       "    <tr>\n",
       "      <th>25%</th>\n",
       "      <td>22400.750000</td>\n",
       "    </tr>\n",
       "    <tr>\n",
       "      <th>50%</th>\n",
       "      <td>23171.000000</td>\n",
       "    </tr>\n",
       "    <tr>\n",
       "      <th>75%</th>\n",
       "      <td>23580.000000</td>\n",
       "    </tr>\n",
       "    <tr>\n",
       "      <th>max</th>\n",
       "      <td>26425.000000</td>\n",
       "    </tr>\n",
       "  </tbody>\n",
       "</table>\n",
       "</div>"
      ],
      "text/plain": [
       "              close\n",
       "count   2812.000000\n",
       "mean   23261.333579\n",
       "std     1194.781853\n",
       "min    20922.000000\n",
       "25%    22400.750000\n",
       "50%    23171.000000\n",
       "75%    23580.000000\n",
       "max    26425.000000"
      ]
     },
     "execution_count": 145,
     "metadata": {},
     "output_type": "execute_result"
    }
   ],
   "source": [
    "df_usdvnd.describe()"
   ]
  },
  {
   "cell_type": "code",
   "execution_count": 146,
   "id": "7ed6bd64",
   "metadata": {},
   "outputs": [
    {
     "data": {
      "text/plain": [
       "close    0.142045\n",
       "dtype: float64"
      ]
     },
     "execution_count": 146,
     "metadata": {},
     "output_type": "execute_result"
    }
   ],
   "source": [
    "# Tỷ lệ phần trăm giá trị thiếu\n",
    "missing_percent = df_usdvnd.isnull().sum() / len(df_usdvnd) * 100\n",
    "missing_percent[missing_percent > 0]"
   ]
  },
  {
   "cell_type": "code",
   "execution_count": 147,
   "id": "e3b9b422",
   "metadata": {},
   "outputs": [
    {
     "name": "stdout",
     "output_type": "stream",
     "text": [
      "         date  USD_VND_Close\n",
      "0  2015-01-01        21375.0\n",
      "1  2015-01-02        21063.0\n",
      "2  2015-01-05        21046.0\n",
      "3  2015-01-06        21097.0\n",
      "4  2015-01-07        21083.0\n"
     ]
    }
   ],
   "source": [
    "# Xử lý cột ngày tháng\n",
    "\n",
    "# Chuyển sang datetime (dùng ngày cuối năm)\n",
    "df_usdvnd['datetime_utc'] = pd.to_datetime(df_usdvnd['datetime_utc'] )\n",
    "# Đổi tên cột cho dễ dùng\n",
    "df_usdvnd = df_usdvnd.rename(columns={\n",
    "    \"datetime_utc\": \"date\",\n",
    "    \"close\": \"USD_VND_Close\"\n",
    "})\n",
    "\n",
    "# Bỏ timezone (chuyển UTC -> naive datetime)\n",
    "df_usdvnd[\"date\"] = df_usdvnd[\"date\"].dt.tz_localize(None)\n",
    "df_usdvnd[\"date\"] = df_usdvnd[\"date\"].dt.date\n",
    "# Sắp xếp theo thời gian tăng dần và reset index\n",
    "df_usdvnd = df_usdvnd.sort_values(\"date\").reset_index(drop=True)\n",
    "\n",
    "print(df_usdvnd.head())\n"
   ]
  },
  {
   "cell_type": "code",
   "execution_count": 148,
   "id": "09ec41e4",
   "metadata": {},
   "outputs": [],
   "source": [
    "df_usdvnd.columns = df_usdvnd.columns.str.strip().str.lower().str.replace(' ', '_')"
   ]
  },
  {
   "cell_type": "code",
   "execution_count": 149,
   "id": "5003a8aa",
   "metadata": {},
   "outputs": [
    {
     "data": {
      "text/plain": [
       "0"
      ]
     },
     "execution_count": 149,
     "metadata": {},
     "output_type": "execute_result"
    }
   ],
   "source": [
    "df_usdvnd.duplicated().sum()  # kiểm tra trùng "
   ]
  },
  {
   "cell_type": "code",
   "execution_count": 150,
   "id": "73bdb76b",
   "metadata": {},
   "outputs": [
    {
     "data": {
      "text/html": [
       "<div>\n",
       "<style scoped>\n",
       "    .dataframe tbody tr th:only-of-type {\n",
       "        vertical-align: middle;\n",
       "    }\n",
       "\n",
       "    .dataframe tbody tr th {\n",
       "        vertical-align: top;\n",
       "    }\n",
       "\n",
       "    .dataframe thead th {\n",
       "        text-align: right;\n",
       "    }\n",
       "</style>\n",
       "<table border=\"1\" class=\"dataframe\">\n",
       "  <thead>\n",
       "    <tr style=\"text-align: right;\">\n",
       "      <th></th>\n",
       "      <th>date</th>\n",
       "      <th>usd_vnd_close</th>\n",
       "    </tr>\n",
       "  </thead>\n",
       "  <tbody>\n",
       "    <tr>\n",
       "      <th>0</th>\n",
       "      <td>2015-01-01</td>\n",
       "      <td>21375.0</td>\n",
       "    </tr>\n",
       "    <tr>\n",
       "      <th>1</th>\n",
       "      <td>2015-01-02</td>\n",
       "      <td>21063.0</td>\n",
       "    </tr>\n",
       "    <tr>\n",
       "      <th>2</th>\n",
       "      <td>2015-01-05</td>\n",
       "      <td>21046.0</td>\n",
       "    </tr>\n",
       "    <tr>\n",
       "      <th>3</th>\n",
       "      <td>2015-01-06</td>\n",
       "      <td>21097.0</td>\n",
       "    </tr>\n",
       "    <tr>\n",
       "      <th>4</th>\n",
       "      <td>2015-01-07</td>\n",
       "      <td>21083.0</td>\n",
       "    </tr>\n",
       "  </tbody>\n",
       "</table>\n",
       "</div>"
      ],
      "text/plain": [
       "         date  usd_vnd_close\n",
       "0  2015-01-01        21375.0\n",
       "1  2015-01-02        21063.0\n",
       "2  2015-01-05        21046.0\n",
       "3  2015-01-06        21097.0\n",
       "4  2015-01-07        21083.0"
      ]
     },
     "execution_count": 150,
     "metadata": {},
     "output_type": "execute_result"
    }
   ],
   "source": [
    "df_usdvnd.head()"
   ]
  },
  {
   "cell_type": "code",
   "execution_count": 151,
   "id": "ab004954",
   "metadata": {},
   "outputs": [
    {
     "name": "stdout",
     "output_type": "stream",
     "text": [
      "date             0\n",
      "usd_vnd_close    0\n",
      "dtype: int64\n"
     ]
    }
   ],
   "source": [
    "# Fillna \n",
    "df_usdvnd['usd_vnd_close'] = df_usdvnd['usd_vnd_close'].interpolate(method='linear')\n",
    "print(df_usdvnd.isna().sum())"
   ]
  },
  {
   "cell_type": "code",
   "execution_count": 152,
   "id": "b4afb9da",
   "metadata": {},
   "outputs": [
    {
     "data": {
      "text/html": [
       "<div>\n",
       "<style scoped>\n",
       "    .dataframe tbody tr th:only-of-type {\n",
       "        vertical-align: middle;\n",
       "    }\n",
       "\n",
       "    .dataframe tbody tr th {\n",
       "        vertical-align: top;\n",
       "    }\n",
       "\n",
       "    .dataframe thead th {\n",
       "        text-align: right;\n",
       "    }\n",
       "</style>\n",
       "<table border=\"1\" class=\"dataframe\">\n",
       "  <thead>\n",
       "    <tr style=\"text-align: right;\">\n",
       "      <th></th>\n",
       "      <th>datetime_utc</th>\n",
       "      <th>close</th>\n",
       "    </tr>\n",
       "  </thead>\n",
       "  <tbody>\n",
       "    <tr>\n",
       "      <th>0</th>\n",
       "      <td>2015-01-02 05:00:00+00:00</td>\n",
       "      <td>56.419998</td>\n",
       "    </tr>\n",
       "    <tr>\n",
       "      <th>1</th>\n",
       "      <td>2015-01-05 05:00:00+00:00</td>\n",
       "      <td>53.110001</td>\n",
       "    </tr>\n",
       "    <tr>\n",
       "      <th>2</th>\n",
       "      <td>2015-01-06 05:00:00+00:00</td>\n",
       "      <td>51.099998</td>\n",
       "    </tr>\n",
       "    <tr>\n",
       "      <th>3</th>\n",
       "      <td>2015-01-07 05:00:00+00:00</td>\n",
       "      <td>51.150002</td>\n",
       "    </tr>\n",
       "    <tr>\n",
       "      <th>4</th>\n",
       "      <td>2015-01-08 05:00:00+00:00</td>\n",
       "      <td>50.959999</td>\n",
       "    </tr>\n",
       "  </tbody>\n",
       "</table>\n",
       "</div>"
      ],
      "text/plain": [
       "                datetime_utc      close\n",
       "0  2015-01-02 05:00:00+00:00  56.419998\n",
       "1  2015-01-05 05:00:00+00:00  53.110001\n",
       "2  2015-01-06 05:00:00+00:00  51.099998\n",
       "3  2015-01-07 05:00:00+00:00  51.150002\n",
       "4  2015-01-08 05:00:00+00:00  50.959999"
      ]
     },
     "execution_count": 152,
     "metadata": {},
     "output_type": "execute_result"
    }
   ],
   "source": [
    "df_oil.head()"
   ]
  },
  {
   "cell_type": "code",
   "execution_count": 153,
   "id": "cc4daf35",
   "metadata": {},
   "outputs": [
    {
     "name": "stdout",
     "output_type": "stream",
     "text": [
      "<class 'pandas.core.frame.DataFrame'>\n",
      "RangeIndex: 2719 entries, 0 to 2718\n",
      "Data columns (total 2 columns):\n",
      " #   Column        Non-Null Count  Dtype  \n",
      "---  ------        --------------  -----  \n",
      " 0   datetime_utc  2719 non-null   object \n",
      " 1   close         2715 non-null   float64\n",
      "dtypes: float64(1), object(1)\n",
      "memory usage: 42.6+ KB\n"
     ]
    }
   ],
   "source": [
    "df_oil.info()"
   ]
  },
  {
   "cell_type": "code",
   "execution_count": 154,
   "id": "07d369df",
   "metadata": {},
   "outputs": [
    {
     "data": {
      "text/html": [
       "<div>\n",
       "<style scoped>\n",
       "    .dataframe tbody tr th:only-of-type {\n",
       "        vertical-align: middle;\n",
       "    }\n",
       "\n",
       "    .dataframe tbody tr th {\n",
       "        vertical-align: top;\n",
       "    }\n",
       "\n",
       "    .dataframe thead th {\n",
       "        text-align: right;\n",
       "    }\n",
       "</style>\n",
       "<table border=\"1\" class=\"dataframe\">\n",
       "  <thead>\n",
       "    <tr style=\"text-align: right;\">\n",
       "      <th></th>\n",
       "      <th>close</th>\n",
       "    </tr>\n",
       "  </thead>\n",
       "  <tbody>\n",
       "    <tr>\n",
       "      <th>count</th>\n",
       "      <td>2715.000000</td>\n",
       "    </tr>\n",
       "    <tr>\n",
       "      <th>mean</th>\n",
       "      <td>66.648641</td>\n",
       "    </tr>\n",
       "    <tr>\n",
       "      <th>std</th>\n",
       "      <td>17.819646</td>\n",
       "    </tr>\n",
       "    <tr>\n",
       "      <th>min</th>\n",
       "      <td>19.330000</td>\n",
       "    </tr>\n",
       "    <tr>\n",
       "      <th>25%</th>\n",
       "      <td>52.975000</td>\n",
       "    </tr>\n",
       "    <tr>\n",
       "      <th>50%</th>\n",
       "      <td>66.550003</td>\n",
       "    </tr>\n",
       "    <tr>\n",
       "      <th>75%</th>\n",
       "      <td>78.145000</td>\n",
       "    </tr>\n",
       "    <tr>\n",
       "      <th>max</th>\n",
       "      <td>127.980003</td>\n",
       "    </tr>\n",
       "  </tbody>\n",
       "</table>\n",
       "</div>"
      ],
      "text/plain": [
       "             close\n",
       "count  2715.000000\n",
       "mean     66.648641\n",
       "std      17.819646\n",
       "min      19.330000\n",
       "25%      52.975000\n",
       "50%      66.550003\n",
       "75%      78.145000\n",
       "max     127.980003"
      ]
     },
     "execution_count": 154,
     "metadata": {},
     "output_type": "execute_result"
    }
   ],
   "source": [
    "df_oil.describe()"
   ]
  },
  {
   "cell_type": "code",
   "execution_count": 155,
   "id": "b8cd3a03",
   "metadata": {},
   "outputs": [
    {
     "data": {
      "text/plain": [
       "Series([], dtype: float64)"
      ]
     },
     "execution_count": 155,
     "metadata": {},
     "output_type": "execute_result"
    }
   ],
   "source": [
    "# Tỷ lệ phần trăm giá trị thiếu\n",
    "missing_percent = df_usdvnd.isnull().sum() / len(df_usdvnd) * 100\n",
    "missing_percent[missing_percent > 0]"
   ]
  },
  {
   "cell_type": "code",
   "execution_count": 156,
   "id": "f311ce32",
   "metadata": {},
   "outputs": [
    {
     "name": "stdout",
     "output_type": "stream",
     "text": [
      "         date  Oil_Price_Close\n",
      "0  2015-01-02        56.419998\n",
      "1  2015-01-05        53.110001\n",
      "2  2015-01-06        51.099998\n",
      "3  2015-01-07        51.150002\n",
      "4  2015-01-08        50.959999\n"
     ]
    }
   ],
   "source": [
    "# Xử lý cột ngày tháng\n",
    "\n",
    "# Chuyển sang datetime (dùng ngày cuối năm)\n",
    "df_oil[\"datetime_utc\"] = pd.to_datetime(df_oil[\"datetime_utc\"], errors=\"coerce\", utc=True)\n",
    "df_oil = df_oil.rename(columns={\n",
    "    \"datetime_utc\": \"date\",\n",
    "    \"close\": \"Oil_Price_Close\"\n",
    "})\n",
    "\n",
    "# Bỏ timezone \n",
    "df_oil[\"date\"] = df_oil[\"date\"].dt.tz_localize(None)\n",
    "df_oil[\"date\"] = df_oil[\"date\"].dt.date\n",
    "# Sắp xếp theo thời gian tăng dần và reset index\n",
    "df_oil = df_oil.sort_values(\"date\").reset_index(drop=True)\n",
    "\n",
    "\n",
    "print(df_oil.head())\n"
   ]
  },
  {
   "cell_type": "code",
   "execution_count": 157,
   "id": "5407e30b",
   "metadata": {},
   "outputs": [
    {
     "name": "stdout",
     "output_type": "stream",
     "text": [
      "         date  oil_price_close\n",
      "0  2015-01-02        56.419998\n",
      "1  2015-01-05        53.110001\n",
      "2  2015-01-06        51.099998\n",
      "3  2015-01-07        51.150002\n",
      "4  2015-01-08        50.959999\n"
     ]
    }
   ],
   "source": [
    "df_oil.columns = df_oil.columns.str.strip().str.lower().str.replace(' ', '_')\n",
    "print(df_oil.head())"
   ]
  },
  {
   "cell_type": "code",
   "execution_count": 158,
   "id": "028327ce",
   "metadata": {},
   "outputs": [
    {
     "name": "stdout",
     "output_type": "stream",
     "text": [
      "date               0\n",
      "oil_price_close    0\n",
      "dtype: int64\n"
     ]
    }
   ],
   "source": [
    "# fillna \n",
    "df_oil['oil_price_close'] = df_oil['oil_price_close'].interpolate(method='linear')\n",
    "print(df_oil.isna().sum())"
   ]
  },
  {
   "cell_type": "code",
   "execution_count": 159,
   "id": "61e0ccd5",
   "metadata": {},
   "outputs": [],
   "source": [
    "df_oil.to_csv(r'C:\\Users\\Admin\\Desktop\\TANPHAT\\hocotruong\\Năm ba 2025-2026\\HK1_A\\Thu thập và tiền xử lý dữ liệu\\Đồ_án_GDP\\data\\processed\\OIL_processed.csv.csv', index=False)\n",
    "df_usdvnd.to_csv(r'C:\\Users\\Admin\\Desktop\\TANPHAT\\hocotruong\\Năm ba 2025-2026\\HK1_A\\Thu thập và tiền xử lý dữ liệu\\Đồ_án_GDP\\data\\processed\\USDVND_processed.csv', index=False)"
   ]
  }
 ],
 "metadata": {
  "kernelspec": {
   "display_name": "Python 3",
   "language": "python",
   "name": "python3"
  },
  "language_info": {
   "codemirror_mode": {
    "name": "ipython",
    "version": 3
   },
   "file_extension": ".py",
   "mimetype": "text/x-python",
   "name": "python",
   "nbconvert_exporter": "python",
   "pygments_lexer": "ipython3",
   "version": "3.12.3"
  }
 },
 "nbformat": 4,
 "nbformat_minor": 5
}
