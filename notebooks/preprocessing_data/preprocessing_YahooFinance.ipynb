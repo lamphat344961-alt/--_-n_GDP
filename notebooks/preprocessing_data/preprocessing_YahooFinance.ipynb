{
 "cells": [
  {
   "cell_type": "markdown",
   "id": "8dc8cdf3",
   "metadata": {},
   "source": [
    "# Import thư viện\n"
   ]
  },
  {
   "cell_type": "code",
   "execution_count": null,
   "id": "821ddecd",
   "metadata": {},
   "outputs": [],
   "source": [
    "import pandas as pd"
   ]
  },
  {
   "cell_type": "markdown",
   "id": "34af06aa",
   "metadata": {},
   "source": [
    "# Đọc dữ liệu"
   ]
  },
  {
   "cell_type": "code",
   "execution_count": null,
   "id": "9774802e",
   "metadata": {},
   "outputs": [],
   "source": [
    " # Dầu Brent (daily)\n",
    "df_oil= pd.read_csv(r\"C:\\Users\\Admin\\Desktop\\TANPHAT\\hocotruong\\Năm ba 2025-2026\\HK1_A\\Thu thập và tiền xử lý dữ liệu\\Đồ_án_GDP\\data\\data_raw\\BZ_F_1d.csv\")           \n",
    " # USD/VND (daily)\n",
    "df_usdvnd  = pd.read_csv(r\"C:\\Users\\Admin\\Desktop\\TANPHAT\\hocotruong\\Năm ba 2025-2026\\HK1_A\\Thu thập và tiền xử lý dữ liệu\\Đồ_án_GDP\\data\\data_raw\\VND_X_1d.csv\")      "
   ]
  },
  {
   "cell_type": "markdown",
   "id": "a199abe0",
   "metadata": {},
   "source": [
    "# Khám phá sơ bộ dữ liệu"
   ]
  },
  {
   "cell_type": "code",
   "execution_count": null,
   "id": "b9f50536",
   "metadata": {},
   "outputs": [],
   "source": [
    "df_usdvnd.head()"
   ]
  },
  {
   "cell_type": "code",
   "execution_count": null,
   "id": "19289510",
   "metadata": {},
   "outputs": [],
   "source": [
    "df_usdvnd.info()\n"
   ]
  },
  {
   "cell_type": "code",
   "execution_count": null,
   "id": "44ace8b2",
   "metadata": {},
   "outputs": [],
   "source": [
    "df_usdvnd.describe()"
   ]
  },
  {
   "cell_type": "markdown",
   "id": "1b16a534",
   "metadata": {},
   "source": [
    "# Kiểm tra phần trăm giá trị bị thiếu"
   ]
  },
  {
   "cell_type": "code",
   "execution_count": null,
   "id": "7ed6bd64",
   "metadata": {},
   "outputs": [],
   "source": [
    "# Tỷ lệ phần trăm giá trị thiếu\n",
    "missing_percent = df_usdvnd.isnull().sum() / len(df_usdvnd) * 100\n",
    "missing_percent[missing_percent > 0]"
   ]
  },
  {
   "cell_type": "markdown",
   "id": "ee1dea46",
   "metadata": {},
   "source": [
    "# Chuẩn hóa dữ liệu"
   ]
  },
  {
   "cell_type": "markdown",
   "id": "e82b823d",
   "metadata": {},
   "source": [
    "Chuẩn hóa dữ liệu , xử lý cột ngày tháng , đổi tên cột , bỏ timezone chuyển hóa cho thích hợp tất cả dữ liệu với nhau \n",
    "Fill các giá trị thiếu bằng fillna , kiểm tra lại các dữ liệu đã hoàn thành hay chưa"
   ]
  },
  {
   "cell_type": "code",
   "execution_count": null,
   "id": "e3b9b422",
   "metadata": {},
   "outputs": [],
   "source": [
    "# Xử lý cột ngày tháng\n",
    "\n",
    "# Chuyển sang datetime (dùng ngày cuối năm)\n",
    "df_usdvnd['datetime_utc'] = pd.to_datetime(df_usdvnd['datetime_utc'] )\n",
    "# Đổi tên cột cho dễ dùng\n",
    "df_usdvnd = df_usdvnd.rename(columns={\n",
    "    \"datetime_utc\": \"date\",\n",
    "    \"close\": \"USD_VND_Close\"\n",
    "})\n",
    "\n",
    "# Bỏ timezone (chuyển UTC -> naive datetime)\n",
    "df_usdvnd[\"date\"] = df_usdvnd[\"date\"].dt.tz_localize(None)\n",
    "df_usdvnd[\"date\"] = df_usdvnd[\"date\"].dt.date\n",
    "# Sắp xếp theo thời gian tăng dần và reset index\n",
    "df_usdvnd = df_usdvnd.sort_values(\"date\").reset_index(drop=True)\n",
    "\n",
    "print(df_usdvnd.head())\n"
   ]
  },
  {
   "cell_type": "code",
   "execution_count": null,
   "id": "09ec41e4",
   "metadata": {},
   "outputs": [],
   "source": [
    "df_usdvnd.columns = df_usdvnd.columns.str.strip().str.lower().str.replace(' ', '_')"
   ]
  },
  {
   "cell_type": "code",
   "execution_count": null,
   "id": "5003a8aa",
   "metadata": {},
   "outputs": [],
   "source": [
    "df_usdvnd.duplicated().sum()  # kiểm tra trùng "
   ]
  },
  {
   "cell_type": "code",
   "execution_count": null,
   "id": "73bdb76b",
   "metadata": {},
   "outputs": [],
   "source": [
    "df_usdvnd.head()"
   ]
  },
  {
   "cell_type": "markdown",
   "id": "906d209f",
   "metadata": {},
   "source": [
    "# Xử lý dữ liệu thiếu bằng nội suy tuyến tính"
   ]
  },
  {
   "cell_type": "code",
   "execution_count": null,
   "id": "ab004954",
   "metadata": {},
   "outputs": [],
   "source": [
    "# Fillna \n",
    "df_usdvnd['usd_vnd_close'] = df_usdvnd['usd_vnd_close'].interpolate(method='linear')\n",
    "print(df_usdvnd.isna().sum())"
   ]
  },
  {
   "cell_type": "code",
   "execution_count": null,
   "id": "b4afb9da",
   "metadata": {},
   "outputs": [],
   "source": [
    "df_oil.head()"
   ]
  },
  {
   "cell_type": "code",
   "execution_count": null,
   "id": "cc4daf35",
   "metadata": {},
   "outputs": [],
   "source": [
    "df_oil.info()"
   ]
  },
  {
   "cell_type": "code",
   "execution_count": null,
   "id": "07d369df",
   "metadata": {},
   "outputs": [],
   "source": [
    "df_oil.describe()"
   ]
  },
  {
   "cell_type": "code",
   "execution_count": null,
   "id": "b8cd3a03",
   "metadata": {},
   "outputs": [],
   "source": [
    "# Tỷ lệ phần trăm giá trị thiếu\n",
    "missing_percent = df_usdvnd.isnull().sum() / len(df_usdvnd) * 100\n",
    "missing_percent[missing_percent > 0]"
   ]
  },
  {
   "cell_type": "code",
   "execution_count": null,
   "id": "f311ce32",
   "metadata": {},
   "outputs": [],
   "source": [
    "# Xử lý cột ngày tháng\n",
    "\n",
    "# Chuyển sang datetime (dùng ngày cuối năm)\n",
    "df_oil[\"datetime_utc\"] = pd.to_datetime(df_oil[\"datetime_utc\"], errors=\"coerce\", utc=True)\n",
    "df_oil = df_oil.rename(columns={\n",
    "    \"datetime_utc\": \"date\",\n",
    "    \"close\": \"Oil_Price_Close\"\n",
    "})\n",
    "\n",
    "# Bỏ timezone \n",
    "df_oil[\"date\"] = df_oil[\"date\"].dt.tz_localize(None)\n",
    "df_oil[\"date\"] = df_oil[\"date\"].dt.date\n",
    "# Sắp xếp theo thời gian tăng dần và reset index\n",
    "df_oil = df_oil.sort_values(\"date\").reset_index(drop=True)\n",
    "\n",
    "\n",
    "print(df_oil.head())\n"
   ]
  },
  {
   "cell_type": "code",
   "execution_count": null,
   "id": "5407e30b",
   "metadata": {},
   "outputs": [],
   "source": [
    "df_oil.columns = df_oil.columns.str.strip().str.lower().str.replace(' ', '_')\n",
    "print(df_oil.head())"
   ]
  },
  {
   "cell_type": "markdown",
   "id": "990a2678",
   "metadata": {},
   "source": [
    "# Xử lý dữ liệu thiếu bằng nội suy tuyến tính"
   ]
  },
  {
   "cell_type": "code",
   "execution_count": null,
   "id": "028327ce",
   "metadata": {},
   "outputs": [],
   "source": [
    "# fillna \n",
    "df_oil['oil_price_close'] = df_oil['oil_price_close'].interpolate(method='linear')\n",
    "print(df_oil.isna().sum())"
   ]
  },
  {
   "cell_type": "markdown",
   "id": "092569d9",
   "metadata": {},
   "source": [
    "# Lưu file csv"
   ]
  },
  {
   "cell_type": "code",
   "execution_count": null,
   "id": "61e0ccd5",
   "metadata": {},
   "outputs": [],
   "source": [
    "df_oil.to_csv(r'C:\\Users\\Admin\\Desktop\\TANPHAT\\hocotruong\\Năm ba 2025-2026\\HK1_A\\Thu thập và tiền xử lý dữ liệu\\Đồ_án_GDP\\data\\processed\\OIL_processed.csv.csv', index=False)\n",
    "df_usdvnd.to_csv(r'C:\\Users\\Admin\\Desktop\\TANPHAT\\hocotruong\\Năm ba 2025-2026\\HK1_A\\Thu thập và tiền xử lý dữ liệu\\Đồ_án_GDP\\data\\processed\\USDVND_processed.csv', index=False)"
   ]
  }
 ],
 "metadata": {
  "kernelspec": {
   "display_name": "Python 3",
   "language": "python",
   "name": "python3"
  },
  "language_info": {
   "codemirror_mode": {
    "name": "ipython",
    "version": 3
   },
   "file_extension": ".py",
   "mimetype": "text/x-python",
   "name": "python",
   "nbconvert_exporter": "python",
   "pygments_lexer": "ipython3",
   "version": "3.12.3"
  }
 },
 "nbformat": 4,
 "nbformat_minor": 5
}
