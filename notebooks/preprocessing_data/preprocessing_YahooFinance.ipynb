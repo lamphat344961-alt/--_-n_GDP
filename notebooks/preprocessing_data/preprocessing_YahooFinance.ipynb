{
 "cells": [
  {
   "cell_type": "code",
   "execution_count": 137,
   "id": "821ddecd",
   "metadata": {},
   "outputs": [],
   "source": [
    "import pandas as pd"
   ]
  },
  {
   "cell_type": "code",
   "execution_count": 138,
   "id": "9774802e",
   "metadata": {},
   "outputs": [],
   "source": [
    " # Dầu Brent (daily)\n",
    "df_oil= pd.read_csv(r\"C:\\Users\\Admin\\Desktop\\TANPHAT\\hocotruong\\Năm ba 2025-2026\\HK1_A\\Thu thập và tiền xử lý dữ liệu\\Đồ_án_GDP\\data\\data_raw\\BZ_F_1d.csv\")           \n",
    " # USD/VND (daily)\n",
    "df_usdvnd  = pd.read_csv(r\"C:\\Users\\Admin\\Desktop\\TANPHAT\\hocotruong\\Năm ba 2025-2026\\HK1_A\\Thu thập và tiền xử lý dữ liệu\\Đồ_án_GDP\\data\\data_raw\\VND_X_1d.csv\")      "
   ]
  },
  {
   "cell_type": "code",
   "execution_count": 139,
   "id": "b9f50536",
   "metadata": {},
   "outputs": [
    {
     "data": {
      "text/html": [
       "<div>\n",
       "<style scoped>\n",
       "    .dataframe tbody tr th:only-of-type {\n",
       "        vertical-align: middle;\n",
       "    }\n",
       "\n",
       "    .dataframe tbody tr th {\n",
       "        vertical-align: top;\n",
       "    }\n",
       "\n",
       "    .dataframe thead th {\n",
       "        text-align: right;\n",
       "    }\n",
       "</style>\n",
       "<table border=\"1\" class=\"dataframe\">\n",
       "  <thead>\n",
       "    <tr style=\"text-align: right;\">\n",
       "      <th></th>\n",
       "      <th>datetime_utc</th>\n",
       "      <th>close</th>\n",
       "    </tr>\n",
       "  </thead>\n",
       "  <tbody>\n",
       "    <tr>\n",
       "      <th>0</th>\n",
       "      <td>2015-01-01 00:00:00+00:00</td>\n",
       "      <td>21375.0</td>\n",
       "    </tr>\n",
       "    <tr>\n",
       "      <th>1</th>\n",
       "      <td>2015-01-02 00:00:00+00:00</td>\n",
       "      <td>21063.0</td>\n",
       "    </tr>\n",
       "    <tr>\n",
       "      <th>2</th>\n",
       "      <td>2015-01-05 00:00:00+00:00</td>\n",
       "      <td>21046.0</td>\n",
       "    </tr>\n",
       "    <tr>\n",
       "      <th>3</th>\n",
       "      <td>2015-01-06 00:00:00+00:00</td>\n",
       "      <td>21097.0</td>\n",
       "    </tr>\n",
       "    <tr>\n",
       "      <th>4</th>\n",
       "      <td>2015-01-07 00:00:00+00:00</td>\n",
       "      <td>21083.0</td>\n",
       "    </tr>\n",
       "  </tbody>\n",
       "</table>\n",
       "</div>"
      ],
      "text/plain": [
       "                datetime_utc    close\n",
       "0  2015-01-01 00:00:00+00:00  21375.0\n",
       "1  2015-01-02 00:00:00+00:00  21063.0\n",
       "2  2015-01-05 00:00:00+00:00  21046.0\n",
       "3  2015-01-06 00:00:00+00:00  21097.0\n",
       "4  2015-01-07 00:00:00+00:00  21083.0"
      ]
     },
     "execution_count": 139,
     "metadata": {},
     "output_type": "execute_result"
    }
   ],
   "source": [
    "df_usdvnd.head()"
   ]
  },
  {
   "cell_type": "code",
   "execution_count": 140,
   "id": "19289510",
   "metadata": {},
   "outputs": [
    {
     "name": "stdout",
     "output_type": "stream",
     "text": [
      "<class 'pandas.core.frame.DataFrame'>\n",
      "RangeIndex: 2816 entries, 0 to 2815\n",
      "Data columns (total 2 columns):\n",
      " #   Column        Non-Null Count  Dtype  \n",
      "---  ------        --------------  -----  \n",
      " 0   datetime_utc  2816 non-null   object \n",
      " 1   close         2812 non-null   float64\n",
      "dtypes: float64(1), object(1)\n",
      "memory usage: 44.1+ KB\n"
     ]
    }
   ],
   "source": [
    "df_usdvnd.info()\n"
   ]
  },
  {
   "cell_type": "code",
   "execution_count": 141,
   "id": "44ace8b2",
   "metadata": {},
   "outputs": [
    {
     "data": {
      "text/html": [
       "<div>\n",
       "<style scoped>\n",
       "    .dataframe tbody tr th:only-of-type {\n",
       "        vertical-align: middle;\n",
       "    }\n",
       "\n",
       "    .dataframe tbody tr th {\n",
       "        vertical-align: top;\n",
       "    }\n",
       "\n",
       "    .dataframe thead th {\n",
       "        text-align: right;\n",
       "    }\n",
       "</style>\n",
       "<table border=\"1\" class=\"dataframe\">\n",
       "  <thead>\n",
       "    <tr style=\"text-align: right;\">\n",
       "      <th></th>\n",
       "      <th>close</th>\n",
       "    </tr>\n",
       "  </thead>\n",
       "  <tbody>\n",
       "    <tr>\n",
       "      <th>count</th>\n",
       "      <td>2812.000000</td>\n",
       "    </tr>\n",
       "    <tr>\n",
       "      <th>mean</th>\n",
       "      <td>23261.333579</td>\n",
       "    </tr>\n",
       "    <tr>\n",
       "      <th>std</th>\n",
       "      <td>1194.781853</td>\n",
       "    </tr>\n",
       "    <tr>\n",
       "      <th>min</th>\n",
       "      <td>20922.000000</td>\n",
       "    </tr>\n",
       "    <tr>\n",
       "      <th>25%</th>\n",
       "      <td>22400.750000</td>\n",
       "    </tr>\n",
       "    <tr>\n",
       "      <th>50%</th>\n",
       "      <td>23171.000000</td>\n",
       "    </tr>\n",
       "    <tr>\n",
       "      <th>75%</th>\n",
       "      <td>23580.000000</td>\n",
       "    </tr>\n",
       "    <tr>\n",
       "      <th>max</th>\n",
       "      <td>26425.000000</td>\n",
       "    </tr>\n",
       "  </tbody>\n",
       "</table>\n",
       "</div>"
      ],
      "text/plain": [
       "              close\n",
       "count   2812.000000\n",
       "mean   23261.333579\n",
       "std     1194.781853\n",
       "min    20922.000000\n",
       "25%    22400.750000\n",
       "50%    23171.000000\n",
       "75%    23580.000000\n",
       "max    26425.000000"
      ]
     },
     "execution_count": 141,
     "metadata": {},
     "output_type": "execute_result"
    }
   ],
   "source": [
    "df_usdvnd.describe()"
   ]
  },
  {
   "cell_type": "code",
   "execution_count": 142,
   "id": "7ed6bd64",
   "metadata": {},
   "outputs": [
    {
     "name": "stdout",
     "output_type": "stream",
     "text": [
      "datetime_utc    0\n",
      "close           4\n",
      "dtype: int64\n"
     ]
    },
    {
     "data": {
      "text/plain": [
       "close    0.142045\n",
       "dtype: float64"
      ]
     },
     "execution_count": 142,
     "metadata": {},
     "output_type": "execute_result"
    }
   ],
   "source": [
    "print(df_usdvnd.isna().sum())\n",
    "\n",
    "# Tỷ lệ phần trăm giá trị thiếu\n",
    "missing_percent = df_usdvnd.isnull().sum() / len(df_usdvnd) * 100\n",
    "missing_percent[missing_percent > 0]"
   ]
  },
  {
   "cell_type": "code",
   "execution_count": null,
   "id": "e3b9b422",
   "metadata": {},
   "outputs": [
    {
     "name": "stdout",
     "output_type": "stream",
     "text": [
      "         Date  USD_VND_Close\n",
      "0  2015-01-01        21375.0\n",
      "1  2015-01-02        21063.0\n",
      "2  2015-01-05        21046.0\n",
      "3  2015-01-06        21097.0\n",
      "4  2015-01-07        21083.0\n"
     ]
    }
   ],
   "source": [
    "# Xử lý cột ngày tháng\n",
    "df_usdvnd[\"datetime_utc\"] = pd.to_datetime(df_usdvnd[\"datetime_utc\"], errors=\"coerce\", utc=True)\n",
    "\n",
    "# Đổi tên cột cho dễ dùng\n",
    "df_usdvnd = df_usdvnd.rename(columns={\n",
    "    \"datetime_utc\": \"Date\",\n",
    "    \"close\": \"USD_VND_Close\"\n",
    "})\n",
    "\n",
    "# Bỏ timezone (chuyển UTC -> naive datetime)\n",
    "df_usdvnd[\"Date\"] = df_usdvnd[\"Date\"].dt.tz_localize(None)\n",
    "df_usdvnd[\"Date\"] = df_usdvnd[\"Date\"].dt.date\n",
    "# Sắp xếp theo thời gian tăng dần và reset index\n",
    "df_usdvnd = df_usdvnd.sort_values(\"Date\").reset_index(drop=True)\n",
    "\n",
    "print(df_usdvnd.head())\n"
   ]
  },
  {
   "cell_type": "code",
   "execution_count": 149,
   "id": "92ae1e5e",
   "metadata": {},
   "outputs": [],
   "source": [
    "# TODO: Chuẩn hóa tên cột\n",
    "df_usdvnd.columns = df_usdvnd.columns.str.strip().str.lower().str.replace(' ', '_')"
   ]
  },
  {
   "cell_type": "code",
   "execution_count": 145,
   "id": "cc4daf35",
   "metadata": {},
   "outputs": [
    {
     "name": "stdout",
     "output_type": "stream",
     "text": [
      "<class 'pandas.core.frame.DataFrame'>\n",
      "RangeIndex: 2719 entries, 0 to 2718\n",
      "Data columns (total 2 columns):\n",
      " #   Column        Non-Null Count  Dtype  \n",
      "---  ------        --------------  -----  \n",
      " 0   datetime_utc  2719 non-null   object \n",
      " 1   close         2715 non-null   float64\n",
      "dtypes: float64(1), object(1)\n",
      "memory usage: 42.6+ KB\n"
     ]
    }
   ],
   "source": [
    "df_oil.info()"
   ]
  },
  {
   "cell_type": "code",
   "execution_count": 146,
   "id": "07d369df",
   "metadata": {},
   "outputs": [
    {
     "data": {
      "text/html": [
       "<div>\n",
       "<style scoped>\n",
       "    .dataframe tbody tr th:only-of-type {\n",
       "        vertical-align: middle;\n",
       "    }\n",
       "\n",
       "    .dataframe tbody tr th {\n",
       "        vertical-align: top;\n",
       "    }\n",
       "\n",
       "    .dataframe thead th {\n",
       "        text-align: right;\n",
       "    }\n",
       "</style>\n",
       "<table border=\"1\" class=\"dataframe\">\n",
       "  <thead>\n",
       "    <tr style=\"text-align: right;\">\n",
       "      <th></th>\n",
       "      <th>close</th>\n",
       "    </tr>\n",
       "  </thead>\n",
       "  <tbody>\n",
       "    <tr>\n",
       "      <th>count</th>\n",
       "      <td>2715.000000</td>\n",
       "    </tr>\n",
       "    <tr>\n",
       "      <th>mean</th>\n",
       "      <td>66.648641</td>\n",
       "    </tr>\n",
       "    <tr>\n",
       "      <th>std</th>\n",
       "      <td>17.819646</td>\n",
       "    </tr>\n",
       "    <tr>\n",
       "      <th>min</th>\n",
       "      <td>19.330000</td>\n",
       "    </tr>\n",
       "    <tr>\n",
       "      <th>25%</th>\n",
       "      <td>52.975000</td>\n",
       "    </tr>\n",
       "    <tr>\n",
       "      <th>50%</th>\n",
       "      <td>66.550003</td>\n",
       "    </tr>\n",
       "    <tr>\n",
       "      <th>75%</th>\n",
       "      <td>78.145000</td>\n",
       "    </tr>\n",
       "    <tr>\n",
       "      <th>max</th>\n",
       "      <td>127.980003</td>\n",
       "    </tr>\n",
       "  </tbody>\n",
       "</table>\n",
       "</div>"
      ],
      "text/plain": [
       "             close\n",
       "count  2715.000000\n",
       "mean     66.648641\n",
       "std      17.819646\n",
       "min      19.330000\n",
       "25%      52.975000\n",
       "50%      66.550003\n",
       "75%      78.145000\n",
       "max     127.980003"
      ]
     },
     "execution_count": 146,
     "metadata": {},
     "output_type": "execute_result"
    }
   ],
   "source": [
    "df_oil.describe()"
   ]
  },
  {
   "cell_type": "code",
   "execution_count": 147,
   "id": "b8cd3a03",
   "metadata": {},
   "outputs": [
    {
     "name": "stdout",
     "output_type": "stream",
     "text": [
      "datetime_utc    0\n",
      "close           4\n",
      "dtype: int64\n"
     ]
    },
    {
     "data": {
      "text/plain": [
       "USD_VND_Close    0.142045\n",
       "dtype: float64"
      ]
     },
     "execution_count": 147,
     "metadata": {},
     "output_type": "execute_result"
    }
   ],
   "source": [
    "print(df_oil.isna().sum())\n",
    "\n",
    "# Tỷ lệ phần trăm giá trị thiếu\n",
    "missing_percent = df_usdvnd.isnull().sum() / len(df_usdvnd) * 100\n",
    "missing_percent[missing_percent > 0]"
   ]
  },
  {
   "cell_type": "code",
   "execution_count": null,
   "id": "f311ce32",
   "metadata": {},
   "outputs": [
    {
     "name": "stdout",
     "output_type": "stream",
     "text": [
      "         Date  Oil_Price_Close\n",
      "0  2015-01-02        56.419998\n",
      "1  2015-01-05        53.110001\n",
      "2  2015-01-06        51.099998\n",
      "3  2015-01-07        51.150002\n",
      "4  2015-01-08        50.959999\n"
     ]
    }
   ],
   "source": [
    "# Xử lý cột ngày tháng\n",
    "df_oil[\"datetime_utc\"] = pd.to_datetime(df_oil[\"datetime_utc\"], errors=\"coerce\", utc=True)\n",
    "df_oil = df_oil.rename(columns={\n",
    "    \"datetime_utc\": \"Date\",\n",
    "    \"close\": \"Oil_Price_Close\"\n",
    "})\n",
    "\n",
    "# Bỏ timezone \n",
    "df_oil[\"Date\"] = df_oil[\"Date\"].dt.tz_localize(None)\n",
    "df_oil[\"Date\"] = df_oil[\"Date\"].dt.date\n",
    "# Sắp xếp theo thời gian tăng dần và reset index\n",
    "df_oil = df_oil.sort_values(\"Date\").reset_index(drop=True)\n",
    "\n",
    "\n",
    "print(df_oil.head())\n"
   ]
  },
  {
   "cell_type": "code",
   "execution_count": null,
   "id": "4c08153b",
   "metadata": {},
   "outputs": [],
   "source": [
    "# Chuẩn hóa tên cột\n",
    "df_oil.columns = df_oil.columns.str.strip().str.lower().str.replace(' ', '_')"
   ]
  }
 ],
 "metadata": {
  "kernelspec": {
   "display_name": "Python 3",
   "language": "python",
   "name": "python3"
  },
  "language_info": {
   "codemirror_mode": {
    "name": "ipython",
    "version": 3
   },
   "file_extension": ".py",
   "mimetype": "text/x-python",
   "name": "python",
   "nbconvert_exporter": "python",
   "pygments_lexer": "ipython3",
   "version": "3.12.3"
  }
 },
 "nbformat": 4,
 "nbformat_minor": 5
}
