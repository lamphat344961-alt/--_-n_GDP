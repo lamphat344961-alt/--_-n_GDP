{
 "cells": [
  {
   "cell_type": "markdown",
   "id": "1ee3b151",
   "metadata": {},
   "source": [
    "# Import thư viện"
   ]
  },
  {
   "cell_type": "code",
   "execution_count": 102,
   "id": "81d6812f",
   "metadata": {},
   "outputs": [],
   "source": [
    "import pandas as pd\n",
    "import numpy as np"
   ]
  },
  {
   "cell_type": "markdown",
   "id": "996b7886",
   "metadata": {},
   "source": [
    "# Đọc file để xử lý ( fdi, cpi, gdp, retail, unemployment)"
   ]
  },
  {
   "cell_type": "code",
   "execution_count": 103,
   "id": "6dba91d4",
   "metadata": {},
   "outputs": [],
   "source": [
    "df_cpi = pd.read_csv(r'C:\\Users\\Admin\\Desktop\\TANPHAT\\hocotruong\\Năm ba 2025-2026\\HK1_A\\Thu thập và tiền xử lý dữ liệu\\Đồ_án_GDP\\data\\processed\\cpi_index_VN.csv')\n",
    "df_fdi = pd.read_csv(r'C:\\Users\\Admin\\Desktop\\TANPHAT\\hocotruong\\Năm ba 2025-2026\\HK1_A\\Thu thập và tiền xử lý dữ liệu\\Đồ_án_GDP\\data\\processed\\fdi_inflow_VN.csv')\n",
    "df_gdp = pd.read_csv(r'C:\\Users\\Admin\\Desktop\\TANPHAT\\hocotruong\\Năm ba 2025-2026\\HK1_A\\Thu thập và tiền xử lý dữ liệu\\Đồ_án_GDP\\data\\processed\\gdp_growth_VN.csv')\n",
    "df_retail = pd.read_csv(r'C:\\Users\\Admin\\Desktop\\TANPHAT\\hocotruong\\Năm ba 2025-2026\\HK1_A\\Thu thập và tiền xử lý dữ liệu\\Đồ_án_GDP\\data\\processed\\Retail_processed.csv.csv')\n",
    "df_unemployment = pd.read_csv(r'C:\\Users\\Admin\\Desktop\\TANPHAT\\hocotruong\\Năm ba 2025-2026\\HK1_A\\Thu thập và tiền xử lý dữ liệu\\Đồ_án_GDP\\data\\processed\\Unemployment_processed.csv')"
   ]
  },
  {
   "cell_type": "markdown",
   "id": "332461fb",
   "metadata": {},
   "source": [
    "# Định dạng lại cột date và chuẩn bị dữ liệu để Resample\n"
   ]
  },
  {
   "cell_type": "code",
   "execution_count": null,
   "id": "30263838",
   "metadata": {},
   "outputs": [],
   "source": [
    "def prepare_data(df, date_col='date', value_col=None, start_year=2010, end_year=2024):\n",
    "    \"\"\"\n",
    "    🧩 Mục đích:\n",
    "    - Chuyển cột ngày ('date') sang định dạng datetime\n",
    "    - Thiết lập nó làm index thời gian (Time Series Index)\n",
    "    - Lọc dữ liệu trong khoảng năm chỉ định\n",
    "    - Đảm bảo chỉ giữ lại 1 cột giá trị chính (value)\n",
    "    \n",
    "    Thường dùng để chuẩn hóa dữ liệu kinh tế từ World Bank, Yahoo Finance, CafeF, v.v.\n",
    "    \"\"\"\n",
    "\n",
    "    # 1️⃣ Chuyển cột 'date' về dạng datetime để dễ xử lý thời gian\n",
    "    df[date_col] = pd.to_datetime(df[date_col])\n",
    "\n",
    "    # 2️⃣ Thiết lập cột 'date' làm index của DataFrame (Time Index)\n",
    "    df = df.set_index(date_col)\n",
    "\n",
    "    # 3️⃣ Nếu chưa chỉ định cột giá trị → chọn cột đầu tiên trong DataFrame\n",
    "    if value_col is None:\n",
    "        value_col = df.columns[0]\n",
    "\n",
    "    # 4️⃣ Chỉ giữ lại một cột dữ liệu chính, đổi tên thành 'annual_value' để đồng nhất\n",
    "    df = df[[value_col]].rename(columns={value_col: 'annual_value'})\n",
    "\n",
    "    # 5️⃣ Sắp xếp index theo thứ tự thời gian tăng dần (đảm bảo thứ tự đúng)\n",
    "    df = df.sort_index()\n",
    "\n",
    "    # 6️⃣ Lọc dữ liệu theo khoảng năm yêu cầu\n",
    "    df = df[(df.index.year >= start_year) & (df.index.year <= end_year)]\n",
    "\n",
    "    # 7️⃣ Trả về DataFrame đã chuẩn hóa\n",
    "    return df\n",
    "\n",
    "\n",
    "# -----------------------------\n",
    "# 🧾 CHUẨN BỊ DỮ LIỆU CÁC BIẾN KINH TẾ\n",
    "# -----------------------------\n",
    "\n",
    "# Mỗi DataFrame (df_fdi, df_cpi, df_gdp, ...) đã được crawl từ các nguồn khác nhau\n",
    "# Ta chuẩn hóa toàn bộ bằng hàm prepare_data()\n",
    "data_frames = {\n",
    "    'fdi_inflow': prepare_data(df_fdi, value_col='fdi_inflow'),                  # Dòng vốn đầu tư nước ngoài\n",
    "    'cpi_index': prepare_data(df_cpi, value_col='cpi_index'),                    # Chỉ số giá tiêu dùng (lạm phát)\n",
    "    'gdp_growth': prepare_data(df_gdp, value_col='gdp_percent'),                 # Tăng trưởng GDP\n",
    "    'retail_value': prepare_data(df_retail, value_col='retail_value'),           # Giá trị bán lẻ\n",
    "    'unemployment_value': prepare_data(df_unemployment, value_col='unemployment_value')  # Tỷ lệ thất nghiệp\n",
    "}\n",
    "\n",
    "\n",
    "# -----------------------------\n",
    "# ⚙️ ĐỊNH NGHĨA THAM SỐ TỔNG HỢP DỮ LIỆU (DISAGG_PARAMS)\n",
    "# -----------------------------\n",
    "\n",
    "# Vì các dữ liệu này có thể khác tần suất (VD: quý / năm),\n",
    "# nên ta định nghĩa quy tắc tổng hợp (aggregation rule) để quy đổi về cùng tần suất.\n",
    "DISAGG_PARAMS = {\n",
    "    # Nhóm 1️⃣: Dữ liệu dạng *dòng chảy (Flow)* → ví dụ FDI, xuất nhập khẩu, doanh thu\n",
    "    # Tổng 4 quý trong năm = giá trị năm\n",
    "    'fdi_inflow': {'agg_func': 'sum'},\n",
    "\n",
    "    # Nhóm 2️⃣: Dữ liệu dạng *tỷ lệ hoặc chỉ số (Rate/Index)* → ví dụ CPI, GDP Growth\n",
    "    # Lấy trung bình của 4 quý = giá trị năm\n",
    "    'cpi_index': {'agg_func': 'mean'},\n",
    "    'gdp_growth': {'agg_func': 'mean'},\n",
    "    'retail_value': {'agg_func': 'mean'},\n",
    "    'unemployment_value': {'agg_func': 'mean'}\n",
    "}\n"
   ]
  },
  {
   "cell_type": "markdown",
   "id": "bdf84b15",
   "metadata": {},
   "source": [
    "# Hàm phân tách dữ liệu từ năm thành quý"
   ]
  },
  {
   "cell_type": "code",
   "execution_count": null,
   "id": "bc309ba9",
   "metadata": {},
   "outputs": [],
   "source": [
    "def benchmarked_linear_disaggregation(df_annual, agg_func):\n",
    "    \"\"\"\n",
    "    Mục tiêu:\n",
    "    - Phân rã dữ liệu NĂM → QUÝ bằng nội suy tuyến tính.\n",
    "    - Sau đó 'benchmark' (chuẩn hóa) để đảm bảo:\n",
    "        * Nếu agg_func='sum'  : TỔNG 4 quý = giá trị năm\n",
    "        * Nếu agg_func='mean' : TRUNG BÌNH 4 quý = giá trị năm\n",
    "    Yêu cầu:\n",
    "    - df_annual có index thời gian (năm) và cột 'annual_value'.\n",
    "    - agg_func ∈ {'sum', 'mean'}.\n",
    "    Trả về:\n",
    "    - pandas.Series theo tần suất QUÝ (DatetimeIndex), tên 'quarterly_value'.\n",
    "    \"\"\"\n",
    "    value_col = 'annual_value'\n",
    "    \n",
    "    # Bảo đảm index được sắp xếp tăng dần theo thời gian\n",
    "    df_annual = df_annual.sort_index()\n",
    "    \n",
    "    # (Tuỳ chọn) kiểm tra tham số hợp lệ\n",
    "    if agg_func not in ('sum', 'mean'):\n",
    "        raise ValueError(\"agg_func phải là 'sum' hoặc 'mean'.\")\n",
    "\n",
    "    # ===============================\n",
    "    # 1) UPSAMPLING & NỘI SUY CƠ SỞ\n",
    "    # ===============================\n",
    "    # Đưa index về mốc ĐẦU NĂM (YYYY-01-01) để resample chính xác theo quý\n",
    "    df_annual_start = df_annual.copy()\n",
    "    df_annual_start.index = df_annual_start.index.to_period('Y').to_timestamp(how='start')\n",
    "    # Đặt tên cho index để reset_index sau này có cột 'date' rõ ràng\n",
    "    df_annual_start.index.name = 'date'\n",
    "\n",
    "    # Resample sang QUÝ (Quarter Start), tạo khung thời gian quý rỗng\n",
    "    df_quarterly_resampled = df_annual_start.resample('QS').asfreq()\n",
    "\n",
    "    # Nội suy tuyến tính các điểm quý giữa hai mốc năm\n",
    "    df_quarterly_interpolated = df_quarterly_resampled.interpolate(method='linear')\n",
    "    df_quarterly_interpolated.columns = ['interpolated_value']  # đặt tên cột rõ ràng\n",
    "\n",
    "    # ===============================\n",
    "    # 2) CHUẨN BỊ DỮ LIỆU BENCHMARK\n",
    "    # ===============================\n",
    "    # Tạo 'annual_period' (kiểu Period[Y]) để gom nhóm theo năm\n",
    "    df_annual_temp = df_annual.copy()\n",
    "    df_annual_temp['annual_period'] = df_annual_temp.index.to_period('Y')\n",
    "    df_quarterly_interpolated['annual_period'] = df_quarterly_interpolated.index.to_period('Y')\n",
    "\n",
    "    # Bản đồ giá trị năm thật (ground-truth) theo annual_period\n",
    "    annual_map = df_annual_temp.set_index('annual_period')[value_col]\n",
    "\n",
    "    # Tổng/Trung bình giá trị quý nội suy theo từng năm (tuỳ agg_func)\n",
    "    agg_quarterly = (\n",
    "        df_quarterly_interpolated\n",
    "        .groupby('annual_period')['interpolated_value']\n",
    "        .agg(agg_func)\n",
    "    )\n",
    "\n",
    "    # Gom vào dataframe để tính hệ số điều chỉnh\n",
    "    df_annual_adjustment = pd.DataFrame({\n",
    "        'annual_value'    : annual_map,        # giá trị năm mục tiêu\n",
    "        'agg_interpolated': agg_quarterly      # tổng/trung bình của chuỗi quý nội suy\n",
    "    }).dropna()  # chỉ giữ năm có đủ cả hai vế\n",
    "\n",
    "    # ===============================\n",
    "    # 3) TÍNH HỆ SỐ ĐIỀU CHỈNH (ADJUSTMENT)\n",
    "    # ===============================\n",
    "    if agg_func == 'sum':\n",
    "        # Với Sum: dùng hệ số NHÂN để đảm bảo tổng Q1..Q4 == annual_value\n",
    "        df_annual_adjustment['adjustment'] = (\n",
    "            df_annual_adjustment['annual_value'] /\n",
    "            df_annual_adjustment['agg_interpolated'].replace(0, np.nan)  # tránh chia 0\n",
    "        )\n",
    "    else:  # 'mean'\n",
    "        # Với Mean: dùng độ LỆCH CỘNG để đảm bảo mean(Q1..Q4) == annual_value\n",
    "        df_annual_adjustment['adjustment'] = (\n",
    "            df_annual_adjustment['annual_value'] -\n",
    "            df_annual_adjustment['agg_interpolated']\n",
    "        )\n",
    "\n",
    "    # ===============================\n",
    "    # 4) GHÉP HỆ SỐ VÀ ÁP DỤNG ĐIỀU CHỈNH CHO TỪNG QUÝ\n",
    "    # ===============================\n",
    "    # reset_index để có cột 'date' (từ index DatetimeIndex)\n",
    "    df_quarterly_result = df_quarterly_interpolated.reset_index().copy()\n",
    "    # annual_period đang là Period[Y], chuyển về chuỗi để merge an toàn\n",
    "    df_quarterly_result['annual_period'] = df_quarterly_result['annual_period'].astype(str)\n",
    "\n",
    "    adj_reset = df_annual_adjustment['adjustment'].reset_index()\n",
    "    adj_reset['annual_period'] = adj_reset['annual_period'].astype(str)\n",
    "\n",
    "    # Merge adjustment theo từng năm\n",
    "    df_quarterly_result = pd.merge(\n",
    "        df_quarterly_result,\n",
    "        adj_reset[['annual_period', 'adjustment']],\n",
    "        on='annual_period',\n",
    "        how='left'\n",
    "    )\n",
    "\n",
    "    # Tạo giá trị quý sau điều chỉnh:\n",
    "    if agg_func == 'sum':\n",
    "        # Phương án nhân (proportional): mỗi quý * ratio\n",
    "        df_quarterly_result['quarterly_value'] = (\n",
    "            df_quarterly_result['interpolated_value'] * df_quarterly_result['adjustment']\n",
    "        )\n",
    "    else:\n",
    "        # Phương án cộng (additive): mỗi quý + delta\n",
    "        df_quarterly_result['quarterly_value'] = (\n",
    "            df_quarterly_result['interpolated_value'] + df_quarterly_result['adjustment']\n",
    "        )\n",
    "\n",
    "    # ===============================\n",
    "    # 5) HOÀN THIỆN SERIES KẾT QUẢ & LỌC PHẠM VI NĂM\n",
    "    # ===============================\n",
    "    # Đặt 'date' làm index, lấy cột kết quả\n",
    "    result_series = (\n",
    "        df_quarterly_result\n",
    "        .set_index('date')['quarterly_value']\n",
    "        .dropna()\n",
    "    )\n",
    "\n",
    "    # Lọc phạm vi năm trong [min_year, max_year] của chuỗi năm gốc\n",
    "    first_year = df_annual.index.min().year\n",
    "    last_year  = df_annual.index.max().year\n",
    "    result_series = result_series[\n",
    "        (result_series.index.year >= first_year) &\n",
    "        (result_series.index.year <= last_year)\n",
    "    ]\n",
    "\n",
    "    # Thông tin thống kê nhanh\n",
    "    print(f\"  Số quý sau lọc: {len(result_series)}\")\n",
    "\n",
    "    return result_series\n"
   ]
  },
  {
   "cell_type": "code",
   "execution_count": 106,
   "id": "d5bd796c",
   "metadata": {},
   "outputs": [
    {
     "name": "stdout",
     "output_type": "stream",
     "text": [
      "Đang xử lý: fdi_inflow\n",
      "  Số quý sau lọc: 57\n",
      "Đang xử lý: cpi_index\n",
      "  Số quý sau lọc: 57\n",
      "Đang xử lý: gdp_growth\n",
      "  Số quý sau lọc: 57\n",
      "Đang xử lý: retail_value\n",
      "  Số quý sau lọc: 49\n",
      "Đang xử lý: unemployment_value\n",
      "  Số quý sau lọc: 57\n"
     ]
    }
   ],
   "source": [
    "\n",
    "# --- ÁP DỤNG VÀ IN KẾT QUẢ ---\n",
    "\n",
    "results = {}\n",
    "for name, params in DISAGG_PARAMS.items():\n",
    "    print(f\"Đang xử lý: {name}\")\n",
    "    results[f'{name}_quarterly'] = benchmarked_linear_disaggregation(\n",
    "        data_frames[name].copy(), \n",
    "        agg_func=params['agg_func']\n",
    "    )\n",
    "\n",
    "# Kết hợp tất cả dữ liệu\n",
    "output_df = pd.concat(results.values(), axis=1, join='outer')\n",
    "output_df.columns = results.keys()\n"
   ]
  },
  {
   "cell_type": "markdown",
   "id": "ca4b51d2",
   "metadata": {},
   "source": [
    "# Lưu file dữ liệu quý của \n",
    "- fdi  : Vốn Đầu tư Trực tiếp Nước ngoài\n",
    "- cpi  : Chỉ số Giá tiêu dùng\n",
    "- gdp  : Tốc độ Tăng trưởng Tổng sản phẩm Quốc nội\n",
    "- retail : Tổng mức Bán lẻ Hàng hóa và Doanh thu Dịch vụ Tiêu dùng\n",
    "- unemployment : Tỷ lệ Thất nghiệp"
   ]
  },
  {
   "cell_type": "code",
   "execution_count": 107,
   "id": "73bc8f9d",
   "metadata": {},
   "outputs": [],
   "source": [
    "# Lưu kết quả\n",
    "output_df.to_csv(r'C:\\Users\\Admin\\Desktop\\TANPHAT\\hocotruong\\Năm ba 2025-2026\\HK1_A\\Thu thập và tiền xử lý dữ liệu\\Đồ_án_GDP\\data\\processed\\disaggregated_quarterly_data_fixed.csv')\n"
   ]
  },
  {
   "cell_type": "markdown",
   "id": "128e2d11",
   "metadata": {},
   "source": [
    "# Đọc file (oil, usdvnd, vnindex)"
   ]
  },
  {
   "cell_type": "code",
   "execution_count": 108,
   "id": "4a9ba112",
   "metadata": {},
   "outputs": [],
   "source": [
    "\n",
    "# 1. Tải các tệp dữ liệu hàng ngày (Daily/Sparse)\n",
    "df_oil = pd.read_csv(r'C:\\Users\\Admin\\Desktop\\TANPHAT\\hocotruong\\Năm ba 2025-2026\\HK1_A\\Thu thập và tiền xử lý dữ liệu\\Đồ_án_GDP\\data\\processed\\OIL_processed.csv.csv')\n",
    "df_usdvnd = pd.read_csv(r'C:\\Users\\Admin\\Desktop\\TANPHAT\\hocotruong\\Năm ba 2025-2026\\HK1_A\\Thu thập và tiền xử lý dữ liệu\\Đồ_án_GDP\\data\\processed\\USDVND_processed.csv')\n",
    "df_vnindex = pd.read_csv(r'C:\\Users\\Admin\\Desktop\\TANPHAT\\hocotruong\\Năm ba 2025-2026\\HK1_A\\Thu thập và tiền xử lý dữ liệu\\Đồ_án_GDP\\data\\processed\\VNINDEX_processed.csv')\n",
    "\n",
    "\n",
    "\n"
   ]
  },
  {
   "cell_type": "markdown",
   "id": "c43fe0bf",
   "metadata": {},
   "source": [
    "# Chuẩn hóa cột date và chuẩn bị dữ liệu để resample"
   ]
  },
  {
   "cell_type": "code",
   "execution_count": 109,
   "id": "72c3651d",
   "metadata": {},
   "outputs": [],
   "source": [
    "\n",
    "# --- 2. Hàm Chuẩn bị và Làm sạch Dữ liệu Hàng ngày ---\n",
    "def prepare_daily_data(df, date_col='date'):\n",
    "    \"\"\"\n",
    "    Chuyển đổi cột ngày tháng, thiết lập Index, và xử lý trùng lặp ngày tháng\n",
    "    (Giữ lại quan sát cuối cùng cho mỗi ngày).\n",
    "    \"\"\"\n",
    "    df[date_col] = pd.to_datetime(df[date_col])\n",
    "    df = df.set_index(date_col)\n",
    "    \n",
    "    # Xử lý các ngày trùng lặp (nếu có, giữ lại giá trị cuối cùng)\n",
    "    df = df.loc[~df.index.duplicated(keep='last')]\n",
    "    \n",
    "    # Sắp xếp Index theo thời gian\n",
    "    df = df.sort_index()\n",
    "    return df\n",
    "\n",
    "# Áp dụng hàm làm sạch\n",
    "df_oil_clean = prepare_daily_data(df_oil)\n",
    "df_usdvnd_clean = prepare_daily_data(df_usdvnd)\n",
    "df_vnindex_clean = prepare_daily_data(df_vnindex)\n",
    "\n",
    "# 3. Hợp nhất Dữ liệu Hàng ngày (Outer Join)\n",
    "# Outer Join đảm bảo giữ lại tất cả các ngày từ VNINDEX và các điểm thưa thớt từ OIL/USDVND\n",
    "df_daily_merged = pd.merge(\n",
    "    df_oil_clean,\n",
    "    df_usdvnd_clean,\n",
    "    left_index=True,\n",
    "    right_index=True,\n",
    "    how='outer'\n",
    ")\n",
    "df_daily_merged = pd.merge(\n",
    "    df_daily_merged,\n",
    "    df_vnindex_clean,\n",
    "    left_index=True,\n",
    "    right_index=True,\n",
    "    how='outer'\n",
    ")"
   ]
  },
  {
   "cell_type": "markdown",
   "id": "10e5585a",
   "metadata": {},
   "source": [
    "# Định nghĩa quy tắc tổng hợp và resample từ từng ngày sang quý"
   ]
  },
  {
   "cell_type": "code",
   "execution_count": 110,
   "id": "ebfa6b76",
   "metadata": {},
   "outputs": [],
   "source": [
    "\n",
    "# 4. Tổng hợp sang Tần suất Quý ('Q')\n",
    "# Định nghĩa Quy tắc Tổng hợp (Aggregation Rules) dựa trên phân tích kinh tế\n",
    "agg_rules = {\n",
    "    # Mean: Cho giá hàng hóa, giúp làm phẳng biến động\n",
    "    'oil_price_close': 'mean',      \n",
    "    # Last: Cho Tỷ giá/Chỉ số, đại diện cho giá trị cuối kỳ\n",
    "    'usd_vnd_close': 'last',        \n",
    "    'vnindex_close': 'last'         \n",
    "}\n",
    "\n",
    "# Tổng hợp (Resample) sang tần suất Quý (kết thúc Quý) và áp dụng quy tắc\n",
    "df_quarterly = df_daily_merged.resample('QS').agg(agg_rules)\n",
    "\n",
    "\n",
    "df_quarterly_filtered = df_quarterly[\n",
    "    (df_quarterly.index.year >= 2010) & \n",
    "    (df_quarterly.index.year <= 2024)\n",
    "]\n"
   ]
  },
  {
   "cell_type": "markdown",
   "id": "96b3370b",
   "metadata": {},
   "source": [
    "# Lưu file dữ liệu quý của \n",
    "- oil : Giá dầu thô\n",
    "- usdnvd : Tỷ giá hối đoái (USD/VND)\n",
    "- vnindex : Hiệu suất thị trường chứng khoán"
   ]
  },
  {
   "cell_type": "code",
   "execution_count": 111,
   "id": "45e3ca24",
   "metadata": {},
   "outputs": [],
   "source": [
    "\n",
    "# 5. Lưu và In Kết quả\n",
    "df_quarterly_filtered.to_csv(r'C:\\Users\\Admin\\Desktop\\TANPHAT\\hocotruong\\Năm ba 2025-2026\\HK1_A\\Thu thập và tiền xử lý dữ liệu\\Đồ_án_GDP\\data\\processed\\merged_daily_to_quarterly_final.csv')"
   ]
  },
  {
   "cell_type": "markdown",
   "id": "47b731b5",
   "metadata": {},
   "source": [
    "# Đọc 2 file khi đã cùng tần suất"
   ]
  },
  {
   "cell_type": "code",
   "execution_count": 112,
   "id": "cc5e64a6",
   "metadata": {},
   "outputs": [],
   "source": [
    "df_daily_to_quarterly = pd.read_csv(r'C:\\Users\\Admin\\Desktop\\TANPHAT\\hocotruong\\Năm ba 2025-2026\\HK1_A\\Thu thập và tiền xử lý dữ liệu\\Đồ_án_GDP\\data\\processed\\merged_daily_to_quarterly_final.csv' )\n",
    "df_annual_to_quarterly = pd.read_csv(r'C:\\Users\\Admin\\Desktop\\TANPHAT\\hocotruong\\Năm ba 2025-2026\\HK1_A\\Thu thập và tiền xử lý dữ liệu\\Đồ_án_GDP\\data\\processed\\disaggregated_quarterly_data_fixed.csv' )"
   ]
  },
  {
   "cell_type": "markdown",
   "id": "8d1933cc",
   "metadata": {},
   "source": [
    "# Merge dữ liệu lại thành 1 "
   ]
  },
  {
   "cell_type": "code",
   "execution_count": 113,
   "id": "ee854bdf",
   "metadata": {},
   "outputs": [],
   "source": [
    "df_merged = pd.merge(\n",
    "    df_daily_to_quarterly,\n",
    "    df_annual_to_quarterly,\n",
    "    left_on='date',\n",
    "    right_on='date',\n",
    "    how='inner'  # Chỉ giữ lại các quý có trong cả hai bộ dữ liệu\n",
    ")"
   ]
  },
  {
   "cell_type": "code",
   "execution_count": 114,
   "id": "9ffb1fb3",
   "metadata": {},
   "outputs": [
    {
     "name": "stdout",
     "output_type": "stream",
     "text": [
      "<class 'pandas.core.frame.DataFrame'>\n",
      "RangeIndex: 57 entries, 0 to 56\n",
      "Data columns (total 9 columns):\n",
      " #   Column                        Non-Null Count  Dtype  \n",
      "---  ------                        --------------  -----  \n",
      " 0   date                          57 non-null     object \n",
      " 1   oil_price_close               37 non-null     float64\n",
      " 2   usd_vnd_close                 37 non-null     float64\n",
      " 3   vnindex_close                 57 non-null     float64\n",
      " 4   fdi_inflow_quarterly          57 non-null     float64\n",
      " 5   cpi_index_quarterly           57 non-null     float64\n",
      " 6   gdp_growth_quarterly          57 non-null     float64\n",
      " 7   retail_value_quarterly        49 non-null     float64\n",
      " 8   unemployment_value_quarterly  57 non-null     float64\n",
      "dtypes: float64(8), object(1)\n",
      "memory usage: 4.1+ KB\n"
     ]
    }
   ],
   "source": [
    "df_merged.info()"
   ]
  },
  {
   "cell_type": "code",
   "execution_count": 115,
   "id": "bd74dfb1",
   "metadata": {},
   "outputs": [
    {
     "data": {
      "text/plain": [
       "date                             0\n",
       "oil_price_close                 20\n",
       "usd_vnd_close                   20\n",
       "vnindex_close                    0\n",
       "fdi_inflow_quarterly             0\n",
       "cpi_index_quarterly              0\n",
       "gdp_growth_quarterly             0\n",
       "retail_value_quarterly           8\n",
       "unemployment_value_quarterly     0\n",
       "dtype: int64"
      ]
     },
     "execution_count": 115,
     "metadata": {},
     "output_type": "execute_result"
    }
   ],
   "source": [
    "df_merged.isnull().sum()"
   ]
  },
  {
   "cell_type": "markdown",
   "id": "c476a120",
   "metadata": {},
   "source": [
    "- Nhận thấy dữ liệu của usd_vnd và oil_price thiếu "
   ]
  },
  {
   "cell_type": "code",
   "execution_count": 116,
   "id": "9c93f9cc",
   "metadata": {},
   "outputs": [],
   "source": [
    "df_merged['date'] = pd.to_datetime(df_merged['date'])\n",
    "df_merged.set_index('date', inplace=True)"
   ]
  },
  {
   "cell_type": "markdown",
   "id": "8b472511",
   "metadata": {},
   "source": [
    "# Xử lý dữ liệu nan :\n",
    "- Chỉ lấy dữ liệu từ 2015 đến 2024"
   ]
  },
  {
   "cell_type": "code",
   "execution_count": 117,
   "id": "f3af2014",
   "metadata": {},
   "outputs": [],
   "source": [
    "df_merged = df_merged[\n",
    "    (df_merged.index.year >= 2015) & \n",
    "    (df_merged.index.year <= 2024)\n",
    "]\n"
   ]
  },
  {
   "cell_type": "markdown",
   "id": "d79bbff1",
   "metadata": {},
   "source": [
    "# Dữ liệu sẽ gồm 37 quý từ đầu năm 2015 đến đầu năm 2024\n"
   ]
  },
  {
   "cell_type": "code",
   "execution_count": 118,
   "id": "33c3e649",
   "metadata": {},
   "outputs": [
    {
     "name": "stdout",
     "output_type": "stream",
     "text": [
      "<class 'pandas.core.frame.DataFrame'>\n",
      "DatetimeIndex: 37 entries, 2015-01-01 to 2024-01-01\n",
      "Data columns (total 8 columns):\n",
      " #   Column                        Non-Null Count  Dtype  \n",
      "---  ------                        --------------  -----  \n",
      " 0   oil_price_close               37 non-null     float64\n",
      " 1   usd_vnd_close                 37 non-null     float64\n",
      " 2   vnindex_close                 37 non-null     float64\n",
      " 3   fdi_inflow_quarterly          37 non-null     float64\n",
      " 4   cpi_index_quarterly           37 non-null     float64\n",
      " 5   gdp_growth_quarterly          37 non-null     float64\n",
      " 6   retail_value_quarterly        37 non-null     float64\n",
      " 7   unemployment_value_quarterly  37 non-null     float64\n",
      "dtypes: float64(8)\n",
      "memory usage: 2.6 KB\n"
     ]
    }
   ],
   "source": [
    "df_merged.info()\n"
   ]
  },
  {
   "cell_type": "code",
   "execution_count": 119,
   "id": "6050973a",
   "metadata": {},
   "outputs": [],
   "source": [
    "\n",
    "df_merged = df_merged.reset_index()\n",
    "\n",
    "features = pd.DataFrame(index=df_merged.index)\n",
    "\n",
    "# Feature 1: Đà tăng trưởng quý trước\n",
    "df_merged['gdp_growth_lag_1'] = df_merged['gdp_growth_quarterly'].shift(1)\n",
    "\n",
    "# Feature 2: Yếu tố mùa vụ (cùng kỳ năm trước)\n",
    "df_merged['gdp_growth_lag_4'] = df_merged['gdp_growth_quarterly'].shift(4)\n",
    "\n",
    "# Feature 3: Động lực đầu tư (FDI)\n",
    "df_merged['fdi_inflow_lag_1'] = df_merged['fdi_inflow_quarterly'].shift(1)\n",
    "\n",
    "# Feature 4: Động lực tiêu dùng (Bán lẻ)\n",
    "df_merged['retail_value_qoq_change_lag_1'] = df_merged['retail_value_quarterly'].pct_change(1).shift(1)\n",
    "\n",
    "# Feature 5: Biến tương tác (Giá dầu * Tỷ giá)\n",
    "oil_price_in_vnd = df_merged['oil_price_close'] * df_merged['usd_vnd_close']\n",
    "df_merged['oil_price_in_vnd_lag_1'] = oil_price_in_vnd.shift(1)\n",
    "\n",
    "\n",
    "# 3.2. Loại bỏ các hàng có NaN (rất quan trọng)\n",
    "# 4 quý đầu tiên sẽ bị NaN do phép .shift(4)\n",
    "df_merged = df_merged.dropna()\n",
    "\n"
   ]
  },
  {
   "cell_type": "code",
   "execution_count": 120,
   "id": "2980af67",
   "metadata": {},
   "outputs": [
    {
     "data": {
      "text/html": [
       "<div>\n",
       "<style scoped>\n",
       "    .dataframe tbody tr th:only-of-type {\n",
       "        vertical-align: middle;\n",
       "    }\n",
       "\n",
       "    .dataframe tbody tr th {\n",
       "        vertical-align: top;\n",
       "    }\n",
       "\n",
       "    .dataframe thead th {\n",
       "        text-align: right;\n",
       "    }\n",
       "</style>\n",
       "<table border=\"1\" class=\"dataframe\">\n",
       "  <thead>\n",
       "    <tr style=\"text-align: right;\">\n",
       "      <th></th>\n",
       "      <th>date</th>\n",
       "      <th>oil_price_close</th>\n",
       "      <th>usd_vnd_close</th>\n",
       "      <th>vnindex_close</th>\n",
       "      <th>fdi_inflow_quarterly</th>\n",
       "      <th>cpi_index_quarterly</th>\n",
       "      <th>gdp_growth_quarterly</th>\n",
       "      <th>retail_value_quarterly</th>\n",
       "      <th>unemployment_value_quarterly</th>\n",
       "      <th>gdp_growth_lag_1</th>\n",
       "      <th>gdp_growth_lag_4</th>\n",
       "      <th>fdi_inflow_lag_1</th>\n",
       "      <th>retail_value_qoq_change_lag_1</th>\n",
       "      <th>oil_price_in_vnd_lag_1</th>\n",
       "    </tr>\n",
       "  </thead>\n",
       "  <tbody>\n",
       "    <tr>\n",
       "      <th>4</th>\n",
       "      <td>2016-01-01</td>\n",
       "      <td>35.243571</td>\n",
       "      <td>21950.0</td>\n",
       "      <td>561.22</td>\n",
       "      <td>3.015385e+09</td>\n",
       "      <td>2.348745</td>\n",
       "      <td>6.596191</td>\n",
       "      <td>105.93750</td>\n",
       "      <td>1.838250</td>\n",
       "      <td>6.875725</td>\n",
       "      <td>7.098584</td>\n",
       "      <td>3.023140e+09</td>\n",
       "      <td>-0.005479</td>\n",
       "      <td>9.903037e+05</td>\n",
       "    </tr>\n",
       "    <tr>\n",
       "      <th>5</th>\n",
       "      <td>2016-04-01</td>\n",
       "      <td>47.062969</td>\n",
       "      <td>21911.0</td>\n",
       "      <td>632.26</td>\n",
       "      <td>3.105128e+09</td>\n",
       "      <td>2.561747</td>\n",
       "      <td>6.658736</td>\n",
       "      <td>106.91250</td>\n",
       "      <td>1.844750</td>\n",
       "      <td>6.596191</td>\n",
       "      <td>7.024297</td>\n",
       "      <td>3.015385e+09</td>\n",
       "      <td>-0.027204</td>\n",
       "      <td>7.735964e+05</td>\n",
       "    </tr>\n",
       "    <tr>\n",
       "      <th>6</th>\n",
       "      <td>2016-07-01</td>\n",
       "      <td>46.950781</td>\n",
       "      <td>21797.0</td>\n",
       "      <td>685.73</td>\n",
       "      <td>3.194872e+09</td>\n",
       "      <td>2.774749</td>\n",
       "      <td>6.721282</td>\n",
       "      <td>107.88750</td>\n",
       "      <td>1.851250</td>\n",
       "      <td>6.658736</td>\n",
       "      <td>6.950011</td>\n",
       "      <td>3.105128e+09</td>\n",
       "      <td>0.009204</td>\n",
       "      <td>1.031197e+06</td>\n",
       "    </tr>\n",
       "    <tr>\n",
       "      <th>7</th>\n",
       "      <td>2016-10-01</td>\n",
       "      <td>51.072951</td>\n",
       "      <td>22468.0</td>\n",
       "      <td>664.87</td>\n",
       "      <td>3.284615e+09</td>\n",
       "      <td>2.987751</td>\n",
       "      <td>6.783827</td>\n",
       "      <td>108.86250</td>\n",
       "      <td>1.857750</td>\n",
       "      <td>6.721282</td>\n",
       "      <td>6.875725</td>\n",
       "      <td>3.194872e+09</td>\n",
       "      <td>0.009120</td>\n",
       "      <td>1.023386e+06</td>\n",
       "    </tr>\n",
       "    <tr>\n",
       "      <th>8</th>\n",
       "      <td>2017-01-01</td>\n",
       "      <td>54.496452</td>\n",
       "      <td>22435.0</td>\n",
       "      <td>722.31</td>\n",
       "      <td>3.398462e+09</td>\n",
       "      <td>3.512993</td>\n",
       "      <td>6.743384</td>\n",
       "      <td>111.75375</td>\n",
       "      <td>2.141375</td>\n",
       "      <td>6.783827</td>\n",
       "      <td>6.596191</td>\n",
       "      <td>3.284615e+09</td>\n",
       "      <td>0.009037</td>\n",
       "      <td>1.147507e+06</td>\n",
       "    </tr>\n",
       "  </tbody>\n",
       "</table>\n",
       "</div>"
      ],
      "text/plain": [
       "        date  oil_price_close  usd_vnd_close  vnindex_close  \\\n",
       "4 2016-01-01        35.243571        21950.0         561.22   \n",
       "5 2016-04-01        47.062969        21911.0         632.26   \n",
       "6 2016-07-01        46.950781        21797.0         685.73   \n",
       "7 2016-10-01        51.072951        22468.0         664.87   \n",
       "8 2017-01-01        54.496452        22435.0         722.31   \n",
       "\n",
       "   fdi_inflow_quarterly  cpi_index_quarterly  gdp_growth_quarterly  \\\n",
       "4          3.015385e+09             2.348745              6.596191   \n",
       "5          3.105128e+09             2.561747              6.658736   \n",
       "6          3.194872e+09             2.774749              6.721282   \n",
       "7          3.284615e+09             2.987751              6.783827   \n",
       "8          3.398462e+09             3.512993              6.743384   \n",
       "\n",
       "   retail_value_quarterly  unemployment_value_quarterly  gdp_growth_lag_1  \\\n",
       "4               105.93750                      1.838250          6.875725   \n",
       "5               106.91250                      1.844750          6.596191   \n",
       "6               107.88750                      1.851250          6.658736   \n",
       "7               108.86250                      1.857750          6.721282   \n",
       "8               111.75375                      2.141375          6.783827   \n",
       "\n",
       "   gdp_growth_lag_4  fdi_inflow_lag_1  retail_value_qoq_change_lag_1  \\\n",
       "4          7.098584      3.023140e+09                      -0.005479   \n",
       "5          7.024297      3.015385e+09                      -0.027204   \n",
       "6          6.950011      3.105128e+09                       0.009204   \n",
       "7          6.875725      3.194872e+09                       0.009120   \n",
       "8          6.596191      3.284615e+09                       0.009037   \n",
       "\n",
       "   oil_price_in_vnd_lag_1  \n",
       "4            9.903037e+05  \n",
       "5            7.735964e+05  \n",
       "6            1.031197e+06  \n",
       "7            1.023386e+06  \n",
       "8            1.147507e+06  "
      ]
     },
     "execution_count": 120,
     "metadata": {},
     "output_type": "execute_result"
    }
   ],
   "source": [
    "df_merged.head()"
   ]
  },
  {
   "cell_type": "code",
   "execution_count": 122,
   "id": "7f102ae1",
   "metadata": {},
   "outputs": [
    {
     "name": "stdout",
     "output_type": "stream",
     "text": [
      "<class 'pandas.core.frame.DataFrame'>\n",
      "Index: 33 entries, 4 to 36\n",
      "Data columns (total 14 columns):\n",
      " #   Column                         Non-Null Count  Dtype         \n",
      "---  ------                         --------------  -----         \n",
      " 0   date                           33 non-null     datetime64[ns]\n",
      " 1   oil_price_close                33 non-null     float64       \n",
      " 2   usd_vnd_close                  33 non-null     float64       \n",
      " 3   vnindex_close                  33 non-null     float64       \n",
      " 4   fdi_inflow_quarterly           33 non-null     float64       \n",
      " 5   cpi_index_quarterly            33 non-null     float64       \n",
      " 6   gdp_growth_quarterly           33 non-null     float64       \n",
      " 7   retail_value_quarterly         33 non-null     float64       \n",
      " 8   unemployment_value_quarterly   33 non-null     float64       \n",
      " 9   gdp_growth_lag_1               33 non-null     float64       \n",
      " 10  gdp_growth_lag_4               33 non-null     float64       \n",
      " 11  fdi_inflow_lag_1               33 non-null     float64       \n",
      " 12  retail_value_qoq_change_lag_1  33 non-null     float64       \n",
      " 13  oil_price_in_vnd_lag_1         33 non-null     float64       \n",
      "dtypes: datetime64[ns](1), float64(13)\n",
      "memory usage: 3.9 KB\n"
     ]
    }
   ],
   "source": [
    "df_merged.info()"
   ]
  },
  {
   "cell_type": "markdown",
   "id": "be900359",
   "metadata": {},
   "source": [
    "# Lưu df"
   ]
  },
  {
   "cell_type": "code",
   "execution_count": 123,
   "id": "bfe382e7",
   "metadata": {},
   "outputs": [],
   "source": [
    "df_merged.to_csv(r'C:\\Users\\Admin\\Desktop\\TANPHAT\\hocotruong\\Năm ba 2025-2026\\HK1_A\\Thu thập và tiền xử lý dữ liệu\\Đồ_án_GDP\\data\\final_clean_dataset.csv')"
   ]
  }
 ],
 "metadata": {
  "kernelspec": {
   "display_name": "Python 3",
   "language": "python",
   "name": "python3"
  },
  "language_info": {
   "codemirror_mode": {
    "name": "ipython",
    "version": 3
   },
   "file_extension": ".py",
   "mimetype": "text/x-python",
   "name": "python",
   "nbconvert_exporter": "python",
   "pygments_lexer": "ipython3",
   "version": "3.12.3"
  }
 },
 "nbformat": 4,
 "nbformat_minor": 5
}
