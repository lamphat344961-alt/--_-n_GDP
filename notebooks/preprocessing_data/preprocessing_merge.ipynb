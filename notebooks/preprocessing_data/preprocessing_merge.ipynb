{
 "cells": [
  {
   "cell_type": "markdown",
   "id": "1ee3b151",
   "metadata": {},
   "source": [
    "# Import thư viện"
   ]
  },
  {
   "cell_type": "code",
   "execution_count": 2,
   "id": "81d6812f",
   "metadata": {},
   "outputs": [],
   "source": [
    "import pandas as pd\n",
    "import numpy as np"
   ]
  },
  {
   "cell_type": "markdown",
   "id": "996b7886",
   "metadata": {},
   "source": [
    "# Đọc file để xử lý ( fdi, cpi, gdp, retail, unemployment)"
   ]
  },
  {
   "cell_type": "code",
   "execution_count": 205,
   "id": "6dba91d4",
   "metadata": {},
   "outputs": [],
   "source": [
    "df_cpi = pd.read_csv(r'C:\\Users\\Admin\\Desktop\\TANPHAT\\hocotruong\\Năm ba 2025-2026\\HK1_A\\Thu thập và tiền xử lý dữ liệu\\Đồ_án_GDP\\data\\processed\\cpi_index_VN.csv')\n",
    "df_fdi = pd.read_csv(r'C:\\Users\\Admin\\Desktop\\TANPHAT\\hocotruong\\Năm ba 2025-2026\\HK1_A\\Thu thập và tiền xử lý dữ liệu\\Đồ_án_GDP\\data\\processed\\fdi_inflow_VN.csv')\n",
    "df_gdp = pd.read_csv(r'C:\\Users\\Admin\\Desktop\\TANPHAT\\hocotruong\\Năm ba 2025-2026\\HK1_A\\Thu thập và tiền xử lý dữ liệu\\Đồ_án_GDP\\data\\processed\\gdp_growth_VN.csv')\n",
    "df_retail = pd.read_csv(r'C:\\Users\\Admin\\Desktop\\TANPHAT\\hocotruong\\Năm ba 2025-2026\\HK1_A\\Thu thập và tiền xử lý dữ liệu\\Đồ_án_GDP\\data\\processed\\Retail_processed.csv.csv')\n",
    "df_unemployment = pd.read_csv(r'C:\\Users\\Admin\\Desktop\\TANPHAT\\hocotruong\\Năm ba 2025-2026\\HK1_A\\Thu thập và tiền xử lý dữ liệu\\Đồ_án_GDP\\data\\processed\\Unemployment_processed.csv')"
   ]
  },
  {
   "cell_type": "markdown",
   "id": "332461fb",
   "metadata": {},
   "source": [
    "# Định dạng lại cột date và chuẩn bị dữ liệu để Resample\n"
   ]
  },
  {
   "cell_type": "code",
   "execution_count": 206,
   "id": "30263838",
   "metadata": {},
   "outputs": [],
   "source": [
    "def prepare_data(df, date_col='date', value_col=None, start_year=2010, end_year=2024):\n",
    "    \"\"\"Đảm bảo cột ngày tháng ở định dạng datetime và thiết lập làm index.\"\"\"\n",
    "    df[date_col] = pd.to_datetime(df[date_col])\n",
    "    df = df.set_index(date_col)\n",
    "    if value_col is None:\n",
    "        value_col = df.columns[0]\n",
    "    df = df[[value_col]].rename(columns={value_col: 'annual_value'})\n",
    "    #  Sort index theo thứ tự thời gian\n",
    "    df = df.sort_index()\n",
    "    #Lọc năm\n",
    "    df = df[(df.index.year >= start_year) & (df.index.year <= end_year)]\n",
    "    return df\n",
    "\n",
    "# Chuẩn bị dữ liệu\n",
    "data_frames = {\n",
    "    'fdi_inflow': prepare_data(df_fdi, value_col='fdi_inflow'),\n",
    "    'cpi_index': prepare_data(df_cpi, value_col='cpi_index'),\n",
    "    'gdp_growth': prepare_data(df_gdp, value_col='gdp_percent'),\n",
    "    'retail_value': prepare_data(df_retail, value_col='retail_value'),\n",
    "    'unemployment_value': prepare_data(df_unemployment, value_col='unemployment_value')\n",
    "}\n",
    "\n",
    "\n",
    "# Định nghĩa tham số dựa trên bản chất của biến số\n",
    "DISAGG_PARAMS = {\n",
    "    # Dòng chảy (Flow): Tổng 4 quý = giá trị năm\n",
    "    'fdi_inflow': {'agg_func': 'sum'}, \n",
    "    # Tỷ lệ/Chỉ số (Rate/Index): Trung bình 4 quý = giá trị năm\n",
    "    'cpi_index': {'agg_func': 'mean'},\n",
    "    'gdp_growth': {'agg_func': 'mean'},\n",
    "    'retail_value': {'agg_func': 'mean'},\n",
    "    'unemployment_value': {'agg_func': 'mean'}\n",
    "}"
   ]
  },
  {
   "cell_type": "markdown",
   "id": "bdf84b15",
   "metadata": {},
   "source": [
    "# Hàm phân tách dữ liệu từ năm thành quý"
   ]
  },
  {
   "cell_type": "code",
   "execution_count": 207,
   "id": "bc309ba9",
   "metadata": {},
   "outputs": [],
   "source": [
    "def benchmarked_linear_disaggregation(df_annual, agg_func):\n",
    "    \"\"\"\n",
    "    Phân tách dữ liệu năm thành dữ liệu quý sử dụng phương pháp \n",
    "    nội suy tuyến tính được chuẩn hóa (benchmarking).\n",
    "    \"\"\"\n",
    "    value_col = 'annual_value'\n",
    "    \n",
    "    # Đảm bảo index được sort\n",
    "    df_annual = df_annual.sort_index()\n",
    "    \n",
    "\n",
    "    # 1. UPSAMPLING VÀ NỘI SUY CƠ SỞ\n",
    "    # Chuyển về đầu năm (YYYY-01-01) để resample chính xác\n",
    "    df_annual_start = df_annual.copy()\n",
    "    df_annual_start.index = df_annual_start.index.to_period('Y').to_timestamp(how='start')\n",
    "    \n",
    "  \n",
    "    # Resample thành quý bắt đầu và điền forward, sau đó nội suy\n",
    "    df_quarterly_resampled = df_annual_start.resample('QS').asfreq()\n",
    "\n",
    "    # Nội suy tuyến tính\n",
    "    df_quarterly_interpolated = df_quarterly_resampled.interpolate(method='linear')\n",
    "    df_quarterly_interpolated.columns = ['interpolated_value']\n",
    "    \n",
    "    # 2. TÍNH TOÁN CHUẨN HÓA (Benchmarking)\n",
    "    \n",
    "    # Tạo key năm để map dữ liệu\n",
    "    df_annual_temp = df_annual.copy()\n",
    "    df_annual_temp['annual_period'] = df_annual_temp.index.to_period('Y')\n",
    "    df_quarterly_interpolated['annual_period'] = df_quarterly_interpolated.index.to_period('Y')\n",
    "    \n",
    "    # Map giá trị năm gốc\n",
    "    annual_map = df_annual_temp.set_index('annual_period')[value_col]\n",
    "    \n",
    "    # Tính tổng/trung bình nội suy theo năm\n",
    "    agg_quarterly = df_quarterly_interpolated.groupby('annual_period')['interpolated_value'].agg(agg_func)\n",
    "    \n",
    "    # Tạo dataframe điều chỉnh\n",
    "    df_annual_adjustment = pd.DataFrame({\n",
    "        'annual_value': annual_map,\n",
    "        'agg_interpolated': agg_quarterly\n",
    "    }).dropna()\n",
    "    \n",
    "\n",
    "    # 3. TÍNH HỆ SỐ ĐIỀU CHỈNH\n",
    "    if agg_func == 'sum':\n",
    "        # Với Sum: adjustment là hệ số nhân (ratio)\n",
    "        df_annual_adjustment['adjustment'] = (\n",
    "            df_annual_adjustment['annual_value'] / \n",
    "            df_annual_adjustment['agg_interpolated'].replace(0, np.nan)\n",
    "        )\n",
    "    else:  # mean\n",
    "        # Với Mean: adjustment là chênh lệch (difference)\n",
    "        df_annual_adjustment['adjustment'] = (\n",
    "            df_annual_adjustment['annual_value'] - \n",
    "            df_annual_adjustment['agg_interpolated']\n",
    "        )\n",
    "    \n",
    "    # 4. HỢP NHẤT VÀ ĐIỀU CHỈNH\n",
    "    df_quarterly_result = df_quarterly_interpolated.reset_index().copy()\n",
    "    df_quarterly_result['annual_period'] = df_quarterly_result['annual_period'].astype(str)\n",
    "    \n",
    "    adj_reset = df_annual_adjustment['adjustment'].reset_index()\n",
    "    adj_reset['annual_period'] = adj_reset['annual_period'].astype(str)\n",
    "    \n",
    "    df_quarterly_result = pd.merge(\n",
    "        df_quarterly_result,\n",
    "        adj_reset[['annual_period', 'adjustment']],\n",
    "        on='annual_period',\n",
    "        how='left'\n",
    "    )\n",
    "    \n",
    "    # Áp dụng điều chỉnh\n",
    "    if agg_func == 'sum':\n",
    "        df_quarterly_result['quarterly_value'] = (\n",
    "            df_quarterly_result['interpolated_value'] * \n",
    "            df_quarterly_result['adjustment']\n",
    "        )\n",
    "    else:  # mean\n",
    "        df_quarterly_result['quarterly_value'] = (\n",
    "            df_quarterly_result['interpolated_value'] + \n",
    "            df_quarterly_result['adjustment']\n",
    "        )\n",
    "    \n",
    "    # 5. LỌC KẾT QUẢ VÀ CĂN CHỈNH INDEX\n",
    "    result_series = df_quarterly_result.set_index('date')['quarterly_value'].dropna()\n",
    "    \n",
    "    # Lấy phạm vi năm từ dữ liệu gốc\n",
    "    first_year = df_annual.index.min().year\n",
    "    last_year = df_annual.index.max().year\n",
    "\n",
    "    # Lọc chỉ giữ dữ liệu trong phạm vi năm hợp lệ\n",
    "    result_series = result_series[\n",
    "        (result_series.index.year >= first_year) & \n",
    "        (result_series.index.year <= last_year)\n",
    "    ]\n",
    "    \n",
    "    print(f\"  Số quý sau lọc: {len(result_series)}\")\n",
    "    \n",
    "    return result_series\n"
   ]
  },
  {
   "cell_type": "code",
   "execution_count": 208,
   "id": "d5bd796c",
   "metadata": {},
   "outputs": [
    {
     "name": "stdout",
     "output_type": "stream",
     "text": [
      "Đang xử lý: fdi_inflow\n",
      "  Số quý sau lọc: 57\n",
      "Đang xử lý: cpi_index\n",
      "  Số quý sau lọc: 57\n",
      "Đang xử lý: gdp_growth\n",
      "  Số quý sau lọc: 57\n",
      "Đang xử lý: retail_value\n",
      "  Số quý sau lọc: 49\n",
      "Đang xử lý: unemployment_value\n",
      "  Số quý sau lọc: 57\n"
     ]
    }
   ],
   "source": [
    "\n",
    "# --- ÁP DỤNG VÀ IN KẾT QUẢ ---\n",
    "\n",
    "results = {}\n",
    "for name, params in DISAGG_PARAMS.items():\n",
    "    print(f\"Đang xử lý: {name}\")\n",
    "    results[f'{name}_quarterly'] = benchmarked_linear_disaggregation(\n",
    "        data_frames[name].copy(), \n",
    "        agg_func=params['agg_func']\n",
    "    )\n",
    "\n",
    "# Kết hợp tất cả dữ liệu\n",
    "output_df = pd.concat(results.values(), axis=1, join='outer')\n",
    "output_df.columns = results.keys()\n"
   ]
  },
  {
   "cell_type": "markdown",
   "id": "ca4b51d2",
   "metadata": {},
   "source": [
    "# Lưu file dữ liệu quý của \n",
    "- fdi  : Vốn Đầu tư Trực tiếp Nước ngoài\n",
    "- cpi  : Chỉ số Giá tiêu dùng\n",
    "- gdp  : Tốc độ Tăng trưởng Tổng sản phẩm Quốc nội\n",
    "- retail : Tổng mức Bán lẻ Hàng hóa và Doanh thu Dịch vụ Tiêu dùng\n",
    "- unemployment : Tỷ lệ Thất nghiệp"
   ]
  },
  {
   "cell_type": "code",
   "execution_count": 209,
   "id": "73bc8f9d",
   "metadata": {},
   "outputs": [],
   "source": [
    "# Lưu kết quả\n",
    "output_df.to_csv(r'C:\\Users\\Admin\\Desktop\\TANPHAT\\hocotruong\\Năm ba 2025-2026\\HK1_A\\Thu thập và tiền xử lý dữ liệu\\Đồ_án_GDP\\data\\processed\\disaggregated_quarterly_data_fixed.csv')\n"
   ]
  },
  {
   "cell_type": "markdown",
   "id": "128e2d11",
   "metadata": {},
   "source": [
    "# Đọc file (oil, usdvnd, vnindex)"
   ]
  },
  {
   "cell_type": "code",
   "execution_count": 210,
   "id": "4a9ba112",
   "metadata": {},
   "outputs": [],
   "source": [
    "\n",
    "# 1. Tải các tệp dữ liệu hàng ngày (Daily/Sparse)\n",
    "df_oil = pd.read_csv(r'C:\\Users\\Admin\\Desktop\\TANPHAT\\hocotruong\\Năm ba 2025-2026\\HK1_A\\Thu thập và tiền xử lý dữ liệu\\Đồ_án_GDP\\data\\processed\\OIL_processed.csv.csv')\n",
    "df_usdvnd = pd.read_csv(r'C:\\Users\\Admin\\Desktop\\TANPHAT\\hocotruong\\Năm ba 2025-2026\\HK1_A\\Thu thập và tiền xử lý dữ liệu\\Đồ_án_GDP\\data\\processed\\USDVND_processed.csv')\n",
    "df_vnindex = pd.read_csv(r'C:\\Users\\Admin\\Desktop\\TANPHAT\\hocotruong\\Năm ba 2025-2026\\HK1_A\\Thu thập và tiền xử lý dữ liệu\\Đồ_án_GDP\\data\\processed\\VNINDEX_processed.csv')\n",
    "\n",
    "\n",
    "\n"
   ]
  },
  {
   "cell_type": "markdown",
   "id": "c43fe0bf",
   "metadata": {},
   "source": [
    "# Chuẩn hóa cột date và chuẩn bị dữ liệu để resample"
   ]
  },
  {
   "cell_type": "code",
   "execution_count": 211,
   "id": "72c3651d",
   "metadata": {},
   "outputs": [],
   "source": [
    "\n",
    "# --- 2. Hàm Chuẩn bị và Làm sạch Dữ liệu Hàng ngày ---\n",
    "def prepare_daily_data(df, date_col='date'):\n",
    "    \"\"\"\n",
    "    Chuyển đổi cột ngày tháng, thiết lập Index, và xử lý trùng lặp ngày tháng\n",
    "    (Giữ lại quan sát cuối cùng cho mỗi ngày).\n",
    "    \"\"\"\n",
    "    df[date_col] = pd.to_datetime(df[date_col])\n",
    "    df = df.set_index(date_col)\n",
    "    \n",
    "    # Xử lý các ngày trùng lặp (nếu có, giữ lại giá trị cuối cùng)\n",
    "    df = df.loc[~df.index.duplicated(keep='last')]\n",
    "    \n",
    "    # Sắp xếp Index theo thời gian\n",
    "    df = df.sort_index()\n",
    "    return df\n",
    "\n",
    "# Áp dụng hàm làm sạch\n",
    "df_oil_clean = prepare_daily_data(df_oil)\n",
    "df_usdvnd_clean = prepare_daily_data(df_usdvnd)\n",
    "df_vnindex_clean = prepare_daily_data(df_vnindex)\n",
    "\n",
    "# 3. Hợp nhất Dữ liệu Hàng ngày (Outer Join)\n",
    "# Outer Join đảm bảo giữ lại tất cả các ngày từ VNINDEX và các điểm thưa thớt từ OIL/USDVND\n",
    "df_daily_merged = pd.merge(\n",
    "    df_oil_clean,\n",
    "    df_usdvnd_clean,\n",
    "    left_index=True,\n",
    "    right_index=True,\n",
    "    how='outer'\n",
    ")\n",
    "df_daily_merged = pd.merge(\n",
    "    df_daily_merged,\n",
    "    df_vnindex_clean,\n",
    "    left_index=True,\n",
    "    right_index=True,\n",
    "    how='outer'\n",
    ")"
   ]
  },
  {
   "cell_type": "markdown",
   "id": "10e5585a",
   "metadata": {},
   "source": [
    "# Định nghĩa quy tắc tổng hợp và resample từ từng ngày sang quý"
   ]
  },
  {
   "cell_type": "code",
   "execution_count": 212,
   "id": "ebfa6b76",
   "metadata": {},
   "outputs": [],
   "source": [
    "\n",
    "# 4. Tổng hợp sang Tần suất Quý ('Q')\n",
    "# Định nghĩa Quy tắc Tổng hợp (Aggregation Rules) dựa trên phân tích kinh tế\n",
    "agg_rules = {\n",
    "    # Mean: Cho giá hàng hóa, giúp làm phẳng biến động\n",
    "    'oil_price_close': 'mean',      \n",
    "    # Last: Cho Tỷ giá/Chỉ số, đại diện cho giá trị cuối kỳ\n",
    "    'usd_vnd_close': 'last',        \n",
    "    'vnindex_close': 'last'         \n",
    "}\n",
    "\n",
    "# Tổng hợp (Resample) sang tần suất Quý (kết thúc Quý) và áp dụng quy tắc\n",
    "df_quarterly = df_daily_merged.resample('QS').agg(agg_rules)\n",
    "\n",
    "\n",
    "df_quarterly_filtered = df_quarterly[\n",
    "    (df_quarterly.index.year >= 2010) & \n",
    "    (df_quarterly.index.year <= 2024)\n",
    "]\n"
   ]
  },
  {
   "cell_type": "markdown",
   "id": "96b3370b",
   "metadata": {},
   "source": [
    "# Lưu file dữ liệu quý của \n",
    "- oil : Giá dầu thô\n",
    "- usdnvd : Tỷ giá hối đoái (USD/VND)\n",
    "- vnindex : Hiệu suất thị trường chứng khoán"
   ]
  },
  {
   "cell_type": "code",
   "execution_count": 213,
   "id": "45e3ca24",
   "metadata": {},
   "outputs": [],
   "source": [
    "\n",
    "# 5. Lưu và In Kết quả\n",
    "df_quarterly_filtered.to_csv(r'C:\\Users\\Admin\\Desktop\\TANPHAT\\hocotruong\\Năm ba 2025-2026\\HK1_A\\Thu thập và tiền xử lý dữ liệu\\Đồ_án_GDP\\data\\processed\\merged_daily_to_quarterly_final.csv')"
   ]
  },
  {
   "cell_type": "markdown",
   "id": "47b731b5",
   "metadata": {},
   "source": [
    "# Đọc 2 file khi đã cùng tần suất"
   ]
  },
  {
   "cell_type": "code",
   "execution_count": 214,
   "id": "cc5e64a6",
   "metadata": {},
   "outputs": [],
   "source": [
    "df_daily_to_quarterly = pd.read_csv(r'C:\\Users\\Admin\\Desktop\\TANPHAT\\hocotruong\\Năm ba 2025-2026\\HK1_A\\Thu thập và tiền xử lý dữ liệu\\Đồ_án_GDP\\data\\processed\\merged_daily_to_quarterly_final.csv' )\n",
    "df_annual_to_quarterly = pd.read_csv(r'C:\\Users\\Admin\\Desktop\\TANPHAT\\hocotruong\\Năm ba 2025-2026\\HK1_A\\Thu thập và tiền xử lý dữ liệu\\Đồ_án_GDP\\data\\processed\\disaggregated_quarterly_data_fixed.csv' )"
   ]
  },
  {
   "cell_type": "markdown",
   "id": "8d1933cc",
   "metadata": {},
   "source": [
    "# Merge dữ liệu lại thành 1 "
   ]
  },
  {
   "cell_type": "code",
   "execution_count": 215,
   "id": "ee854bdf",
   "metadata": {},
   "outputs": [],
   "source": [
    "df_final = pd.merge(\n",
    "    df_daily_to_quarterly,\n",
    "    df_annual_to_quarterly,\n",
    "    left_on='date',\n",
    "    right_on='date',\n",
    "    how='inner'  # Chỉ giữ lại các quý có trong cả hai bộ dữ liệu\n",
    ")"
   ]
  },
  {
   "cell_type": "code",
   "execution_count": 216,
   "id": "9ffb1fb3",
   "metadata": {},
   "outputs": [
    {
     "name": "stdout",
     "output_type": "stream",
     "text": [
      "<class 'pandas.core.frame.DataFrame'>\n",
      "RangeIndex: 57 entries, 0 to 56\n",
      "Data columns (total 9 columns):\n",
      " #   Column                        Non-Null Count  Dtype  \n",
      "---  ------                        --------------  -----  \n",
      " 0   date                          57 non-null     object \n",
      " 1   oil_price_close               37 non-null     float64\n",
      " 2   usd_vnd_close                 37 non-null     float64\n",
      " 3   vnindex_close                 57 non-null     float64\n",
      " 4   fdi_inflow_quarterly          57 non-null     float64\n",
      " 5   cpi_index_quarterly           57 non-null     float64\n",
      " 6   gdp_growth_quarterly          57 non-null     float64\n",
      " 7   retail_value_quarterly        49 non-null     float64\n",
      " 8   unemployment_value_quarterly  57 non-null     float64\n",
      "dtypes: float64(8), object(1)\n",
      "memory usage: 4.1+ KB\n"
     ]
    }
   ],
   "source": [
    "df_final.info()"
   ]
  },
  {
   "cell_type": "code",
   "execution_count": 217,
   "id": "bd74dfb1",
   "metadata": {},
   "outputs": [
    {
     "data": {
      "text/plain": [
       "date                             0\n",
       "oil_price_close                 20\n",
       "usd_vnd_close                   20\n",
       "vnindex_close                    0\n",
       "fdi_inflow_quarterly             0\n",
       "cpi_index_quarterly              0\n",
       "gdp_growth_quarterly             0\n",
       "retail_value_quarterly           8\n",
       "unemployment_value_quarterly     0\n",
       "dtype: int64"
      ]
     },
     "execution_count": 217,
     "metadata": {},
     "output_type": "execute_result"
    }
   ],
   "source": [
    "df_final.isnull().sum()"
   ]
  },
  {
   "cell_type": "markdown",
   "id": "c476a120",
   "metadata": {},
   "source": [
    "- Nhận thấy dữ liệu của usd_vnd và oil_price thiếu "
   ]
  },
  {
   "cell_type": "code",
   "execution_count": 218,
   "id": "9c93f9cc",
   "metadata": {},
   "outputs": [],
   "source": [
    "df_final['date'] = pd.to_datetime(df_final['date'])\n",
    "df_final.set_index('date', inplace=True)"
   ]
  },
  {
   "cell_type": "markdown",
   "id": "8b472511",
   "metadata": {},
   "source": [
    "# Xử lý dữ liệu nan :\n",
    "- Chỉ lấy dữ liệu từ 2015 đến 2024"
   ]
  },
  {
   "cell_type": "code",
   "execution_count": 219,
   "id": "f3af2014",
   "metadata": {},
   "outputs": [],
   "source": [
    "df_final = df_final[\n",
    "    (df_final.index.year >= 2015) & \n",
    "    (df_final.index.year <= 2024)\n",
    "]\n"
   ]
  },
  {
   "cell_type": "markdown",
   "id": "d79bbff1",
   "metadata": {},
   "source": [
    "# Dữ liệu sẽ gồm 37 quý từ đầu năm 2015 đến đầu năm 2024\n"
   ]
  },
  {
   "cell_type": "code",
   "execution_count": 220,
   "id": "33c3e649",
   "metadata": {},
   "outputs": [
    {
     "name": "stdout",
     "output_type": "stream",
     "text": [
      "<class 'pandas.core.frame.DataFrame'>\n",
      "DatetimeIndex: 37 entries, 2015-01-01 to 2024-01-01\n",
      "Data columns (total 8 columns):\n",
      " #   Column                        Non-Null Count  Dtype  \n",
      "---  ------                        --------------  -----  \n",
      " 0   oil_price_close               37 non-null     float64\n",
      " 1   usd_vnd_close                 37 non-null     float64\n",
      " 2   vnindex_close                 37 non-null     float64\n",
      " 3   fdi_inflow_quarterly          37 non-null     float64\n",
      " 4   cpi_index_quarterly           37 non-null     float64\n",
      " 5   gdp_growth_quarterly          37 non-null     float64\n",
      " 6   retail_value_quarterly        37 non-null     float64\n",
      " 7   unemployment_value_quarterly  37 non-null     float64\n",
      "dtypes: float64(8)\n",
      "memory usage: 2.6 KB\n"
     ]
    }
   ],
   "source": [
    "df_final.info()"
   ]
  },
  {
   "cell_type": "markdown",
   "id": "be900359",
   "metadata": {},
   "source": [
    "# Lưu df"
   ]
  },
  {
   "cell_type": "code",
   "execution_count": 221,
   "id": "bfe382e7",
   "metadata": {},
   "outputs": [],
   "source": [
    "df_final.to_csv(r'C:\\Users\\Admin\\Desktop\\TANPHAT\\hocotruong\\Năm ba 2025-2026\\HK1_A\\Thu thập và tiền xử lý dữ liệu\\Đồ_án_GDP\\data\\final_clean_dataset.csv')"
   ]
  }
 ],
 "metadata": {
  "kernelspec": {
   "display_name": "Python 3",
   "language": "python",
   "name": "python3"
  },
  "language_info": {
   "codemirror_mode": {
    "name": "ipython",
    "version": 3
   },
   "file_extension": ".py",
   "mimetype": "text/x-python",
   "name": "python",
   "nbconvert_exporter": "python",
   "pygments_lexer": "ipython3",
   "version": "3.12.3"
  }
 },
 "nbformat": 4,
 "nbformat_minor": 5
}
