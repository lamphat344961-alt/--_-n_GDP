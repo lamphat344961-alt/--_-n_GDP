{
 "cells": [
  {
   "cell_type": "code",
   "execution_count": 81,
   "id": "cc8ae837",
   "metadata": {},
   "outputs": [],
   "source": [
    "import pandas as pd"
   ]
  },
  {
   "cell_type": "code",
   "execution_count": 82,
   "id": "ca33701f",
   "metadata": {},
   "outputs": [],
   "source": [
    "# GDP tăng trưởng %\n",
    "df_gdp_growth  = pd.read_csv(r\"C:\\Users\\Admin\\Desktop\\TANPHAT\\hocotruong\\Năm ba 2025-2026\\HK1_A\\Thu thập và tiền xử lý dữ liệu\\Đồ_án_GDP\\data\\data_raw\\NY.GDP.MKTP.KD.ZG_VN_RAW.csv\")  \n",
    "# Chỉ số giá tiêu dùng tổng hợp\n",
    "df_cpi_index   = pd.read_csv(r\"C:\\Users\\Admin\\Desktop\\TANPHAT\\hocotruong\\Năm ba 2025-2026\\HK1_A\\Thu thập và tiền xử lý dữ liệu\\Đồ_án_GDP\\data\\data_raw\\FP.CPI.TOTL.ZG_VN_WB_RAW.csv\")        \n",
    "# Dòng vốn đầu tư trực tiếp\n",
    "df_fdi_inflow  = pd.read_csv(r\"C:\\Users\\Admin\\Desktop\\TANPHAT\\hocotruong\\Năm ba 2025-2026\\HK1_A\\Thu thập và tiền xử lý dữ liệu\\Đồ_án_GDP\\data\\data_raw\\BX.KLT.DINV.CD.WD_VN_RAW.csv\")     "
   ]
  },
  {
   "cell_type": "code",
   "execution_count": 83,
   "id": "0c1b69ed",
   "metadata": {},
   "outputs": [
    {
     "data": {
      "text/html": [
       "<div>\n",
       "<style scoped>\n",
       "    .dataframe tbody tr th:only-of-type {\n",
       "        vertical-align: middle;\n",
       "    }\n",
       "\n",
       "    .dataframe tbody tr th {\n",
       "        vertical-align: top;\n",
       "    }\n",
       "\n",
       "    .dataframe thead th {\n",
       "        text-align: right;\n",
       "    }\n",
       "</style>\n",
       "<table border=\"1\" class=\"dataframe\">\n",
       "  <thead>\n",
       "    <tr style=\"text-align: right;\">\n",
       "      <th></th>\n",
       "      <th>indicator_id</th>\n",
       "      <th>indicator_value</th>\n",
       "      <th>country_id</th>\n",
       "      <th>country_value</th>\n",
       "      <th>countryiso3code</th>\n",
       "      <th>date</th>\n",
       "      <th>value</th>\n",
       "      <th>unit</th>\n",
       "      <th>obs_status</th>\n",
       "      <th>decimal</th>\n",
       "    </tr>\n",
       "  </thead>\n",
       "  <tbody>\n",
       "    <tr>\n",
       "      <th>0</th>\n",
       "      <td>NY.GDP.MKTP.KD.ZG</td>\n",
       "      <td>GDP growth (annual %)</td>\n",
       "      <td>VN</td>\n",
       "      <td>Viet Nam</td>\n",
       "      <td>VNM</td>\n",
       "      <td>2024</td>\n",
       "      <td>7.091187</td>\n",
       "      <td>NaN</td>\n",
       "      <td>NaN</td>\n",
       "      <td>1</td>\n",
       "    </tr>\n",
       "    <tr>\n",
       "      <th>1</th>\n",
       "      <td>NY.GDP.MKTP.KD.ZG</td>\n",
       "      <td>GDP growth (annual %)</td>\n",
       "      <td>VN</td>\n",
       "      <td>Viet Nam</td>\n",
       "      <td>VNM</td>\n",
       "      <td>2023</td>\n",
       "      <td>5.065024</td>\n",
       "      <td>NaN</td>\n",
       "      <td>NaN</td>\n",
       "      <td>1</td>\n",
       "    </tr>\n",
       "    <tr>\n",
       "      <th>2</th>\n",
       "      <td>NY.GDP.MKTP.KD.ZG</td>\n",
       "      <td>GDP growth (annual %)</td>\n",
       "      <td>VN</td>\n",
       "      <td>Viet Nam</td>\n",
       "      <td>VNM</td>\n",
       "      <td>2022</td>\n",
       "      <td>8.537500</td>\n",
       "      <td>NaN</td>\n",
       "      <td>NaN</td>\n",
       "      <td>1</td>\n",
       "    </tr>\n",
       "    <tr>\n",
       "      <th>3</th>\n",
       "      <td>NY.GDP.MKTP.KD.ZG</td>\n",
       "      <td>GDP growth (annual %)</td>\n",
       "      <td>VN</td>\n",
       "      <td>Viet Nam</td>\n",
       "      <td>VNM</td>\n",
       "      <td>2021</td>\n",
       "      <td>2.553729</td>\n",
       "      <td>NaN</td>\n",
       "      <td>NaN</td>\n",
       "      <td>1</td>\n",
       "    </tr>\n",
       "    <tr>\n",
       "      <th>4</th>\n",
       "      <td>NY.GDP.MKTP.KD.ZG</td>\n",
       "      <td>GDP growth (annual %)</td>\n",
       "      <td>VN</td>\n",
       "      <td>Viet Nam</td>\n",
       "      <td>VNM</td>\n",
       "      <td>2020</td>\n",
       "      <td>2.865413</td>\n",
       "      <td>NaN</td>\n",
       "      <td>NaN</td>\n",
       "      <td>1</td>\n",
       "    </tr>\n",
       "  </tbody>\n",
       "</table>\n",
       "</div>"
      ],
      "text/plain": [
       "        indicator_id        indicator_value country_id country_value  \\\n",
       "0  NY.GDP.MKTP.KD.ZG  GDP growth (annual %)         VN      Viet Nam   \n",
       "1  NY.GDP.MKTP.KD.ZG  GDP growth (annual %)         VN      Viet Nam   \n",
       "2  NY.GDP.MKTP.KD.ZG  GDP growth (annual %)         VN      Viet Nam   \n",
       "3  NY.GDP.MKTP.KD.ZG  GDP growth (annual %)         VN      Viet Nam   \n",
       "4  NY.GDP.MKTP.KD.ZG  GDP growth (annual %)         VN      Viet Nam   \n",
       "\n",
       "  countryiso3code  date     value  unit  obs_status  decimal  \n",
       "0             VNM  2024  7.091187   NaN         NaN        1  \n",
       "1             VNM  2023  5.065024   NaN         NaN        1  \n",
       "2             VNM  2022  8.537500   NaN         NaN        1  \n",
       "3             VNM  2021  2.553729   NaN         NaN        1  \n",
       "4             VNM  2020  2.865413   NaN         NaN        1  "
      ]
     },
     "execution_count": 83,
     "metadata": {},
     "output_type": "execute_result"
    }
   ],
   "source": [
    "df_gdp_growth.head()"
   ]
  },
  {
   "cell_type": "code",
   "execution_count": 84,
   "id": "5e4580f0",
   "metadata": {},
   "outputs": [
    {
     "name": "stdout",
     "output_type": "stream",
     "text": [
      "<class 'pandas.core.frame.DataFrame'>\n",
      "RangeIndex: 65 entries, 0 to 64\n",
      "Data columns (total 10 columns):\n",
      " #   Column           Non-Null Count  Dtype  \n",
      "---  ------           --------------  -----  \n",
      " 0   indicator_id     65 non-null     object \n",
      " 1   indicator_value  65 non-null     object \n",
      " 2   country_id       65 non-null     object \n",
      " 3   country_value    65 non-null     object \n",
      " 4   countryiso3code  65 non-null     object \n",
      " 5   date             65 non-null     int64  \n",
      " 6   value            40 non-null     float64\n",
      " 7   unit             0 non-null      float64\n",
      " 8   obs_status       0 non-null      float64\n",
      " 9   decimal          65 non-null     int64  \n",
      "dtypes: float64(3), int64(2), object(5)\n",
      "memory usage: 5.2+ KB\n"
     ]
    }
   ],
   "source": [
    "df_gdp_growth.info()"
   ]
  },
  {
   "cell_type": "code",
   "execution_count": 85,
   "id": "8191b24e",
   "metadata": {},
   "outputs": [
    {
     "name": "stdout",
     "output_type": "stream",
     "text": [
      "        date  GDP_percent\n",
      "0 2024-12-31     7.091187\n",
      "1 2023-12-31     5.065024\n",
      "2 2022-12-31     8.537500\n",
      "3 2021-12-31     2.553729\n",
      "4 2020-12-31     2.865413\n"
     ]
    }
   ],
   "source": [
    "# Xử lý cột ngày tháng\n",
    "df_gdp_growth['date'] = pd.to_datetime(df_gdp_growth['date'].astype(int).astype(str) + '-12-31')\n",
    "\n",
    "# Chỉ giữ 2 cột cần dùng và đổi tên cột\n",
    "df_gdp_growth = (df_gdp_growth[['date','value']])\n",
    "df_gdp_growth.rename(columns={'value':'GDP_percent'}, inplace=True)\n",
    "df_gdp_growth.sort_values('date').reset_index(drop=True) \n",
    "\n",
    "\n",
    "print(df_gdp_growth.head())"
   ]
  },
  {
   "cell_type": "code",
   "execution_count": 86,
   "id": "f66493f8",
   "metadata": {},
   "outputs": [
    {
     "name": "stdout",
     "output_type": "stream",
     "text": [
      "        date  gdp_percent\n",
      "0 2024-12-31     7.091187\n",
      "1 2023-12-31     5.065024\n",
      "2 2022-12-31     8.537500\n",
      "3 2021-12-31     2.553729\n",
      "4 2020-12-31     2.865413\n"
     ]
    }
   ],
   "source": [
    "df_gdp_growth.columns = df_gdp_growth.columns.str.strip().str.lower().str.replace(' ', '_')\n",
    "\n",
    "print(df_gdp_growth.head())"
   ]
  },
  {
   "cell_type": "code",
   "execution_count": 87,
   "id": "52c7c9ed",
   "metadata": {},
   "outputs": [
    {
     "data": {
      "text/plain": [
       "date            0\n",
       "gdp_percent    25\n",
       "dtype: int64"
      ]
     },
     "execution_count": 87,
     "metadata": {},
     "output_type": "execute_result"
    }
   ],
   "source": [
    "df_gdp_growth.isnull().sum()"
   ]
  },
  {
   "cell_type": "code",
   "execution_count": 88,
   "id": "ca930305",
   "metadata": {},
   "outputs": [
    {
     "data": {
      "text/plain": [
       "gdp_percent    38.461538\n",
       "dtype: float64"
      ]
     },
     "execution_count": 88,
     "metadata": {},
     "output_type": "execute_result"
    }
   ],
   "source": [
    "# Tỷ lệ phần trăm giá trị thiếu\n",
    "missing_percent = df_gdp_growth.isnull().sum() / len(df_gdp_growth) * 100\n",
    "missing_percent[missing_percent > 0]"
   ]
  },
  {
   "cell_type": "code",
   "execution_count": 89,
   "id": "c8698b00",
   "metadata": {},
   "outputs": [
    {
     "data": {
      "text/plain": [
       "0"
      ]
     },
     "execution_count": 89,
     "metadata": {},
     "output_type": "execute_result"
    }
   ],
   "source": [
    "df_gdp_growth.duplicated().sum()  # kiểm tra trùng "
   ]
  },
  {
   "cell_type": "code",
   "execution_count": 90,
   "id": "984eb163",
   "metadata": {},
   "outputs": [],
   "source": [
    "# Fillna\n",
    "df_gdp_growth['gdp_percent'] = df_gdp_growth['gdp_percent'].interpolate(method='linear')\n"
   ]
  },
  {
   "cell_type": "code",
   "execution_count": 91,
   "id": "72a60cd3",
   "metadata": {},
   "outputs": [
    {
     "data": {
      "text/html": [
       "<div>\n",
       "<style scoped>\n",
       "    .dataframe tbody tr th:only-of-type {\n",
       "        vertical-align: middle;\n",
       "    }\n",
       "\n",
       "    .dataframe tbody tr th {\n",
       "        vertical-align: top;\n",
       "    }\n",
       "\n",
       "    .dataframe thead th {\n",
       "        text-align: right;\n",
       "    }\n",
       "</style>\n",
       "<table border=\"1\" class=\"dataframe\">\n",
       "  <thead>\n",
       "    <tr style=\"text-align: right;\">\n",
       "      <th></th>\n",
       "      <th>indicator_id</th>\n",
       "      <th>indicator_value</th>\n",
       "      <th>country_id</th>\n",
       "      <th>country_value</th>\n",
       "      <th>countryiso3code</th>\n",
       "      <th>date</th>\n",
       "      <th>value</th>\n",
       "      <th>unit</th>\n",
       "      <th>obs_status</th>\n",
       "      <th>decimal</th>\n",
       "    </tr>\n",
       "  </thead>\n",
       "  <tbody>\n",
       "    <tr>\n",
       "      <th>0</th>\n",
       "      <td>FP.CPI.TOTL.ZG</td>\n",
       "      <td>Inflation, consumer prices (annual %)</td>\n",
       "      <td>VN</td>\n",
       "      <td>Viet Nam</td>\n",
       "      <td>VNM</td>\n",
       "      <td>2024</td>\n",
       "      <td>3.621093</td>\n",
       "      <td>NaN</td>\n",
       "      <td>NaN</td>\n",
       "      <td>1</td>\n",
       "    </tr>\n",
       "    <tr>\n",
       "      <th>1</th>\n",
       "      <td>FP.CPI.TOTL.ZG</td>\n",
       "      <td>Inflation, consumer prices (annual %)</td>\n",
       "      <td>VN</td>\n",
       "      <td>Viet Nam</td>\n",
       "      <td>VNM</td>\n",
       "      <td>2023</td>\n",
       "      <td>3.252893</td>\n",
       "      <td>NaN</td>\n",
       "      <td>NaN</td>\n",
       "      <td>1</td>\n",
       "    </tr>\n",
       "    <tr>\n",
       "      <th>2</th>\n",
       "      <td>FP.CPI.TOTL.ZG</td>\n",
       "      <td>Inflation, consumer prices (annual %)</td>\n",
       "      <td>VN</td>\n",
       "      <td>Viet Nam</td>\n",
       "      <td>VNM</td>\n",
       "      <td>2022</td>\n",
       "      <td>3.156507</td>\n",
       "      <td>NaN</td>\n",
       "      <td>NaN</td>\n",
       "      <td>1</td>\n",
       "    </tr>\n",
       "    <tr>\n",
       "      <th>3</th>\n",
       "      <td>FP.CPI.TOTL.ZG</td>\n",
       "      <td>Inflation, consumer prices (annual %)</td>\n",
       "      <td>VN</td>\n",
       "      <td>Viet Nam</td>\n",
       "      <td>VNM</td>\n",
       "      <td>2021</td>\n",
       "      <td>1.834716</td>\n",
       "      <td>NaN</td>\n",
       "      <td>NaN</td>\n",
       "      <td>1</td>\n",
       "    </tr>\n",
       "    <tr>\n",
       "      <th>4</th>\n",
       "      <td>FP.CPI.TOTL.ZG</td>\n",
       "      <td>Inflation, consumer prices (annual %)</td>\n",
       "      <td>VN</td>\n",
       "      <td>Viet Nam</td>\n",
       "      <td>VNM</td>\n",
       "      <td>2020</td>\n",
       "      <td>3.220934</td>\n",
       "      <td>NaN</td>\n",
       "      <td>NaN</td>\n",
       "      <td>1</td>\n",
       "    </tr>\n",
       "  </tbody>\n",
       "</table>\n",
       "</div>"
      ],
      "text/plain": [
       "     indicator_id                        indicator_value country_id  \\\n",
       "0  FP.CPI.TOTL.ZG  Inflation, consumer prices (annual %)         VN   \n",
       "1  FP.CPI.TOTL.ZG  Inflation, consumer prices (annual %)         VN   \n",
       "2  FP.CPI.TOTL.ZG  Inflation, consumer prices (annual %)         VN   \n",
       "3  FP.CPI.TOTL.ZG  Inflation, consumer prices (annual %)         VN   \n",
       "4  FP.CPI.TOTL.ZG  Inflation, consumer prices (annual %)         VN   \n",
       "\n",
       "  country_value countryiso3code  date     value  unit  obs_status  decimal  \n",
       "0      Viet Nam             VNM  2024  3.621093   NaN         NaN        1  \n",
       "1      Viet Nam             VNM  2023  3.252893   NaN         NaN        1  \n",
       "2      Viet Nam             VNM  2022  3.156507   NaN         NaN        1  \n",
       "3      Viet Nam             VNM  2021  1.834716   NaN         NaN        1  \n",
       "4      Viet Nam             VNM  2020  3.220934   NaN         NaN        1  "
      ]
     },
     "execution_count": 91,
     "metadata": {},
     "output_type": "execute_result"
    }
   ],
   "source": [
    "df_cpi_index.head()"
   ]
  },
  {
   "cell_type": "code",
   "execution_count": 92,
   "id": "d8d6f20f",
   "metadata": {},
   "outputs": [
    {
     "name": "stdout",
     "output_type": "stream",
     "text": [
      "<class 'pandas.core.frame.DataFrame'>\n",
      "RangeIndex: 65 entries, 0 to 64\n",
      "Data columns (total 10 columns):\n",
      " #   Column           Non-Null Count  Dtype  \n",
      "---  ------           --------------  -----  \n",
      " 0   indicator_id     65 non-null     object \n",
      " 1   indicator_value  65 non-null     object \n",
      " 2   country_id       65 non-null     object \n",
      " 3   country_value    65 non-null     object \n",
      " 4   countryiso3code  65 non-null     object \n",
      " 5   date             65 non-null     int64  \n",
      " 6   value            22 non-null     float64\n",
      " 7   unit             0 non-null      float64\n",
      " 8   obs_status       0 non-null      float64\n",
      " 9   decimal          65 non-null     int64  \n",
      "dtypes: float64(3), int64(2), object(5)\n",
      "memory usage: 5.2+ KB\n"
     ]
    }
   ],
   "source": [
    "df_cpi_index.info()"
   ]
  },
  {
   "cell_type": "code",
   "execution_count": 93,
   "id": "04f6dda4",
   "metadata": {},
   "outputs": [
    {
     "name": "stdout",
     "output_type": "stream",
     "text": [
      "        date  cpi_index\n",
      "0 2024-12-31   3.621093\n",
      "1 2023-12-31   3.252893\n",
      "2 2022-12-31   3.156507\n",
      "3 2021-12-31   1.834716\n",
      "4 2020-12-31   3.220934\n"
     ]
    }
   ],
   "source": [
    "# Xử lý cột ngày tháng\n",
    "df_cpi_index['date'] = pd.to_datetime(df_cpi_index['date'].astype(int).astype(str) + '-12-31')\n",
    "\n",
    "# Chỉ giữ 2 cột cần dùng và đổi tên cột\n",
    "df_cpi_index = (df_cpi_index[['date','value']])\n",
    "df_cpi_index.rename(columns={'value':'cpi_index'}, inplace= True)\n",
    "df_cpi_index.sort_values('date').reset_index(drop=True) \n",
    "\n",
    "\n",
    "print(df_cpi_index.head())"
   ]
  },
  {
   "cell_type": "code",
   "execution_count": 94,
   "id": "64790207",
   "metadata": {},
   "outputs": [
    {
     "data": {
      "text/plain": [
       "date          0\n",
       "cpi_index    43\n",
       "dtype: int64"
      ]
     },
     "execution_count": 94,
     "metadata": {},
     "output_type": "execute_result"
    }
   ],
   "source": [
    "df_cpi_index.isna().sum()"
   ]
  },
  {
   "cell_type": "code",
   "execution_count": 95,
   "id": "1c2c0a9b",
   "metadata": {},
   "outputs": [
    {
     "data": {
      "text/plain": [
       "cpi_index    66.153846\n",
       "dtype: float64"
      ]
     },
     "execution_count": 95,
     "metadata": {},
     "output_type": "execute_result"
    }
   ],
   "source": [
    "# Tỷ lệ phần trăm giá trị thiếu\n",
    "missing_percent = df_cpi_index.isnull().sum() / len(df_cpi_index) * 100\n",
    "missing_percent[missing_percent > 0]"
   ]
  },
  {
   "cell_type": "code",
   "execution_count": 96,
   "id": "04c99d31",
   "metadata": {},
   "outputs": [
    {
     "data": {
      "text/plain": [
       "0"
      ]
     },
     "execution_count": 96,
     "metadata": {},
     "output_type": "execute_result"
    }
   ],
   "source": [
    "df_cpi_index.duplicated().sum()  # kiểm tra trùng "
   ]
  },
  {
   "cell_type": "code",
   "execution_count": 97,
   "id": "71bd4570",
   "metadata": {},
   "outputs": [],
   "source": [
    "#fillna\n",
    "df_cpi_index['cpi_index'] = df_cpi_index['cpi_index'].interpolate(method='linear')"
   ]
  },
  {
   "cell_type": "code",
   "execution_count": 98,
   "id": "a3902488",
   "metadata": {},
   "outputs": [
    {
     "data": {
      "text/html": [
       "<div>\n",
       "<style scoped>\n",
       "    .dataframe tbody tr th:only-of-type {\n",
       "        vertical-align: middle;\n",
       "    }\n",
       "\n",
       "    .dataframe tbody tr th {\n",
       "        vertical-align: top;\n",
       "    }\n",
       "\n",
       "    .dataframe thead th {\n",
       "        text-align: right;\n",
       "    }\n",
       "</style>\n",
       "<table border=\"1\" class=\"dataframe\">\n",
       "  <thead>\n",
       "    <tr style=\"text-align: right;\">\n",
       "      <th></th>\n",
       "      <th>indicator_id</th>\n",
       "      <th>indicator_value</th>\n",
       "      <th>country_id</th>\n",
       "      <th>country_value</th>\n",
       "      <th>countryiso3code</th>\n",
       "      <th>date</th>\n",
       "      <th>value</th>\n",
       "      <th>unit</th>\n",
       "      <th>obs_status</th>\n",
       "      <th>decimal</th>\n",
       "    </tr>\n",
       "  </thead>\n",
       "  <tbody>\n",
       "    <tr>\n",
       "      <th>0</th>\n",
       "      <td>BX.KLT.DINV.CD.WD</td>\n",
       "      <td>Foreign direct investment, net inflows (BoP, c...</td>\n",
       "      <td>VN</td>\n",
       "      <td>Viet Nam</td>\n",
       "      <td>VNM</td>\n",
       "      <td>2024</td>\n",
       "      <td>2.017000e+10</td>\n",
       "      <td>NaN</td>\n",
       "      <td>NaN</td>\n",
       "      <td>0</td>\n",
       "    </tr>\n",
       "    <tr>\n",
       "      <th>1</th>\n",
       "      <td>BX.KLT.DINV.CD.WD</td>\n",
       "      <td>Foreign direct investment, net inflows (BoP, c...</td>\n",
       "      <td>VN</td>\n",
       "      <td>Viet Nam</td>\n",
       "      <td>VNM</td>\n",
       "      <td>2023</td>\n",
       "      <td>1.850000e+10</td>\n",
       "      <td>NaN</td>\n",
       "      <td>NaN</td>\n",
       "      <td>0</td>\n",
       "    </tr>\n",
       "    <tr>\n",
       "      <th>2</th>\n",
       "      <td>BX.KLT.DINV.CD.WD</td>\n",
       "      <td>Foreign direct investment, net inflows (BoP, c...</td>\n",
       "      <td>VN</td>\n",
       "      <td>Viet Nam</td>\n",
       "      <td>VNM</td>\n",
       "      <td>2022</td>\n",
       "      <td>1.790000e+10</td>\n",
       "      <td>NaN</td>\n",
       "      <td>NaN</td>\n",
       "      <td>0</td>\n",
       "    </tr>\n",
       "    <tr>\n",
       "      <th>3</th>\n",
       "      <td>BX.KLT.DINV.CD.WD</td>\n",
       "      <td>Foreign direct investment, net inflows (BoP, c...</td>\n",
       "      <td>VN</td>\n",
       "      <td>Viet Nam</td>\n",
       "      <td>VNM</td>\n",
       "      <td>2021</td>\n",
       "      <td>1.566000e+10</td>\n",
       "      <td>NaN</td>\n",
       "      <td>NaN</td>\n",
       "      <td>0</td>\n",
       "    </tr>\n",
       "    <tr>\n",
       "      <th>4</th>\n",
       "      <td>BX.KLT.DINV.CD.WD</td>\n",
       "      <td>Foreign direct investment, net inflows (BoP, c...</td>\n",
       "      <td>VN</td>\n",
       "      <td>Viet Nam</td>\n",
       "      <td>VNM</td>\n",
       "      <td>2020</td>\n",
       "      <td>1.580000e+10</td>\n",
       "      <td>NaN</td>\n",
       "      <td>NaN</td>\n",
       "      <td>0</td>\n",
       "    </tr>\n",
       "  </tbody>\n",
       "</table>\n",
       "</div>"
      ],
      "text/plain": [
       "        indicator_id                                    indicator_value  \\\n",
       "0  BX.KLT.DINV.CD.WD  Foreign direct investment, net inflows (BoP, c...   \n",
       "1  BX.KLT.DINV.CD.WD  Foreign direct investment, net inflows (BoP, c...   \n",
       "2  BX.KLT.DINV.CD.WD  Foreign direct investment, net inflows (BoP, c...   \n",
       "3  BX.KLT.DINV.CD.WD  Foreign direct investment, net inflows (BoP, c...   \n",
       "4  BX.KLT.DINV.CD.WD  Foreign direct investment, net inflows (BoP, c...   \n",
       "\n",
       "  country_id country_value countryiso3code  date         value  unit  \\\n",
       "0         VN      Viet Nam             VNM  2024  2.017000e+10   NaN   \n",
       "1         VN      Viet Nam             VNM  2023  1.850000e+10   NaN   \n",
       "2         VN      Viet Nam             VNM  2022  1.790000e+10   NaN   \n",
       "3         VN      Viet Nam             VNM  2021  1.566000e+10   NaN   \n",
       "4         VN      Viet Nam             VNM  2020  1.580000e+10   NaN   \n",
       "\n",
       "   obs_status  decimal  \n",
       "0         NaN        0  \n",
       "1         NaN        0  \n",
       "2         NaN        0  \n",
       "3         NaN        0  \n",
       "4         NaN        0  "
      ]
     },
     "execution_count": 98,
     "metadata": {},
     "output_type": "execute_result"
    }
   ],
   "source": [
    "df_fdi_inflow.head()"
   ]
  },
  {
   "cell_type": "code",
   "execution_count": 99,
   "id": "6b72fa6e",
   "metadata": {},
   "outputs": [
    {
     "name": "stdout",
     "output_type": "stream",
     "text": [
      "<class 'pandas.core.frame.DataFrame'>\n",
      "RangeIndex: 65 entries, 0 to 64\n",
      "Data columns (total 10 columns):\n",
      " #   Column           Non-Null Count  Dtype  \n",
      "---  ------           --------------  -----  \n",
      " 0   indicator_id     65 non-null     object \n",
      " 1   indicator_value  65 non-null     object \n",
      " 2   country_id       65 non-null     object \n",
      " 3   country_value    65 non-null     object \n",
      " 4   countryiso3code  65 non-null     object \n",
      " 5   date             65 non-null     int64  \n",
      " 6   value            55 non-null     float64\n",
      " 7   unit             0 non-null      float64\n",
      " 8   obs_status       0 non-null      float64\n",
      " 9   decimal          65 non-null     int64  \n",
      "dtypes: float64(3), int64(2), object(5)\n",
      "memory usage: 5.2+ KB\n"
     ]
    }
   ],
   "source": [
    "df_fdi_inflow.info()"
   ]
  },
  {
   "cell_type": "code",
   "execution_count": 100,
   "id": "437209ea",
   "metadata": {},
   "outputs": [
    {
     "name": "stdout",
     "output_type": "stream",
     "text": [
      "        date    fdi_inflow\n",
      "0 2024-12-31  2.017000e+10\n",
      "1 2023-12-31  1.850000e+10\n",
      "2 2022-12-31  1.790000e+10\n",
      "3 2021-12-31  1.566000e+10\n",
      "4 2020-12-31  1.580000e+10\n"
     ]
    }
   ],
   "source": [
    "# Xử lý cột ngày tháng\n",
    "df_fdi_inflow['date'] = pd.to_datetime(df_fdi_inflow['date'].astype(int).astype(str) + '-12-31')\n",
    "\n",
    "# Chỉ giữ 2 cột cần dùng và đổi tên cột\n",
    "df_fdi_inflow = (df_fdi_inflow[['date','value']])\n",
    "df_fdi_inflow.rename(columns={'value':'fdi_inflow'},inplace= True)\n",
    "df_fdi_inflow.sort_values('date').reset_index(drop=True) \n",
    "\n",
    "\n",
    "print(df_fdi_inflow.head())"
   ]
  },
  {
   "cell_type": "code",
   "execution_count": 101,
   "id": "13d9a55a",
   "metadata": {},
   "outputs": [
    {
     "data": {
      "text/plain": [
       "date           0\n",
       "fdi_inflow    10\n",
       "dtype: int64"
      ]
     },
     "execution_count": 101,
     "metadata": {},
     "output_type": "execute_result"
    }
   ],
   "source": [
    "df_fdi_inflow.isna().sum()"
   ]
  },
  {
   "cell_type": "code",
   "execution_count": 102,
   "id": "5c6d9a8c",
   "metadata": {},
   "outputs": [
    {
     "data": {
      "text/plain": [
       "fdi_inflow    15.384615\n",
       "dtype: float64"
      ]
     },
     "execution_count": 102,
     "metadata": {},
     "output_type": "execute_result"
    }
   ],
   "source": [
    "# Tỷ lệ phần trăm giá trị thiếu\n",
    "missing_percent = df_fdi_inflow.isnull().sum() / len(df_fdi_inflow) * 100\n",
    "missing_percent[missing_percent > 0]"
   ]
  },
  {
   "cell_type": "code",
   "execution_count": 103,
   "id": "322828c3",
   "metadata": {},
   "outputs": [
    {
     "data": {
      "text/plain": [
       "0"
      ]
     },
     "execution_count": 103,
     "metadata": {},
     "output_type": "execute_result"
    }
   ],
   "source": [
    "df_fdi_inflow.duplicated().sum()  # kiểm tra trùng "
   ]
  },
  {
   "cell_type": "code",
   "execution_count": 104,
   "id": "eab04b60",
   "metadata": {},
   "outputs": [],
   "source": [
    "#fillna\n",
    "df_fdi_inflow['fdi_inflow'] = df_fdi_inflow['fdi_inflow'].interpolate(method='linear')"
   ]
  },
  {
   "cell_type": "code",
   "execution_count": 105,
   "id": "db1e543d",
   "metadata": {},
   "outputs": [],
   "source": [
    "# lưu file .csv\n",
    "df_gdp_growth.to_csv(r\"C:\\Users\\Admin\\Desktop\\TANPHAT\\hocotruong\\Năm ba 2025-2026\\HK1_A\\Thu thập và tiền xử lý dữ liệu\\Đồ_án_GDP\\data\\processed\\gdp_growth_VN.csv\", index=False)\n",
    "df_cpi_index.to_csv(r\"C:\\Users\\Admin\\Desktop\\TANPHAT\\hocotruong\\Năm ba 2025-2026\\HK1_A\\Thu thập và tiền xử lý dữ liệu\\Đồ_án_GDP\\data\\processed\\cpi_index_VN.csv\", index=False)\n",
    "df_fdi_inflow.to_csv(r\"C:\\Users\\Admin\\Desktop\\TANPHAT\\hocotruong\\Năm ba 2025-2026\\HK1_A\\Thu thập và tiền xử lý dữ liệu\\Đồ_án_GDP\\data\\processed\\fdi_inflow_VN.csv\", index=False)\n"
   ]
  }
 ],
 "metadata": {
  "kernelspec": {
   "display_name": "Python 3",
   "language": "python",
   "name": "python3"
  },
  "language_info": {
   "codemirror_mode": {
    "name": "ipython",
    "version": 3
   },
   "file_extension": ".py",
   "mimetype": "text/x-python",
   "name": "python",
   "nbconvert_exporter": "python",
   "pygments_lexer": "ipython3",
   "version": "3.12.3"
  }
 },
 "nbformat": 4,
 "nbformat_minor": 5
}
