{
 "cells": [
  {
   "cell_type": "code",
   "execution_count": null,
   "id": "cc8ae837",
   "metadata": {},
   "outputs": [],
   "source": [
    "import pandas as pd"
   ]
  },
  {
   "cell_type": "code",
   "execution_count": null,
   "id": "ca33701f",
   "metadata": {},
   "outputs": [],
   "source": [
    "# GDP danh nghĩa (USD)\n",
    "df_gdp_nominal = pd.read_csv(r\"C:\\Users\\Admin\\Desktop\\TANPHAT\\hocotruong\\Năm ba 2025-2026\\HK1_A\\Thu thập và tiền xử lý dữ liệu\\Đồ_án_GDP\\data\\data_raw\\NY.GDP.MKTP.CD_VN_RAW.csv\")      \n",
    "# GDP tăng trưởng %\n",
    "df_gdp_growth  = pd.read_csv(r\"C:\\Users\\Admin\\Desktop\\TANPHAT\\hocotruong\\Năm ba 2025-2026\\HK1_A\\Thu thập và tiền xử lý dữ liệu\\Đồ_án_GDP\\data\\data_raw\\NY.GDP.MKTP.KD.ZG_VN_RAW.csv\")  \n",
    "# Lạm phát theo năm %   \n",
    "df_cpi_yoy     = pd.read_csv(r\"C:\\Users\\Admin\\Desktop\\TANPHAT\\hocotruong\\Năm ba 2025-2026\\HK1_A\\Thu thập và tiền xử lý dữ liệu\\Đồ_án_GDP\\data\\data_raw\\FP.CPI.TOTL_VN_WB_RAW.csv\")     \n",
    "# Chỉ số giá tiêu dùng tổng hợp\n",
    "df_cpi_index   = pd.read_csv(r\"C:\\Users\\Admin\\Desktop\\TANPHAT\\hocotruong\\Năm ba 2025-2026\\HK1_A\\Thu thập và tiền xử lý dữ liệu\\Đồ_án_GDP\\data\\data_raw\\FP.CPI.TOTL_VN_WB_RAW.csv\")        \n",
    "# Dòng vốn đầu tư trực tiếp\n",
    "df_fdi_inflow  = pd.read_csv(r\"C:\\Users\\Admin\\Desktop\\TANPHAT\\hocotruong\\Năm ba 2025-2026\\HK1_A\\Thu thập và tiền xử lý dữ liệu\\Đồ_án_GDP\\data\\data_raw\\BX.KLT.DINV.CD.WD_VN_RAW.csv\")     "
   ]
  },
  {
   "cell_type": "code",
   "execution_count": null,
   "id": "3a501e6d",
   "metadata": {},
   "outputs": [],
   "source": [
    "df_gdp_nominal.head()"
   ]
  },
  {
   "cell_type": "code",
   "execution_count": null,
   "id": "27e6611c",
   "metadata": {},
   "outputs": [],
   "source": [
    "df_gdp_nominal.info()"
   ]
  },
  {
   "cell_type": "code",
   "execution_count": null,
   "id": "460f93ba",
   "metadata": {},
   "outputs": [],
   "source": [
    "# Xử lý cột ngày tháng\n",
    "df_gdp_nominal['date'] = pd.to_datetime(df_gdp_nominal['date'].astype(int).astype(str) + '-12-31')\n",
    "\n",
    "# Chỉ giữ 2 cột cần dùng và đổi tên cột\n",
    "df_gdp_nominal = (df_gdp_nominal[['date','value']])\n",
    "df_gdp_nominal.rename(columns={'value':'GDP_nominal_USD'}).sort_values('date').reset_index(drop=True) \n",
    "\n",
    "\n",
    "print(df_gdp_nominal.head())\n"
   ]
  },
  {
   "cell_type": "code",
   "execution_count": null,
   "id": "956408bb",
   "metadata": {},
   "outputs": [],
   "source": [
    "df_gdp_nominal.isna().sum()"
   ]
  },
  {
   "cell_type": "code",
   "execution_count": null,
   "id": "418f0504",
   "metadata": {},
   "outputs": [],
   "source": [
    "# Tỷ lệ phần trăm giá trị thiếu\n",
    "missing_percent = df_gdp_nominal.isnull().sum() / len(df_gdp_nominal) * 100\n",
    "missing_percent[missing_percent > 0]"
   ]
  },
  {
   "cell_type": "code",
   "execution_count": null,
   "id": "3c6e558b",
   "metadata": {},
   "outputs": [],
   "source": [
    "df_gdp_nominal.duplicated().sum()  # kiểm tra trùng \n"
   ]
  },
  {
   "cell_type": "code",
   "execution_count": null,
   "id": "0c1b69ed",
   "metadata": {},
   "outputs": [],
   "source": [
    "df_gdp_growth.head()"
   ]
  },
  {
   "cell_type": "code",
   "execution_count": null,
   "id": "5e4580f0",
   "metadata": {},
   "outputs": [],
   "source": [
    "df_gdp_growth.info()"
   ]
  },
  {
   "cell_type": "code",
   "execution_count": null,
   "id": "8191b24e",
   "metadata": {},
   "outputs": [],
   "source": [
    "# Xử lý cột ngày tháng\n",
    "df_gdp_growth['date'] = pd.to_datetime(df_gdp_growth['date'].astype(int).astype(str) + '-12-31')\n",
    "\n",
    "# Chỉ giữ 2 cột cần dùng và đổi tên cột\n",
    "df_gdp_growth = (df_gdp_growth[['date','value']])\n",
    "df_gdp_growth.rename(columns={'value':'GDP_nominal_USD'}).sort_values('date').reset_index(drop=True) \n",
    "\n",
    "\n",
    "print(df_gdp_growth.head())"
   ]
  },
  {
   "cell_type": "code",
   "execution_count": null,
   "id": "52c7c9ed",
   "metadata": {},
   "outputs": [],
   "source": [
    "df_gdp_growth.isnull().sum()"
   ]
  },
  {
   "cell_type": "code",
   "execution_count": null,
   "id": "ca930305",
   "metadata": {},
   "outputs": [],
   "source": [
    "# Tỷ lệ phần trăm giá trị thiếu\n",
    "missing_percent = df_gdp_growth.isnull().sum() / len(df_gdp_growth) * 100\n",
    "missing_percent[missing_percent > 0]"
   ]
  },
  {
   "cell_type": "code",
   "execution_count": null,
   "id": "c8698b00",
   "metadata": {},
   "outputs": [],
   "source": [
    "df_gdp_growth.duplicated().sum()  # kiểm tra trùng "
   ]
  },
  {
   "cell_type": "code",
   "execution_count": null,
   "id": "4eff790b",
   "metadata": {},
   "outputs": [],
   "source": [
    "df_cpi_yoy.head()"
   ]
  },
  {
   "cell_type": "code",
   "execution_count": null,
   "id": "4904c123",
   "metadata": {},
   "outputs": [],
   "source": [
    "df_cpi_yoy.info()"
   ]
  },
  {
   "cell_type": "code",
   "execution_count": null,
   "id": "d7c89937",
   "metadata": {},
   "outputs": [],
   "source": [
    "# Xử lý cột ngày tháng\n",
    "df_cpi_yoy['date'] = pd.to_datetime(df_cpi_yoy['date'].astype(int).astype(str) + '-12-31')\n",
    "\n",
    "# Chỉ giữ 2 cột cần dùng và đổi tên cột\n",
    "df_cpi_yoy = (df_cpi_yoy[['date','value']])\n",
    "df_cpi_yoy.rename(columns={'value':'GDP_nominal_USD'}).sort_values('date').reset_index(drop=True) \n",
    "\n",
    "\n",
    "print(df_cpi_yoy.head())"
   ]
  },
  {
   "cell_type": "code",
   "execution_count": null,
   "id": "c20d7e76",
   "metadata": {},
   "outputs": [],
   "source": [
    "df_cpi_yoy.duplicated().sum()  # kiểm tra trùng "
   ]
  },
  {
   "cell_type": "code",
   "execution_count": null,
   "id": "1216f55e",
   "metadata": {},
   "outputs": [],
   "source": [
    "df_cpi_yoy.isna().sum()"
   ]
  },
  {
   "cell_type": "code",
   "execution_count": null,
   "id": "9983f469",
   "metadata": {},
   "outputs": [],
   "source": [
    "# Tỷ lệ phần trăm giá trị thiếu\n",
    "missing_percent = df_cpi_yoy.isnull().sum() / len(df_cpi_yoy) * 100\n",
    "missing_percent[missing_percent > 0]"
   ]
  },
  {
   "cell_type": "code",
   "execution_count": null,
   "id": "72a60cd3",
   "metadata": {},
   "outputs": [],
   "source": [
    "df_cpi_index.head()"
   ]
  },
  {
   "cell_type": "code",
   "execution_count": null,
   "id": "d8d6f20f",
   "metadata": {},
   "outputs": [],
   "source": [
    "df_cpi_index.info()"
   ]
  },
  {
   "cell_type": "code",
   "execution_count": null,
   "id": "04f6dda4",
   "metadata": {},
   "outputs": [],
   "source": [
    "# Xử lý cột ngày tháng\n",
    "df_cpi_index['date'] = pd.to_datetime(df_cpi_index['date'].astype(int).astype(str) + '-12-31')\n",
    "\n",
    "# Chỉ giữ 2 cột cần dùng và đổi tên cột\n",
    "df_cpi_index = (df_cpi_index[['date','value']])\n",
    "df_cpi_index.rename(columns={'value':'GDP_nominal_USD'}).sort_values('date').reset_index(drop=True) \n",
    "\n",
    "\n",
    "print(df_cpi_index.head())"
   ]
  },
  {
   "cell_type": "code",
   "execution_count": null,
   "id": "64790207",
   "metadata": {},
   "outputs": [],
   "source": [
    "df_cpi_index.isna().sum()"
   ]
  },
  {
   "cell_type": "code",
   "execution_count": null,
   "id": "1c2c0a9b",
   "metadata": {},
   "outputs": [],
   "source": [
    "# Tỷ lệ phần trăm giá trị thiếu\n",
    "missing_percent = df_cpi_index.isnull().sum() / len(df_cpi_index) * 100\n",
    "missing_percent[missing_percent > 0]"
   ]
  },
  {
   "cell_type": "code",
   "execution_count": null,
   "id": "04c99d31",
   "metadata": {},
   "outputs": [],
   "source": [
    "df_cpi_index.duplicated().sum()  # kiểm tra trùng "
   ]
  },
  {
   "cell_type": "code",
   "execution_count": null,
   "id": "a3902488",
   "metadata": {},
   "outputs": [],
   "source": [
    "df_fdi_inflow.head()"
   ]
  },
  {
   "cell_type": "code",
   "execution_count": null,
   "id": "6b72fa6e",
   "metadata": {},
   "outputs": [],
   "source": [
    "df_fdi_inflow.info()"
   ]
  },
  {
   "cell_type": "code",
   "execution_count": null,
   "id": "437209ea",
   "metadata": {},
   "outputs": [],
   "source": [
    "# Xử lý cột ngày tháng\n",
    "df_fdi_inflow['date'] = pd.to_datetime(df_fdi_inflow['date'].astype(int).astype(str) + '-12-31')\n",
    "\n",
    "# Chỉ giữ 2 cột cần dùng và đổi tên cột\n",
    "df_fdi_inflow = (df_fdi_inflow[['date','value']])\n",
    "df_fdi_inflow.rename(columns={'value':'GDP_nominal_USD'}).sort_values('date').reset_index(drop=True) \n",
    "\n",
    "\n",
    "print(df_fdi_inflow.head())"
   ]
  },
  {
   "cell_type": "code",
   "execution_count": null,
   "id": "13d9a55a",
   "metadata": {},
   "outputs": [],
   "source": [
    "df_fdi_inflow.isna().sum()"
   ]
  },
  {
   "cell_type": "code",
   "execution_count": null,
   "id": "5c6d9a8c",
   "metadata": {},
   "outputs": [],
   "source": [
    "# Tỷ lệ phần trăm giá trị thiếu\n",
    "missing_percent = df_fdi_inflow.isnull().sum() / len(df_fdi_inflow) * 100\n",
    "missing_percent[missing_percent > 0]"
   ]
  },
  {
   "cell_type": "code",
   "execution_count": null,
   "id": "322828c3",
   "metadata": {},
   "outputs": [],
   "source": [
    "df_fdi_inflow.duplicated().sum()  # kiểm tra trùng "
   ]
  },
  {
   "cell_type": "code",
   "execution_count": null,
   "id": "db1e543d",
   "metadata": {},
   "outputs": [],
   "source": [
    "# lưu file .csv\n",
    "# df_gdp_nominal.to_csv(r\"C:\\Users\\Admin\\Desktop\\TANPHAT\\hocotruong\\Năm ba 2025-2026\\HK1_A\\Thu thập và tiền xử lý dữ liệu\\Đồ_án_GDP\\data\\processed\\gdp_nominal_VN.csv\", index=False)\n",
    "# df_gdp_growth.to_csv(r\"C:\\Users\\Admin\\Desktop\\TANPHAT\\hocotruong\\Năm ba 2025-2026\\HK1_A\\Thu thập và tiền xử lý dữ liệu\\Đồ_án_GDP\\data\\processed\\gdp_growth_VN.csv\", index=False)\n",
    "# df_cpi_yoy.to_csv(r\"C:\\Users\\Admin\\Desktop\\TANPHAT\\hocotruong\\Năm ba 2025-2026\\HK1_A\\Thu thập và tiền xử lý dữ liệu\\Đồ_án_GDP\\data\\processed\\cpi_yoy_VN.csv\", index=False)\n",
    "# df_cpi_index.to_csv(r\"C:\\Users\\Admin\\Desktop\\TANPHAT\\hocotruong\\Năm ba 2025-2026\\HK1_A\\Thu thập và tiền xử lý dữ liệu\\Đồ_án_GDP\\data\\processed\\cpi_index_VN.csv\", index=False)\n",
    "# df_fdi_inflow.to_csv(r\"C:\\Users\\Admin\\Desktop\\TANPHAT\\hocotruong\\Năm ba 2025-2026\\HK1_A\\Thu thập và tiền xử lý dữ liệu\\Đồ_án_GDP\\data\\processed\\fdi_inflow_VN.csv\", index=False)\n"
   ]
  }
 ],
 "metadata": {
  "kernelspec": {
   "display_name": "Python 3",
   "language": "python",
   "name": "python3"
  },
  "language_info": {
   "codemirror_mode": {
    "name": "ipython",
    "version": 3
   },
   "file_extension": ".py",
   "mimetype": "text/x-python",
   "name": "python",
   "nbconvert_exporter": "python",
   "pygments_lexer": "ipython3",
   "version": "3.12.3"
  }
 },
 "nbformat": 4,
 "nbformat_minor": 5
}
