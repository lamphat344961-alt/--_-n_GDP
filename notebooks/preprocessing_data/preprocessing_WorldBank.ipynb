{
 "cells": [
  {
   "cell_type": "markdown",
   "id": "631ee631",
   "metadata": {},
   "source": [
    "# Import thư viện"
   ]
  },
  {
   "cell_type": "code",
   "execution_count": null,
   "id": "cc8ae837",
   "metadata": {},
   "outputs": [],
   "source": [
    "import pandas as pd"
   ]
  },
  {
   "cell_type": "markdown",
   "id": "05ba9208",
   "metadata": {},
   "source": [
    "# Đọc dữ liệu"
   ]
  },
  {
   "cell_type": "code",
   "execution_count": null,
   "id": "ca33701f",
   "metadata": {},
   "outputs": [],
   "source": [
    "# GDP tăng trưởng %\n",
    "df_gdp_growth  = pd.read_csv(r\"C:\\Users\\Admin\\Desktop\\TANPHAT\\hocotruong\\Năm ba 2025-2026\\HK1_A\\Thu thập và tiền xử lý dữ liệu\\Đồ_án_GDP\\data\\data_raw\\NY.GDP.MKTP.KD.ZG_VN_RAW.csv\")  \n",
    "# Chỉ số giá tiêu dùng tổng hợp\n",
    "df_cpi_index   = pd.read_csv(r\"C:\\Users\\Admin\\Desktop\\TANPHAT\\hocotruong\\Năm ba 2025-2026\\HK1_A\\Thu thập và tiền xử lý dữ liệu\\Đồ_án_GDP\\data\\data_raw\\FP.CPI.TOTL.ZG_VN_WB_RAW.csv\")        \n",
    "# Dòng vốn đầu tư trực tiếp\n",
    "df_fdi_inflow  = pd.read_csv(r\"C:\\Users\\Admin\\Desktop\\TANPHAT\\hocotruong\\Năm ba 2025-2026\\HK1_A\\Thu thập và tiền xử lý dữ liệu\\Đồ_án_GDP\\data\\data_raw\\BX.KLT.DINV.CD.WD_VN_RAW.csv\")     "
   ]
  },
  {
   "cell_type": "markdown",
   "id": "1e6fcec0",
   "metadata": {},
   "source": [
    "# Khám phá dữ liệu sơ bộ"
   ]
  },
  {
   "cell_type": "code",
   "execution_count": null,
   "id": "0c1b69ed",
   "metadata": {},
   "outputs": [],
   "source": [
    "df_gdp_growth.head()"
   ]
  },
  {
   "cell_type": "code",
   "execution_count": null,
   "id": "5e4580f0",
   "metadata": {},
   "outputs": [],
   "source": [
    "df_gdp_growth.info()"
   ]
  },
  {
   "cell_type": "markdown",
   "id": "230be57d",
   "metadata": {},
   "source": [
    "# Chuẩn hóa dữ liệu"
   ]
  },
  {
   "cell_type": "code",
   "execution_count": null,
   "id": "8191b24e",
   "metadata": {},
   "outputs": [],
   "source": [
    "# Xử lý cột ngày tháng\n",
    "df_gdp_growth['date'] = pd.to_datetime(df_gdp_growth['date'].astype(int).astype(str) + '-12-31')\n",
    "\n",
    "# Chỉ giữ 2 cột cần dùng và đổi tên cột\n",
    "df_gdp_growth = (df_gdp_growth[['date','value']])\n",
    "df_gdp_growth.rename(columns={'value':'GDP_percent'}, inplace=True)\n",
    "df_gdp_growth.sort_values('date').reset_index(drop=True) \n",
    "\n",
    "\n",
    "print(df_gdp_growth.head())"
   ]
  },
  {
   "cell_type": "code",
   "execution_count": null,
   "id": "f66493f8",
   "metadata": {},
   "outputs": [],
   "source": [
    "df_gdp_growth.columns = df_gdp_growth.columns.str.strip().str.lower().str.replace(' ', '_')\n",
    "\n",
    "print(df_gdp_growth.head())"
   ]
  },
  {
   "cell_type": "code",
   "execution_count": null,
   "id": "52c7c9ed",
   "metadata": {},
   "outputs": [],
   "source": [
    "df_gdp_growth.isnull().sum()"
   ]
  },
  {
   "cell_type": "code",
   "execution_count": null,
   "id": "ca930305",
   "metadata": {},
   "outputs": [],
   "source": [
    "# Tỷ lệ phần trăm giá trị thiếu\n",
    "missing_percent = df_gdp_growth.isnull().sum() / len(df_gdp_growth) * 100\n",
    "missing_percent[missing_percent > 0]"
   ]
  },
  {
   "cell_type": "code",
   "execution_count": null,
   "id": "c8698b00",
   "metadata": {},
   "outputs": [],
   "source": [
    "df_gdp_growth.duplicated().sum()  # kiểm tra trùng "
   ]
  },
  {
   "cell_type": "markdown",
   "id": "5fde7455",
   "metadata": {},
   "source": [
    "# Fill các giá trị thiếu bằng fillna"
   ]
  },
  {
   "cell_type": "code",
   "execution_count": null,
   "id": "984eb163",
   "metadata": {},
   "outputs": [],
   "source": [
    "# Fillna\n",
    "df_gdp_growth['gdp_percent'] = df_gdp_growth['gdp_percent'].interpolate(method='linear')\n"
   ]
  },
  {
   "cell_type": "markdown",
   "id": "136cc0d2",
   "metadata": {},
   "source": [
    "# Hiển thị các giá trị đã fill"
   ]
  },
  {
   "cell_type": "code",
   "execution_count": null,
   "id": "72a60cd3",
   "metadata": {},
   "outputs": [],
   "source": [
    "df_cpi_index.head()"
   ]
  },
  {
   "cell_type": "code",
   "execution_count": null,
   "id": "d8d6f20f",
   "metadata": {},
   "outputs": [],
   "source": [
    "df_cpi_index.info()"
   ]
  },
  {
   "cell_type": "code",
   "execution_count": null,
   "id": "04f6dda4",
   "metadata": {},
   "outputs": [],
   "source": [
    "# Xử lý cột ngày tháng\n",
    "df_cpi_index['date'] = pd.to_datetime(df_cpi_index['date'].astype(int).astype(str) + '-12-31')\n",
    "\n",
    "# Chỉ giữ 2 cột cần dùng và đổi tên cột\n",
    "df_cpi_index = (df_cpi_index[['date','value']])\n",
    "df_cpi_index.rename(columns={'value':'cpi_index'}, inplace= True)\n",
    "df_cpi_index.sort_values('date').reset_index(drop=True) \n",
    "\n",
    "\n",
    "print(df_cpi_index.head())"
   ]
  },
  {
   "cell_type": "code",
   "execution_count": null,
   "id": "64790207",
   "metadata": {},
   "outputs": [],
   "source": [
    "df_cpi_index.isna().sum()"
   ]
  },
  {
   "cell_type": "code",
   "execution_count": null,
   "id": "1c2c0a9b",
   "metadata": {},
   "outputs": [],
   "source": [
    "# Tỷ lệ phần trăm giá trị thiếu\n",
    "missing_percent = df_cpi_index.isnull().sum() / len(df_cpi_index) * 100\n",
    "missing_percent[missing_percent > 0]"
   ]
  },
  {
   "cell_type": "code",
   "execution_count": null,
   "id": "04c99d31",
   "metadata": {},
   "outputs": [],
   "source": [
    "df_cpi_index.duplicated().sum()  # kiểm tra trùng "
   ]
  },
  {
   "cell_type": "code",
   "execution_count": null,
   "id": "71bd4570",
   "metadata": {},
   "outputs": [],
   "source": [
    "#fillna\n",
    "df_cpi_index['cpi_index'] = df_cpi_index['cpi_index'].interpolate(method='linear')"
   ]
  },
  {
   "cell_type": "code",
   "execution_count": null,
   "id": "a3902488",
   "metadata": {},
   "outputs": [],
   "source": [
    "df_fdi_inflow.head()"
   ]
  },
  {
   "cell_type": "code",
   "execution_count": null,
   "id": "6b72fa6e",
   "metadata": {},
   "outputs": [],
   "source": [
    "df_fdi_inflow.info()"
   ]
  },
  {
   "cell_type": "code",
   "execution_count": null,
   "id": "437209ea",
   "metadata": {},
   "outputs": [],
   "source": [
    "# Xử lý cột ngày tháng\n",
    "df_fdi_inflow['date'] = pd.to_datetime(df_fdi_inflow['date'].astype(int).astype(str) + '-12-31')\n",
    "\n",
    "# Chỉ giữ 2 cột cần dùng và đổi tên cột\n",
    "df_fdi_inflow = (df_fdi_inflow[['date','value']])\n",
    "df_fdi_inflow.rename(columns={'value':'fdi_inflow'},inplace= True)\n",
    "df_fdi_inflow.sort_values('date').reset_index(drop=True) \n",
    "\n",
    "\n",
    "print(df_fdi_inflow.head())"
   ]
  },
  {
   "cell_type": "code",
   "execution_count": null,
   "id": "13d9a55a",
   "metadata": {},
   "outputs": [],
   "source": [
    "df_fdi_inflow.isna().sum()"
   ]
  },
  {
   "cell_type": "code",
   "execution_count": null,
   "id": "5c6d9a8c",
   "metadata": {},
   "outputs": [],
   "source": [
    "# Tỷ lệ phần trăm giá trị thiếu\n",
    "missing_percent = df_fdi_inflow.isnull().sum() / len(df_fdi_inflow) * 100\n",
    "missing_percent[missing_percent > 0]"
   ]
  },
  {
   "cell_type": "code",
   "execution_count": null,
   "id": "322828c3",
   "metadata": {},
   "outputs": [],
   "source": [
    "df_fdi_inflow.duplicated().sum()  # kiểm tra trùng "
   ]
  },
  {
   "cell_type": "code",
   "execution_count": null,
   "id": "eab04b60",
   "metadata": {},
   "outputs": [],
   "source": [
    "#fillna\n",
    "df_fdi_inflow['fdi_inflow'] = df_fdi_inflow['fdi_inflow'].interpolate(method='linear')"
   ]
  },
  {
   "cell_type": "markdown",
   "id": "66b22e73",
   "metadata": {},
   "source": [
    "Chuẩn hóa dữ liệu có các nội dung như sau:\n",
    "\n",
    "-Chuẩn hóa dữ liệu , xử lý cột ngày tháng , đổi tên cột , kiểm lại các dữ liệu đã được chuẩn hóa \n",
    "\n",
    "-Fill các giá trị thiếu bằng fillna \n"
   ]
  },
  {
   "cell_type": "markdown",
   "id": "f5ce7913",
   "metadata": {},
   "source": [
    "# Lưu file csv"
   ]
  },
  {
   "cell_type": "code",
   "execution_count": null,
   "id": "db1e543d",
   "metadata": {},
   "outputs": [],
   "source": [
    "# lưu file .csv\n",
    "df_gdp_growth.to_csv(r\"C:\\Users\\Admin\\Desktop\\TANPHAT\\hocotruong\\Năm ba 2025-2026\\HK1_A\\Thu thập và tiền xử lý dữ liệu\\Đồ_án_GDP\\data\\processed\\gdp_growth_VN.csv\", index=False)\n",
    "df_cpi_index.to_csv(r\"C:\\Users\\Admin\\Desktop\\TANPHAT\\hocotruong\\Năm ba 2025-2026\\HK1_A\\Thu thập và tiền xử lý dữ liệu\\Đồ_án_GDP\\data\\processed\\cpi_index_VN.csv\", index=False)\n",
    "df_fdi_inflow.to_csv(r\"C:\\Users\\Admin\\Desktop\\TANPHAT\\hocotruong\\Năm ba 2025-2026\\HK1_A\\Thu thập và tiền xử lý dữ liệu\\Đồ_án_GDP\\data\\processed\\fdi_inflow_VN.csv\", index=False)\n"
   ]
  }
 ],
 "metadata": {
  "kernelspec": {
   "display_name": "Python 3",
   "language": "python",
   "name": "python3"
  },
  "language_info": {
   "codemirror_mode": {
    "name": "ipython",
    "version": 3
   },
   "file_extension": ".py",
   "mimetype": "text/x-python",
   "name": "python",
   "nbconvert_exporter": "python",
   "pygments_lexer": "ipython3",
   "version": "3.12.3"
  }
 },
 "nbformat": 4,
 "nbformat_minor": 5
}
