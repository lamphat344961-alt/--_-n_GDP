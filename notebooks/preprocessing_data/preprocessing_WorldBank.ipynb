{
 "cells": [
  {
   "cell_type": "code",
   "execution_count": 23,
   "id": "cc8ae837",
   "metadata": {},
   "outputs": [],
   "source": [
    "import pandas as pd"
   ]
  },
  {
   "cell_type": "code",
   "execution_count": 24,
   "id": "ca33701f",
   "metadata": {},
   "outputs": [],
   "source": [
    "# GDP danh nghĩa (USD)\n",
    "df_gdp_nominal = pd.read_csv(r\"C:\\Users\\Admin\\Desktop\\TANPHAT\\hocotruong\\Năm ba 2025-2026\\HK1_A\\Thu thập và tiền xử lý dữ liệu\\Đồ_án_GDP\\data\\data_raw\\NY.GDP.MKTP.CD_VN_RAW.csv\")      \n",
    "# GDP tăng trưởng %\n",
    "df_gdp_growth  = pd.read_csv(r\"C:\\Users\\Admin\\Desktop\\TANPHAT\\hocotruong\\Năm ba 2025-2026\\HK1_A\\Thu thập và tiền xử lý dữ liệu\\Đồ_án_GDP\\data\\data_raw\\NY.GDP.MKTP.KD.ZG_VN_RAW.csv\")  \n",
    "# Lạm phát theo năm %   \n",
    "df_cpi_yoy     = pd.read_csv(r\"C:\\Users\\Admin\\Desktop\\TANPHAT\\hocotruong\\Năm ba 2025-2026\\HK1_A\\Thu thập và tiền xử lý dữ liệu\\Đồ_án_GDP\\data\\data_raw\\FP.CPI.TOTL_VN_WB_RAW.csv\")     \n",
    "# Chỉ số giá tiêu dùng tổng hợp\n",
    "df_cpi_index   = pd.read_csv(r\"C:\\Users\\Admin\\Desktop\\TANPHAT\\hocotruong\\Năm ba 2025-2026\\HK1_A\\Thu thập và tiền xử lý dữ liệu\\Đồ_án_GDP\\data\\data_raw\\FP.CPI.TOTL_VN_WB_RAW.csv\")        \n",
    "# Dòng vốn đầu tư trực tiếp\n",
    "df_fdi_inflow  = pd.read_csv(r\"C:\\Users\\Admin\\Desktop\\TANPHAT\\hocotruong\\Năm ba 2025-2026\\HK1_A\\Thu thập và tiền xử lý dữ liệu\\Đồ_án_GDP\\data\\data_raw\\BX.KLT.DINV.CD.WD_VN_RAW.csv\")     "
   ]
  },
  {
   "cell_type": "code",
   "execution_count": 25,
   "id": "3a501e6d",
   "metadata": {},
   "outputs": [
    {
     "data": {
      "text/html": [
       "<div>\n",
       "<style scoped>\n",
       "    .dataframe tbody tr th:only-of-type {\n",
       "        vertical-align: middle;\n",
       "    }\n",
       "\n",
       "    .dataframe tbody tr th {\n",
       "        vertical-align: top;\n",
       "    }\n",
       "\n",
       "    .dataframe thead th {\n",
       "        text-align: right;\n",
       "    }\n",
       "</style>\n",
       "<table border=\"1\" class=\"dataframe\">\n",
       "  <thead>\n",
       "    <tr style=\"text-align: right;\">\n",
       "      <th></th>\n",
       "      <th>indicator_id</th>\n",
       "      <th>indicator_value</th>\n",
       "      <th>country_id</th>\n",
       "      <th>country_value</th>\n",
       "      <th>countryiso3code</th>\n",
       "      <th>date</th>\n",
       "      <th>value</th>\n",
       "      <th>unit</th>\n",
       "      <th>obs_status</th>\n",
       "      <th>decimal</th>\n",
       "    </tr>\n",
       "  </thead>\n",
       "  <tbody>\n",
       "    <tr>\n",
       "      <th>0</th>\n",
       "      <td>NY.GDP.MKTP.CD</td>\n",
       "      <td>GDP (current US$)</td>\n",
       "      <td>VN</td>\n",
       "      <td>Viet Nam</td>\n",
       "      <td>VNM</td>\n",
       "      <td>2024</td>\n",
       "      <td>4.763882e+11</td>\n",
       "      <td>NaN</td>\n",
       "      <td>NaN</td>\n",
       "      <td>0</td>\n",
       "    </tr>\n",
       "    <tr>\n",
       "      <th>1</th>\n",
       "      <td>NY.GDP.MKTP.CD</td>\n",
       "      <td>GDP (current US$)</td>\n",
       "      <td>VN</td>\n",
       "      <td>Viet Nam</td>\n",
       "      <td>VNM</td>\n",
       "      <td>2023</td>\n",
       "      <td>4.338577e+11</td>\n",
       "      <td>NaN</td>\n",
       "      <td>NaN</td>\n",
       "      <td>0</td>\n",
       "    </tr>\n",
       "    <tr>\n",
       "      <th>2</th>\n",
       "      <td>NY.GDP.MKTP.CD</td>\n",
       "      <td>GDP (current US$)</td>\n",
       "      <td>VN</td>\n",
       "      <td>Viet Nam</td>\n",
       "      <td>VNM</td>\n",
       "      <td>2022</td>\n",
       "      <td>4.134452e+11</td>\n",
       "      <td>NaN</td>\n",
       "      <td>NaN</td>\n",
       "      <td>0</td>\n",
       "    </tr>\n",
       "    <tr>\n",
       "      <th>3</th>\n",
       "      <td>NY.GDP.MKTP.CD</td>\n",
       "      <td>GDP (current US$)</td>\n",
       "      <td>VN</td>\n",
       "      <td>Viet Nam</td>\n",
       "      <td>VNM</td>\n",
       "      <td>2021</td>\n",
       "      <td>3.664748e+11</td>\n",
       "      <td>NaN</td>\n",
       "      <td>NaN</td>\n",
       "      <td>0</td>\n",
       "    </tr>\n",
       "    <tr>\n",
       "      <th>4</th>\n",
       "      <td>NY.GDP.MKTP.CD</td>\n",
       "      <td>GDP (current US$)</td>\n",
       "      <td>VN</td>\n",
       "      <td>Viet Nam</td>\n",
       "      <td>VNM</td>\n",
       "      <td>2020</td>\n",
       "      <td>3.466157e+11</td>\n",
       "      <td>NaN</td>\n",
       "      <td>NaN</td>\n",
       "      <td>0</td>\n",
       "    </tr>\n",
       "  </tbody>\n",
       "</table>\n",
       "</div>"
      ],
      "text/plain": [
       "     indicator_id    indicator_value country_id country_value countryiso3code  \\\n",
       "0  NY.GDP.MKTP.CD  GDP (current US$)         VN      Viet Nam             VNM   \n",
       "1  NY.GDP.MKTP.CD  GDP (current US$)         VN      Viet Nam             VNM   \n",
       "2  NY.GDP.MKTP.CD  GDP (current US$)         VN      Viet Nam             VNM   \n",
       "3  NY.GDP.MKTP.CD  GDP (current US$)         VN      Viet Nam             VNM   \n",
       "4  NY.GDP.MKTP.CD  GDP (current US$)         VN      Viet Nam             VNM   \n",
       "\n",
       "   date         value  unit  obs_status  decimal  \n",
       "0  2024  4.763882e+11   NaN         NaN        0  \n",
       "1  2023  4.338577e+11   NaN         NaN        0  \n",
       "2  2022  4.134452e+11   NaN         NaN        0  \n",
       "3  2021  3.664748e+11   NaN         NaN        0  \n",
       "4  2020  3.466157e+11   NaN         NaN        0  "
      ]
     },
     "execution_count": 25,
     "metadata": {},
     "output_type": "execute_result"
    }
   ],
   "source": [
    "df_gdp_nominal.head()\n"
   ]
  },
  {
   "cell_type": "code",
   "execution_count": null,
   "id": "27e6611c",
   "metadata": {},
   "outputs": [],
   "source": [
    "df_gdp_nominal.info()"
   ]
  },
  {
   "cell_type": "code",
   "execution_count": null,
   "id": "956408bb",
   "metadata": {},
   "outputs": [],
   "source": [
    "df_gdp_nominal.isna().sum()"
   ]
  },
  {
   "cell_type": "code",
   "execution_count": 27,
   "id": "418f0504",
   "metadata": {},
   "outputs": [
    {
     "data": {
      "text/plain": [
       "value          38.461538\n",
       "unit          100.000000\n",
       "obs_status    100.000000\n",
       "dtype: float64"
      ]
     },
     "execution_count": 27,
     "metadata": {},
     "output_type": "execute_result"
    }
   ],
   "source": [
    "# Tỷ lệ phần trăm giá trị thiếu\n",
    "missing_percent = df_gdp_nominal.isnull().sum() / len(df_gdp_nominal) * 100\n",
    "missing_percent[missing_percent > 0]"
   ]
  },
  {
   "cell_type": "code",
   "execution_count": 28,
   "id": "0c1b69ed",
   "metadata": {},
   "outputs": [
    {
     "data": {
      "text/html": [
       "<div>\n",
       "<style scoped>\n",
       "    .dataframe tbody tr th:only-of-type {\n",
       "        vertical-align: middle;\n",
       "    }\n",
       "\n",
       "    .dataframe tbody tr th {\n",
       "        vertical-align: top;\n",
       "    }\n",
       "\n",
       "    .dataframe thead th {\n",
       "        text-align: right;\n",
       "    }\n",
       "</style>\n",
       "<table border=\"1\" class=\"dataframe\">\n",
       "  <thead>\n",
       "    <tr style=\"text-align: right;\">\n",
       "      <th></th>\n",
       "      <th>indicator_id</th>\n",
       "      <th>indicator_value</th>\n",
       "      <th>country_id</th>\n",
       "      <th>country_value</th>\n",
       "      <th>countryiso3code</th>\n",
       "      <th>date</th>\n",
       "      <th>value</th>\n",
       "      <th>unit</th>\n",
       "      <th>obs_status</th>\n",
       "      <th>decimal</th>\n",
       "    </tr>\n",
       "  </thead>\n",
       "  <tbody>\n",
       "    <tr>\n",
       "      <th>0</th>\n",
       "      <td>NY.GDP.MKTP.KD.ZG</td>\n",
       "      <td>GDP growth (annual %)</td>\n",
       "      <td>VN</td>\n",
       "      <td>Viet Nam</td>\n",
       "      <td>VNM</td>\n",
       "      <td>2024</td>\n",
       "      <td>7.091187</td>\n",
       "      <td>NaN</td>\n",
       "      <td>NaN</td>\n",
       "      <td>1</td>\n",
       "    </tr>\n",
       "    <tr>\n",
       "      <th>1</th>\n",
       "      <td>NY.GDP.MKTP.KD.ZG</td>\n",
       "      <td>GDP growth (annual %)</td>\n",
       "      <td>VN</td>\n",
       "      <td>Viet Nam</td>\n",
       "      <td>VNM</td>\n",
       "      <td>2023</td>\n",
       "      <td>5.065024</td>\n",
       "      <td>NaN</td>\n",
       "      <td>NaN</td>\n",
       "      <td>1</td>\n",
       "    </tr>\n",
       "    <tr>\n",
       "      <th>2</th>\n",
       "      <td>NY.GDP.MKTP.KD.ZG</td>\n",
       "      <td>GDP growth (annual %)</td>\n",
       "      <td>VN</td>\n",
       "      <td>Viet Nam</td>\n",
       "      <td>VNM</td>\n",
       "      <td>2022</td>\n",
       "      <td>8.537500</td>\n",
       "      <td>NaN</td>\n",
       "      <td>NaN</td>\n",
       "      <td>1</td>\n",
       "    </tr>\n",
       "    <tr>\n",
       "      <th>3</th>\n",
       "      <td>NY.GDP.MKTP.KD.ZG</td>\n",
       "      <td>GDP growth (annual %)</td>\n",
       "      <td>VN</td>\n",
       "      <td>Viet Nam</td>\n",
       "      <td>VNM</td>\n",
       "      <td>2021</td>\n",
       "      <td>2.553729</td>\n",
       "      <td>NaN</td>\n",
       "      <td>NaN</td>\n",
       "      <td>1</td>\n",
       "    </tr>\n",
       "    <tr>\n",
       "      <th>4</th>\n",
       "      <td>NY.GDP.MKTP.KD.ZG</td>\n",
       "      <td>GDP growth (annual %)</td>\n",
       "      <td>VN</td>\n",
       "      <td>Viet Nam</td>\n",
       "      <td>VNM</td>\n",
       "      <td>2020</td>\n",
       "      <td>2.865413</td>\n",
       "      <td>NaN</td>\n",
       "      <td>NaN</td>\n",
       "      <td>1</td>\n",
       "    </tr>\n",
       "  </tbody>\n",
       "</table>\n",
       "</div>"
      ],
      "text/plain": [
       "        indicator_id        indicator_value country_id country_value  \\\n",
       "0  NY.GDP.MKTP.KD.ZG  GDP growth (annual %)         VN      Viet Nam   \n",
       "1  NY.GDP.MKTP.KD.ZG  GDP growth (annual %)         VN      Viet Nam   \n",
       "2  NY.GDP.MKTP.KD.ZG  GDP growth (annual %)         VN      Viet Nam   \n",
       "3  NY.GDP.MKTP.KD.ZG  GDP growth (annual %)         VN      Viet Nam   \n",
       "4  NY.GDP.MKTP.KD.ZG  GDP growth (annual %)         VN      Viet Nam   \n",
       "\n",
       "  countryiso3code  date     value  unit  obs_status  decimal  \n",
       "0             VNM  2024  7.091187   NaN         NaN        1  \n",
       "1             VNM  2023  5.065024   NaN         NaN        1  \n",
       "2             VNM  2022  8.537500   NaN         NaN        1  \n",
       "3             VNM  2021  2.553729   NaN         NaN        1  \n",
       "4             VNM  2020  2.865413   NaN         NaN        1  "
      ]
     },
     "execution_count": 28,
     "metadata": {},
     "output_type": "execute_result"
    }
   ],
   "source": [
    "df_gdp_growth.head()"
   ]
  },
  {
   "cell_type": "code",
   "execution_count": null,
   "id": "5e4580f0",
   "metadata": {},
   "outputs": [],
   "source": [
    "df_gdp_growth.info()"
   ]
  },
  {
   "cell_type": "code",
   "execution_count": null,
   "id": "52c7c9ed",
   "metadata": {},
   "outputs": [],
   "source": [
    "df_gdp_growth.isnull().sum()"
   ]
  },
  {
   "cell_type": "code",
   "execution_count": 29,
   "id": "ca930305",
   "metadata": {},
   "outputs": [
    {
     "data": {
      "text/plain": [
       "value          38.461538\n",
       "unit          100.000000\n",
       "obs_status    100.000000\n",
       "dtype: float64"
      ]
     },
     "execution_count": 29,
     "metadata": {},
     "output_type": "execute_result"
    }
   ],
   "source": [
    "# Tỷ lệ phần trăm giá trị thiếu\n",
    "missing_percent = df_gdp_growth.isnull().sum() / len(df_gdp_growth) * 100\n",
    "missing_percent[missing_percent > 0]"
   ]
  },
  {
   "cell_type": "code",
   "execution_count": null,
   "id": "4eff790b",
   "metadata": {},
   "outputs": [],
   "source": [
    "df_cpi_yoy.head()"
   ]
  },
  {
   "cell_type": "code",
   "execution_count": null,
   "id": "4904c123",
   "metadata": {},
   "outputs": [],
   "source": [
    "df_cpi_yoy.info()"
   ]
  },
  {
   "cell_type": "code",
   "execution_count": null,
   "id": "1216f55e",
   "metadata": {},
   "outputs": [],
   "source": [
    "df_cpi_yoy.isna().sum()"
   ]
  },
  {
   "cell_type": "code",
   "execution_count": 30,
   "id": "9983f469",
   "metadata": {},
   "outputs": [
    {
     "data": {
      "text/plain": [
       "value          53.846154\n",
       "unit          100.000000\n",
       "obs_status    100.000000\n",
       "dtype: float64"
      ]
     },
     "execution_count": 30,
     "metadata": {},
     "output_type": "execute_result"
    }
   ],
   "source": [
    "# Tỷ lệ phần trăm giá trị thiếu\n",
    "missing_percent = df_cpi_yoy.isnull().sum() / len(df_cpi_yoy) * 100\n",
    "missing_percent[missing_percent > 0]"
   ]
  },
  {
   "cell_type": "code",
   "execution_count": null,
   "id": "72a60cd3",
   "metadata": {},
   "outputs": [],
   "source": [
    "df_cpi_index.head()"
   ]
  },
  {
   "cell_type": "code",
   "execution_count": null,
   "id": "d8d6f20f",
   "metadata": {},
   "outputs": [],
   "source": [
    "df_cpi_index.info()"
   ]
  },
  {
   "cell_type": "code",
   "execution_count": null,
   "id": "64790207",
   "metadata": {},
   "outputs": [],
   "source": [
    "df_cpi_index.isna().sum()"
   ]
  },
  {
   "cell_type": "code",
   "execution_count": 31,
   "id": "1c2c0a9b",
   "metadata": {},
   "outputs": [
    {
     "data": {
      "text/plain": [
       "value          53.846154\n",
       "unit          100.000000\n",
       "obs_status    100.000000\n",
       "dtype: float64"
      ]
     },
     "execution_count": 31,
     "metadata": {},
     "output_type": "execute_result"
    }
   ],
   "source": [
    "# Tỷ lệ phần trăm giá trị thiếu\n",
    "missing_percent = df_cpi_index.isnull().sum() / len(df_cpi_index) * 100\n",
    "missing_percent[missing_percent > 0]"
   ]
  },
  {
   "cell_type": "code",
   "execution_count": null,
   "id": "a3902488",
   "metadata": {},
   "outputs": [],
   "source": [
    "df_fdi_inflow.head()"
   ]
  },
  {
   "cell_type": "code",
   "execution_count": null,
   "id": "6b72fa6e",
   "metadata": {},
   "outputs": [],
   "source": [
    "df_fdi_inflow.info()"
   ]
  },
  {
   "cell_type": "code",
   "execution_count": null,
   "id": "13d9a55a",
   "metadata": {},
   "outputs": [],
   "source": [
    "df_fdi_inflow.isna().sum()"
   ]
  },
  {
   "cell_type": "code",
   "execution_count": 32,
   "id": "5c6d9a8c",
   "metadata": {},
   "outputs": [
    {
     "data": {
      "text/plain": [
       "value          15.384615\n",
       "unit          100.000000\n",
       "obs_status    100.000000\n",
       "dtype: float64"
      ]
     },
     "execution_count": 32,
     "metadata": {},
     "output_type": "execute_result"
    }
   ],
   "source": [
    "# Tỷ lệ phần trăm giá trị thiếu\n",
    "missing_percent = df_fdi_inflow.isnull().sum() / len(df_fdi_inflow) * 100\n",
    "missing_percent[missing_percent > 0]"
   ]
  }
 ],
 "metadata": {
  "kernelspec": {
   "display_name": "Python 3",
   "language": "python",
   "name": "python3"
  },
  "language_info": {
   "codemirror_mode": {
    "name": "ipython",
    "version": 3
   },
   "file_extension": ".py",
   "mimetype": "text/x-python",
   "name": "python",
   "nbconvert_exporter": "python",
   "pygments_lexer": "ipython3",
   "version": "3.12.3"
  }
 },
 "nbformat": 4,
 "nbformat_minor": 5
}
